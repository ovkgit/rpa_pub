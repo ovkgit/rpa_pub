{
 "cells": [
  {
   "cell_type": "markdown",
   "metadata": {},
   "source": [
    "# 12. Получение данных с сайтов"
   ]
  },
  {
   "cell_type": "markdown",
   "metadata": {},
   "source": [
    "## Вступление"
   ]
  },
  {
   "cell_type": "markdown",
   "metadata": {},
   "source": [
    "В этом уроке используется библиотека Selenium. Для стабильной работы этой библиотеки скачайте этот файл себе на компьютер и установите Selenium локально."
   ]
  },
  {
   "cell_type": "markdown",
   "metadata": {},
   "source": [
    "## 1. Цели парсинга"
   ]
  },
  {
   "cell_type": "markdown",
   "metadata": {},
   "source": [
    "Парсинг - это извлечение неструктурированной информации с различных интернет-ресурсов и сохранение ее в структурированном, пригодном для дальнейшего автоматизированного использования, виде.\n",
    "\n",
    "Именно в преобразовании данных в структурированный вид состоит основное отличие от программ, которые умеют скачивать сайты целиком.\n",
    "\n",
    "Парсинг может использоваться при решении массы бизнес-задач.\n",
    "Самое распространенное - это мониторинг изменения цен и наличия товаров у поставщика или конкурентов. \n",
    "\n",
    "На втором по популярности месте - получение каталогов продукции с сайта интернет-магазина и превращение его в структурированный документ.\n",
    "\n",
    "На третьем месте выкачивание контактных данных.\n",
    "\n",
    "Возможен вариант с объединением множества поисковых запросов в один результат. Например, при поиске объявлений о продаже недвижимости. Парсер избавит от необходимости многократно заполнять фильтры и просматривать результаты по-отдельности.\n",
    "\n",
    "Еще распространенные варианты:\n",
    "- Получение данных для анализа рынка\n",
    "- Поиск новых (а не поднятых) объявлений или резюме\n",
    "- Поиск новинок на интернет-аукционах\n",
    "- Получение информации из соцсетей - списки друзей/подписчиков"
   ]
  },
  {
   "cell_type": "markdown",
   "metadata": {},
   "source": [
    "## 2. Юридические и технические ограничения"
   ]
  },
  {
   "cell_type": "markdown",
   "metadata": {},
   "source": [
    "Законами России парсинг не запрещен. Запрещен взлом, выведение информационных ресурсов из строя, воровство интеллектуальной собственности (авторского контента). Сам по себе грамотно сделанный парсинг не является ничем из названного, значит он не запрещен.\n",
    "\n",
    "При парсинге мы получаем доступ к той информации, которая открыто размещена на сайте и доступна всем посетителям. Дальнейшие действия с текстовой информацией, например ее публикация без указания авторства, может попадать под статьи закона о нарушении авторских прав, поэтому следует проявлять осмотрительность при использовании текстов.\n",
    "\n",
    "С технической точки зрения все сложнее.\n",
    "Следует помнить, что любой посетитель на сайте создает нагрузку на информационную инфраструктуру, веб-сервер и базу данных.\n",
    "Но люди большую часть времени не загружают информацию, а читают то, что уже отобразилось на странице браузера. Поэтому они создают ничтожно малую нагрузку. Парсер наоборот, не тратит время на чтение, получив страницу он готов перейти к следующей. Поэтому не следует скачивать данные с максимальной скоростью, нужно делать паузы между загрузками.\n",
    "\n",
    "Некоторые сайты борются с парсерами и банят IP-адреса, с которых идет слишком большой поток запросов. У каждого сайта свои критерии что значит “слишком большой”. Как показывает практика, большинство сайтов спокойно относится к режиму, при котором между загрузками стоит пауза 5 секунд.\n",
    "\n",
    "Также следует учитывать, что некоторые запросы могут стоит хозяевам сайта не только дополнительной нагрузки на сервер, но и живых денег. Например, при поиске авиабилетов при каждом запросе идет обращение к международным системам бронирования и эти запросы платные. Так что кроме технических ограничений могут быть еще и моральные.\n"
   ]
  },
  {
   "cell_type": "markdown",
   "metadata": {},
   "source": [
    "## 3. Получение результатов запроса"
   ]
  },
  {
   "cell_type": "markdown",
   "metadata": {},
   "source": [
    "Для получения данных с сайта можно воспользоваться как библиотекой requests, так и Selenium.\n",
    "Как выбрать?\n",
    "Ответ прост - если сайт нормально загружается при помощи requests, то следует использовать именно его.\n",
    "Selenium работает медленнее, потребляет больше ресурсов.\n",
    "\n",
    "Он нужен там, где:\n",
    "Требуется интерактивное взаимодействие с сайтом (ввод пароля, заполнение форм)\n",
    "На сайте используется технология AJAX, т.е. части содержимого страницы могут меняться без нажатия кнопки “Обновить страницу”\n",
    "\n",
    "Как вы уже знаете, библиотека requests возвращает нам запрошенный HTML, который разбирается предназначенной для этого библиотекой (например lxml). \n",
    "\n",
    "У Selenium уже есть методы для манипуляций с полученной информацией, но они работают медленно, а при парсинге 1000 страниц даже задержка в пару секунд на каждой из них заставит потерять более получаса времени.\n",
    "\n",
    "Поэтому, если для получения данных используется Selenium, для работы с полученным HTML следует использовать специальные библиотеки.\n",
    "\n",
    "\n",
    "webDrv.get('адрес сайта') # Получаем данные с сайта\n",
    "\n",
    "sHTML = webDrv.page_source # Записываем в переменную текст исходного кода страницы"
   ]
  },
  {
   "cell_type": "markdown",
   "metadata": {},
   "source": [
    "## 4. Парсинг HTML"
   ]
  },
  {
   "cell_type": "markdown",
   "metadata": {},
   "source": [
    "lxml - быстрая, скромная по потребностям памяти и постоянно развивающаяся библиотека для разбора XML и HTML. \n",
    "\n",
    "На сайте https://lxml.de/lxmlhtml.html можно получить полную информацию по ней. Она заняла достойное место в тесте библиотек для парсинга (https://habr.com/ru/post/163979/)\n",
    "\n",
    "Устанавливается двумя командами"
   ]
  },
  {
   "cell_type": "code",
   "execution_count": null,
   "metadata": {},
   "outputs": [],
   "source": [
    "! pip3 install lxml"
   ]
  },
  {
   "cell_type": "code",
   "execution_count": null,
   "metadata": {},
   "outputs": [],
   "source": [
    "! pip3 install cssselect"
   ]
  },
  {
   "cell_type": "code",
   "execution_count": null,
   "metadata": {},
   "outputs": [],
   "source": [
    "# Подключение библиотеки \n",
    "import lxml.html as html\n",
    "\n",
    "# Непосредственно парсинг\n",
    "# Разбор HTML-текста, результат - объект типа lxml.html.HtmlElement\n",
    "doc = html.document_fromstring('<a href=\"https://yandex.ru/\">My <b>first</b> link</a>')\n",
    "\n",
    "# Удобно сразу же превратить относительные ссылки в абсолютные. Иначе придется помнить про относительность ссылок и дополнять их при каждом использовании.\n",
    "# Преобразование относительных ссылок внутри документа в абсолютные\n",
    "doc.make_links_absolute('https://yandex.ru/')\n",
    "tags = doc.cssselect('*')\n",
    "\n",
    "# Выводим все тэги на экран\n",
    "for t in tags:\n",
    "    print(html.tostring(t))"
   ]
  },
  {
   "cell_type": "markdown",
   "metadata": {},
   "source": [
    "## 4. Элементы HTML. Немного теории"
   ]
  },
  {
   "cell_type": "markdown",
   "metadata": {},
   "source": [
    "Любая страница сайта состоит из HTML-элементов. Элементы делятся на два типа: элементы-контейнеры и пустые элементы.\n",
    "Элементы-контейнеры влияют на форматирование контента, находящегося внутри них. Эти элементы описываются двумя тэгами, начальным (открывающим) и конечным (закрывающим).\n",
    "\n",
    "Пример:\n",
    "&lt;h1>Это самый крупный из заголовков&lt;/h1>\n",
    "\n",
    "где &lt;h1> - начальный тэг\n",
    "&lt;/h1> - конечный тэг"
   ]
  },
  {
   "cell_type": "markdown",
   "metadata": {},
   "source": [
    "Пустые элементы не влияют на форматирование. Эти элементы добавляют на страницу какой-либо объект, например горизонтальную черту (элемент &lt;hr>).\n",
    "\n",
    "Пример:\n",
    "Текст до черты &lt;hr>Текст после черты"
   ]
  },
  {
   "cell_type": "markdown",
   "metadata": {},
   "source": [
    "Текст до черты <hr>Текст после черты"
   ]
  },
  {
   "cell_type": "markdown",
   "metadata": {},
   "source": [
    "Элементы могут быть вложены друг в друга (например, слово написанное курсивом входит в состав абзаца)\n",
    "\n",
    "Пример:\n",
    "&lt;p>Эта фраза содержит &lt;i>слово&lt;/i> написанное курсивом &lt;/p>"
   ]
  },
  {
   "cell_type": "markdown",
   "metadata": {},
   "source": [
    "В начальном тэге могут содержаться атрибуты, расширяющие его возможности. Для атрибута указывается имя и значение, между которыми ставится знак равно (=). Значение заключается в кавычки\n",
    "\n",
    "Пример:\n",
    "  &lt;p align=”center”>Текст выровненный по центру&lt;/p>  \n",
    " - &lt;p> - начальный тэг\n",
    " - &lt;/p> - конечный тэг\n",
    " - align - атрибут\n",
    " - center - значение атрибута align\n",
    "\n",
    "У тэга может быть несколько атрибутов одновременно, порядок их указания не имеет значения.\n",
    "У атрибута может быть несколько значений, они отделяются пробелами.\n",
    "\n",
    "Пример:\n",
    "  &lt;p id=”main” align=”center” title=”мой текст” class=”MyClass1 MyClass2 OtherClass”>Текст&lt;/p>  \n",
    "  \n",
    " - &lt;p> - начальный тэг\n",
    " - &lt;/p> - конечный тэг\n",
    " - id - атрибут\n",
    " - main - значение атрибута id\n",
    " - align - атрибут\n",
    " - center - значение атрибута align\n",
    " - title - атрибут\n",
    " - мой текст - значение атрибута title \n",
    " - class - атрибут\n",
    " - MyClass1, MyClass2, OtherClass - значения атрибута class "
   ]
  },
  {
   "cell_type": "markdown",
   "metadata": {},
   "source": [
    "## 6. Навигация по lxml.html.HtmlElement"
   ]
  },
  {
   "cell_type": "markdown",
   "metadata": {},
   "source": [
    "Итак, мы разобрали HTML, получили объект lxml.html.HtmlElement. Теперь нужно научится искать в нем нужные нам элементы.\n",
    "Поиск возможен по тэгам и атрибутам. Некоторые (наиболее важные параметры - класс, ID) выделены в отдельные категории и поиск по ним максимально упрощен.\n",
    "\n",
    "Для поиска элементов используется CSS Selector - нечто похожее на регулярные выражения.\n",
    "\n",
    "Пример:\n",
    "\n",
    "doc.cssselect('a') # Возвращает список ссылок из всего документа\n"
   ]
  },
  {
   "cell_type": "markdown",
   "metadata": {},
   "source": [
    "<table class=\"table table-striped table-bordered\">\n",
    "<thead>\n",
    "    <tr><th>CSS селектор</th><th>Пример</th><th>Описание</th></tr>\n",
    "</thead>\n",
    "<tr><td>Name</td><td>MyName1 </td><td>Выбирает все элементы с именем MyName1 (class=\"MyName1\").</td></tr>\n",
    "<tr><td>.class</td><td>.MyClass1</td><td>Выбирает все элементы с классом MyClass1 (class=\"MyClass1\").</td></tr>\n",
    "<tr><td>#id</td><td>#main</td><td>Выбирает элемент с идентификатором main (id=\"main\").</td></tr>\n",
    "<tr><td>*</td><td>*</td><td>Выбор всех элементов.</td></tr>\n",
    "<tr><td>элемент</td><td>span</td><td>Выбор всех элементов <span>.</td></tr>\n",
    "<tr><td>элемент,элемент</td><td>div,span</td><td>Выбор всех элементов <div> и всех элементов <span>.</td></tr>\n",
    "<tr><td>[атрибут]</td><td>[title]</td><td>Выбирает все элементы с заданным атрибутом title.</td></tr>\n",
    "<tr><td>[атрибут=\"значение\"]</td><td>[title=\"мой текст\"]</td><td>Выбирает все элементы с атрибутом title, значение которого в точности совпадает со значением указанным в селекторе (title=\"мой текст\").</td></tr>\n",
    "<tr><td>[атрибут~=\"значение\"]</td><td>[title~=\"мой\"]</td><td>Выбирает все элементы с атрибутом title, в значении которого (в любом месте) встречается подстрока (в виде отдельного слова, отделенного пробелами) \"мой\" (title=\"мой и чужой\").</td></tr>\n",
    "\"<tr><td>[атрибут|=\"\"значение\"\"]</td><td>[title|=\"мой\"]</td><td>Выбор всех элементов с атрибутом title, значение которого начинается со слова \"\"мой\"\".\n",
    "Внимание: Отличие от конструкции “|=” - значение может быть не только отдельным словом, но и частью слова.</td></tr>\"\n",
    "<tr><td>[атрибут^=\"значение\"]</td><td>p[title^=\"мой\"]</td><td>Выбор каждого элемента <p> с атрибутом title, значение которого начинается с \"мой\".</td></tr>\n",
    "<tr><td>[атрибут&#36;=\"значение\"]</td><td>[title$=\"текст\"]</td><td>Выбирает все элементы с атрибутом title, значение которого оканчивается на \"текст\" (title=\"мой текст\").</td></tr>\n",
    "\"<tr><td>[атрибут*=\"\"значение\"\"]</td><td>[title*=\"\"оди\"\"]</td><td>Выбирает все элементы с атрибутом title, в значении которого (в любом месте) встречается подстрока (в виде отдельного слова или его части) \"оди\" \n",
    "Внимание: Отличие от конструкции “~=” - значение может быть не только отдельным словом, но и частью слова.</td></tr>\"\n",
    "\"<tr><td>:contains(\"\"значение\"\")</td><td>div:contains(\"один\")</td><td>Выбирает все элементы, в тексте которых встречается подстрока (в виде отдельного слова или его части) \"один\". \n",
    "Именно в тексте, а не в атрибутах</td></tr>\n",
    "</table>"
   ]
  },
  {
   "cell_type": "markdown",
   "metadata": {},
   "source": [
    "Простые CSS селекторы можно объединять в сложные используя комбинаторы, которые указывают связь между простыми селекторами. "
   ]
  },
  {
   "cell_type": "markdown",
   "metadata": {},
   "source": [
    "<table class=\"table table-striped table-bordered\">\n",
    "<thead>\n",
    "    <tr><th>Комбинатор</th><th>Пример</th><th>Описание</th></tr>\n",
    "</thead>\n",
    "<tr><td>элемент элемент</td><td>div p</td><td>Выбор всех элементов &lt;p> внутри &lt;div>.</td></tr>\n",
    "<tr><td>элемент>элемент</td><td>div>p</td><td>Выбирает все дочерние элементы &lt;p>, у которых родитель - элемент &lt;div>.</td></tr>\n",
    "<tr><td>элемент+элемент</td><td>div+p</td><td>Выбирает все элементы &lt;p>, которые расположены сразу после элементов &lt;div>.</td></tr>\n",
    "<tr><td>элемент1~элемент2</td><td>p~div</td><td>Выбор всех элементов &lt;div>, которым предшествует элемент &lt;p>.</td></tr>\n",
    "</table>"
   ]
  },
  {
   "cell_type": "markdown",
   "metadata": {},
   "source": [
    "Немного примеров на основе HTML "
   ]
  },
  {
   "cell_type": "code",
   "execution_count": null,
   "metadata": {},
   "outputs": [],
   "source": [
    "htmlText = '''\n",
    "<label class=\"MyClass\">Картинки для тестов</label>\n",
    "    <div>\n",
    "        <img id=\"pic1\" width=\"310px\" src=\"https://upload.wikimedia.org/wikipedia/commons/a/a2/Python_royal_35.JPG\" \n",
    "                class=\"img-thumbnail MyClass\" title=\"Королевский питон (Python regius)\">\n",
    "    </div>\n",
    "        <img id=\"pic2\" width=\"300px\" src=\"https://upload.wikimedia.org/wikipedia/commons/0/05/HONDA_ASIMO.jpg\" \n",
    "                class=\"img-circle\" title=\"Робот-андроид ASIMO\">\n",
    "        '''"
   ]
  },
  {
   "cell_type": "markdown",
   "metadata": {},
   "source": [
    "Вот что этот HTML из себя представляет"
   ]
  },
  {
   "cell_type": "code",
   "execution_count": null,
   "metadata": {},
   "outputs": [],
   "source": [
    "from IPython.core.display import display, HTML\n",
    "display(HTML(htmlText))"
   ]
  },
  {
   "cell_type": "code",
   "execution_count": null,
   "metadata": {},
   "outputs": [],
   "source": [
    "# Подключение библиотеки \n",
    "import lxml.html as html\n",
    "\n",
    "\n",
    "doc = html.document_fromstring(htmlText)\n",
    "elList = doc.cssselect('img') # Поиск по тэгу \n",
    "len(elList) # находим 2 элемента\n"
   ]
  },
  {
   "cell_type": "code",
   "execution_count": null,
   "metadata": {},
   "outputs": [],
   "source": [
    "elList = doc.cssselect('.MyClass') # Поиск по классу\n",
    "len(elList) # находим 2 элемента"
   ]
  },
  {
   "cell_type": "code",
   "execution_count": null,
   "metadata": {},
   "outputs": [],
   "source": [
    "elList = doc.cssselect('img.MyClass') # Поиск по тэгу и классу одновременно\n",
    "len(elList) # находим 1 элемент"
   ]
  },
  {
   "cell_type": "code",
   "execution_count": null,
   "metadata": {},
   "outputs": [],
   "source": [
    "elList = doc.cssselect('div img') # Поиск по тэгу внутри другого тэга\n",
    "len(elList) # находим 1 элемент"
   ]
  },
  {
   "cell_type": "code",
   "execution_count": null,
   "metadata": {},
   "outputs": [],
   "source": [
    "elList = doc.cssselect('div .MyClass') # Поиск по классу внутри тэга\n",
    "len(elList) # находим 1 элемент"
   ]
  },
  {
   "cell_type": "code",
   "execution_count": null,
   "metadata": {},
   "outputs": [],
   "source": [
    "elList = doc.cssselect('#pic1') # Поиск по ID\n",
    "len(elList) # находим 1 элемент"
   ]
  },
  {
   "cell_type": "code",
   "execution_count": null,
   "metadata": {},
   "outputs": [],
   "source": [
    "elList = doc.cssselect('[width=\"310px\"]') # Поиск по значению атрибута\n",
    "len(elList) # находим 1 элемент"
   ]
  },
  {
   "cell_type": "code",
   "execution_count": null,
   "metadata": {},
   "outputs": [],
   "source": [
    "elList = doc.cssselect('#pic789') # Поиск по ID\n",
    "len(elList) # ничего не найдено"
   ]
  },
  {
   "cell_type": "markdown",
   "metadata": {},
   "source": [
    "CSS Селектор всегда возвращает массив элементов. \n",
    "Если не найдено ни одного элемента - это будет пустой массив (не None!).\n",
    "Если найден только один элемент - это будет массив из одного элемента. Обратится к нему можно по индексу 0 (elList[0])."
   ]
  },
  {
   "cell_type": "markdown",
   "metadata": {},
   "source": [
    "## 7. Получение данных из элементов"
   ]
  },
  {
   "cell_type": "markdown",
   "metadata": {},
   "source": [
    "После поиска при помощи CSS Селектора проще и безопасней всего перебрать найденные элементы в цикле IN. \n",
    "Безопаснее - потому что поиск может не найти ни одного элемента по заданному запросу, тогда попытка обратится к элементу массива по номеру вызовет ошибку.\n",
    "\n",
    "Проще - потому что не нужно проверять длину массива.\n",
    "\n",
    "Чтобы получить текст элемента нужно использовать функцию text_content(). Если элемент не содержит текста, она вернет None.\n",
    "\n",
    "Этот пример выведет нам текст из label:"
   ]
  },
  {
   "cell_type": "code",
   "execution_count": null,
   "metadata": {},
   "outputs": [],
   "source": [
    "elList = doc.cssselect('label')  \n",
    "for el in elList : \n",
    "    print(el.text_content())\n"
   ]
  },
  {
   "cell_type": "markdown",
   "metadata": {},
   "source": [
    "Чтобы получить значения атрибутов элемента нужно использовать get(). Если элемент не имеет такого атрибута, она вернет None."
   ]
  },
  {
   "cell_type": "code",
   "execution_count": null,
   "metadata": {},
   "outputs": [],
   "source": [
    "elList = doc.cssselect('img')  \n",
    "for el in elList : \n",
    "    print(el.get('src'))    \n",
    "    print(el.get('alt'))    \n",
    "    print(el.get('title'))    \n",
    "    print('----------------')"
   ]
  },
  {
   "cell_type": "markdown",
   "metadata": {},
   "source": [
    "Как видим, атрибут alt не задан, и его значение None."
   ]
  },
  {
   "cell_type": "markdown",
   "metadata": {},
   "source": [
    "Иногда бывает удобно найти определенный элемент, но взять данные нужно их элемента следующего за ним.\n",
    "\n",
    "Например, удобно найти заголовок с определенным классом и взять данные из абзаца, который расположен после него. Для этого используется функция getnext()"
   ]
  },
  {
   "cell_type": "code",
   "execution_count": null,
   "metadata": {},
   "outputs": [],
   "source": [
    "import lxml.html as html\n",
    "htmlText2 = '<div><h1 class=\"MyClass1\">Текст заголовка</h1><p class=\"MyClass2\">Текст абзаца</p></div>'\n",
    "doc2 = html.document_fromstring(htmlText2)\n",
    "elList = doc2.cssselect('.MyClass1')  \n",
    "el = elList[0].getnext()\n",
    "print(el.text_content())"
   ]
  },
  {
   "cell_type": "markdown",
   "metadata": {},
   "source": [
    "Для обратной операции (получение предшествующего элемента) служит функция getprevious()"
   ]
  },
  {
   "cell_type": "markdown",
   "metadata": {},
   "source": [
    "Еще возможная ситуация - нужно найти родительский элемент (абзац), содержащий текст, оформленный с использованием определенного класса. Для этого используется функция getparent()\n",
    "\n",
    "Например, удобно найти заголовок с определенным классом и взять данные из абзаца, который расположен после него."
   ]
  },
  {
   "cell_type": "code",
   "execution_count": null,
   "metadata": {},
   "outputs": [],
   "source": [
    "import lxml.html as html\n",
    "htmlText2 = '''<p>Текст предыдущего абзаца.</p> \n",
    "    <p>Компания ООО Ромашка <span class=\"MyClass2\">выиграла</span> торги по аукциону №789</p>. <p>Еще текст</p>'''\n",
    "doc2 = html.document_fromstring(htmlText2)\n",
    "elList = doc2.cssselect('.MyClass2')  \n",
    "el = elList[0].getparent()\n",
    "print(el.text_content())"
   ]
  },
  {
   "cell_type": "markdown",
   "metadata": {},
   "source": [
    "## 8. Закрепление информации. Шаг 1. Получаем список ссылок с главной страницы Яндекса"
   ]
  },
  {
   "cell_type": "code",
   "execution_count": null,
   "metadata": {},
   "outputs": [],
   "source": [
    "import requests\n",
    "import lxml.html as html\n",
    "\n",
    "htmlText = requests.get('https://yandex.ru/').text  # Получаем текст страницы\n",
    "doc = html.document_fromstring(htmlText)  # Разбираем текст\n",
    "doc.make_links_absolute('https://yandex.ru') # Преобразовываем относительные ссылки в абсолютные\n",
    "elList = doc.cssselect('a')  # Ищем все ссылки\n",
    "for el in elList :  # Перебираем найденное в цикле\n",
    "    print(el.get('href'))    # Выводим URL ссылки\n",
    "    print(el.text_content()) # Выводим текст ссылки, видимый пользователю\n",
    "    print('') # Добавляем пустую строку, чтобы визуально разделить ссылки между собой\n"
   ]
  },
  {
   "cell_type": "markdown",
   "metadata": {},
   "source": [
    "##### Задание для самостоятельного выполнения:"
   ]
  },
  {
   "cell_type": "markdown",
   "metadata": {},
   "source": [
    "    - Выведите список картинок, со страницы https://yandex.ru (атрибуты src и alt)."
   ]
  },
  {
   "cell_type": "markdown",
   "metadata": {},
   "source": [
    "## 9. Закрепление информации. Шаг 2. Получаем список щелочных металлов из Википедии"
   ]
  },
  {
   "cell_type": "markdown",
   "metadata": {},
   "source": [
    "Для начала зайдем на страницу https://ru.wikipedia.org/wiki/Щелочные_металлы и найдем нужную нам таблицу."
   ]
  },
  {
   "cell_type": "markdown",
   "metadata": {},
   "source": [
    "<img src=\"img/Task12_01.png\">"
   ]
  },
  {
   "cell_type": "markdown",
   "metadata": {},
   "source": [
    "Нажмем F12 и выберем нужную нам таблицу. Обычно, самый удобный способ - это кликнуть мышкой на правом нижнем углу таблицы.\n",
    "Видим что это HTML-таблица (тэг table) c классом wikitable. CSS Скелектор для нее - 'table.wikitable'."
   ]
  },
  {
   "cell_type": "markdown",
   "metadata": {},
   "source": [
    "<img src=\"img/Task12_02.png\">"
   ]
  },
  {
   "cell_type": "markdown",
   "metadata": {},
   "source": [
    "Сколько всего таких таблиц на странице?"
   ]
  },
  {
   "cell_type": "code",
   "execution_count": null,
   "metadata": {},
   "outputs": [],
   "source": [
    "import requests\n",
    "import lxml.html as html\n",
    "\n",
    "htmlText = requests.get('https://ru.wikipedia.org/wiki/Щелочные_металлы').text  \n",
    "doc = html.document_fromstring(htmlText)   \n",
    "elTables = doc.cssselect('table.wikitable')   \n",
    "print(len(elTables))"
   ]
  },
  {
   "cell_type": "markdown",
   "metadata": {},
   "source": [
    "Отлично, у нас только одна такая таблица на странице, значит к ней можно будет обращаться как к элементу массива с номером ноль.\n",
    "\n",
    "Таблица состоит из строк (тэг tr), а каждая строка из колонок (тэг td).<br/>\n",
    "Т.к. в первой строке находятся заголовки, мы ее пропустим.<br/>\n",
    "Чтобы начать цикл по строкам не с первой строки, используем не уже ставшую привычной нам  конструкцию цикла for...in, а цикл while."
   ]
  },
  {
   "cell_type": "code",
   "execution_count": null,
   "metadata": {},
   "outputs": [],
   "source": [
    "import requests\n",
    "import lxml.html as html\n",
    "\n",
    "htmlText = requests.get('https://ru.wikipedia.org/wiki/Щелочные_металлы').text   \n",
    "doc = html.document_fromstring(htmlText)   \n",
    "doc.make_links_absolute('https://ru.wikipedia.org') \n",
    "elTables = doc.cssselect('table.wikitable')  # Ищем таблицы нужного нам класса  \n",
    "elRows = elTables[0].cssselect('tr') # Берем первую из найденных и разбираем на строки\n",
    "\n",
    "i = 1  # Начинаем цикл со второй строки (0 - индекс первой строки, 1 - индекс второй строки)\n",
    "while i < len(elRows):\n",
    "    r = elRows[i]  # Получаем строку таблицы из массива\n",
    "    elCols = r.cssselect('td') # Разбираем ее на колонки\n",
    "    print(elCols[0].text_content().strip(), ', ', elCols[1].text_content().strip(), sep='') # Выводим первые две ячейки          \n",
    "    i = i + 1 # Увеличиваем индекс на 1 (переход к новой строке)\n"
   ]
  },
  {
   "cell_type": "markdown",
   "metadata": {},
   "source": [
    "Вы заметили, что использован код .text_content().strip(), а не просто .text_content()?<br/>\n",
    "Это связано с тем, что html-текст может содержать в себе невидимые символы, например перевод строки или несколько пробелов в конце строки, которые нам не нужны. Функция strip() их удаляет."
   ]
  },
  {
   "cell_type": "markdown",
   "metadata": {},
   "source": [
    "##### Задания для самостоятельного выполнения: "
   ]
  },
  {
   "cell_type": "markdown",
   "metadata": {},
   "source": [
    "- Выведите после названия элемента его атомную массу (колонка 4 из таблицы). Внимание. У элемента Унуненний нет колонки 4!\n",
    "- Представьте ситуацию, что дизайн страницы изменился и теперь на ней нет таблицы 'table.wikitable'. Добавьте в код обработку этой ситуации."
   ]
  },
  {
   "cell_type": "markdown",
   "metadata": {},
   "source": [
    "## 10. Закрепление информации. Шаг 3. Получаем список ссылок при помощи Selenium"
   ]
  },
  {
   "cell_type": "markdown",
   "metadata": {},
   "source": [
    "Некоторые сайты защищаются от роботов и при обращении через библиотеку requests вместо содержимого страницы возвращают код “404 Страница не найдена”.<br/>\n",
    "В этом можно убедится, если зайти на страницу http://zakupki.gov.ru/epz/order/extendedsearch/results.html в браузере, а потом запустить скрипт\n"
   ]
  },
  {
   "cell_type": "code",
   "execution_count": null,
   "metadata": {},
   "outputs": [],
   "source": [
    "import requests\n",
    "\n",
    "print(requests.get('http://zakupki.gov.ru/epz/order/extendedsearch/results.html').status_code) "
   ]
  },
  {
   "cell_type": "markdown",
   "metadata": {},
   "source": [
    "Браузер отобразит корректный вид страницы, а скрипт вернет ошибку 404.\n",
    "\n",
    "Чтобы обойти эту форму защиты, следует использовать Selenium."
   ]
  },
  {
   "cell_type": "markdown",
   "metadata": {},
   "source": [
    "Запускаем установку библиотеки"
   ]
  },
  {
   "cell_type": "code",
   "execution_count": null,
   "metadata": {},
   "outputs": [],
   "source": [
    "!pip3 install selenium"
   ]
  },
  {
   "cell_type": "markdown",
   "metadata": {},
   "source": [
    "Потом нужно скачать со страницы http://chromedriver.chromium.org/ последнюю версию ChromeDriver для вашей операционной системы и положить его в папку с файлом \"12. Получение данных с сайтов.ipynb\""
   ]
  },
  {
   "cell_type": "markdown",
   "metadata": {},
   "source": [
    "Проверим доступ через Selenium."
   ]
  },
  {
   "cell_type": "code",
   "execution_count": null,
   "metadata": {},
   "outputs": [],
   "source": [
    "from selenium import webdriver # Подключаем библиотеку\n",
    "import lxml.html as html\n",
    "\n",
    "driver = webdriver.Chrome( ) # запускаем браузер\n",
    "\n",
    "driver.get('http://zakupki.gov.ru/epz/order/extendedsearch/results.html')  # Загружаем страницу\n",
    "htmlText = driver.page_source  # Получаем текст страницы\n",
    "doc = html.document_fromstring(htmlText)  # Разбираем текст\n",
    "doc.make_links_absolute('http://zakupki.gov.ru') # Преобразовываем относительные ссылки в абсолютные"
   ]
  },
  {
   "cell_type": "code",
   "execution_count": null,
   "metadata": {},
   "outputs": [],
   "source": [
    "elList = doc.cssselect('a')  # Ищем все ссылки \n",
    "for el in elList :  # Перебираем найденное в цикле\n",
    "    print(el.text_content().strip().replace('\\n', ''))    # Выводим текст ссылки\n",
    "    print(el.get('href'))    # Выводим URL ссылки\n",
    "    print('------------') \n",
    "driver.close()  # Закрываем браузер\n",
    "driver.quit()   # Выходим из selenium"
   ]
  },
  {
   "cell_type": "markdown",
   "metadata": {},
   "source": [
    "Как было сказано выше, Selenium не следует применять для работы с HTML-элементами, т.к. скорость операций будет чрезвычайно низкой. Оптимальный вариант - получить код страницы через Selenium, а разбирать его при помощи библиотеки lxml.\n",
    "\n",
    "Вы заметили, что не все из выведенных ссылок действительно являются ссылками? У многих выведено None. Это значит, что в ссылке не указан атрибут 'href'. Такая ссылка не ведет на новую страницу, а вызывает javascript."
   ]
  },
  {
   "cell_type": "markdown",
   "metadata": {},
   "source": [
    "##### Задание для самостоятельного выполнения:"
   ]
  },
  {
   "cell_type": "markdown",
   "metadata": {},
   "source": [
    "- Выведите только те ссылки, у которых есть атрибут href. Для выполнения следует пользоваться CSS Селекторами.\n"
   ]
  },
  {
   "cell_type": "markdown",
   "metadata": {},
   "source": [
    "## 11. Чтение основных данных со страницы поиска"
   ]
  },
  {
   "cell_type": "markdown",
   "metadata": {},
   "source": [
    "Переходим к задаче, приближенной к боевой.\n",
    "Прочитаем с сайта zakupki.gov.ru информацию об аукционах Министерства Обороны РФ (ИНН 7704252261), которые размещены в период с 1 по 2 октября 2019 года.\n",
    "Нам нужно получить данные:\n",
    "    - Номер торгов\n",
    "    - Ссылку на страницу аукциона\n",
    "    - Предмет закупки\n",
    "    - С какой цены начались торги\n",
    "    - Какова сумма обеспечения\n",
    "    - Когда размещена информация.\n"
   ]
  },
  {
   "cell_type": "markdown",
   "metadata": {},
   "source": [
    "Первое, что нам нужно сделать - получить ссылку с уже внесенными поисковыми фильтрами.\n",
    "Идем на сайт zakupki.gov.ru, в раздел “Закупки” ( http://zakupki.gov.ru/epz/order/extendedsearch/results.html ), жмем “Все параметры поиска”, заполняем необходимые поля и нажимает “Уточнить результаты”."
   ]
  },
  {
   "cell_type": "markdown",
   "metadata": {},
   "source": [
    "<img src=\"img/Task12_03.png\">"
   ]
  },
  {
   "cell_type": "markdown",
   "metadata": {},
   "source": [
    "Копируем из браузера ссылку, она и будет нашей отправной точкой.<br/>\n",
    "Ссылка: http://zakupki.gov.ru/epz/order/extendedsearch/results.html?morphology=on&pageNumber=1&sortDirection=false&recordsPerPage=_10&showLotsInfoHidden=false&fz44=on&fz223=on&sortBy=UPDATE_DATE&af=on&ca=on&pc=on&pa=on&publishDateFrom=01.10.2019&publishDateTo=02.10.2019&currencyIdGeneral=-1&customerTitle=%D0%9C%D0%98%D0%9D%D0%98%D0%A1%D0%A2%D0%95%D0%A0%D0%A1%D0%A2%D0%92%D0%9E+%D0%9E%D0%91%D0%9E%D0%A0%D0%9E%D0%9D%D0%AB+%D0%A0%D0%9E%D0%A1%D0%A1%D0%98%D0%99%D0%A1%D0%9A%D0%9E%D0%99+%D0%A4%D0%95%D0%94%D0%95%D0%A0%D0%90%D0%A6%D0%98%D0%98&customerCode=01731000045&customerFz94id=727414&contractStageList_0=on&contractStageList_1=on&contractStageList_2=on&contractStageList_3=on&contractStageList=0%2C1%2C2%2C3&contractPriceCurrencyId=-1&extAttSearchEnable=false\n",
    "\n",
    "Алгоритм дальнейших действий таков:\n",
    "    - Выбираем метод скачивания данных - библиотека requests или Selenium\n",
    "    - Анализируем страницу поисковой выдачи.\n",
    "    - Какие из требуемых данных мы можем получить уже отсюда?\n",
    "    - Как осуществляется переход на новую страницу поиска?\n",
    "    - Анализируем страницу конкретного аукциона (товара, услуги или иного искомого элемента).\n",
    "    - Какую информацию, отсутствующую на поисковой странице мы должны взять отсюда?\n",
    "    - Куда сохраняем полученные данные?"
   ]
  },
  {
   "cell_type": "markdown",
   "metadata": {},
   "source": [
    "Как мы уже узнали из предыдущего пункта, для сайта zakupki.gov.ru нужно использовать Selenium.\n",
    "\n",
    "Анализируем поисковую страницу.\n",
    "Наилучший вариант - это когда все данные есть на поисковой странице. Нам не нужно будет открывать, ждать загрузки и разбирать еще 20-40-50-100 страниц для каждой страницы с поисковой выдачей. \n",
    "\n",
    "При скачивании каталогов неконфигурируемых товаров (бытовой техники, например), если нас интересует только название, артикул и цена, можно обойтись загрузкой 20 страниц по 50 товаров на каждой, и не грузить 1000 (20*50) страниц с полным описанием товара.\n",
    "\n",
    "В нашем задании почти все данные можно получить с поисковой страницы, на ней есть все, кроме суммы обеспечения."
   ]
  },
  {
   "cell_type": "markdown",
   "metadata": {},
   "source": [
    "<img src=\"img/Task12_04.png\">"
   ]
  },
  {
   "cell_type": "markdown",
   "metadata": {},
   "source": [
    "Смотрим, как перейти на следующую страницу с результатами поиска. Открывает отладочную консоль в Chrome (жмем F12), включаем режим “Выбор элемента” и нажимаем стрелку, предназначенную для перехода на следующую страницу.\n",
    "\n",
    "Это ссылка (тэг a) с классом paginator-button-next. Адреса ссылки нет, атрибут href содержит вызов javascript. Значит, нам нужно нажимать эту стрелку в Selenium, вызывая функцию click().\n",
    "\n",
    "Следует заметить, что этот способ перехода на новую страницу сработает и в том случае, если эта стрелка является настоящей ссылкой."
   ]
  },
  {
   "cell_type": "markdown",
   "metadata": {},
   "source": [
    "<img src=\"img/Task12_05.png\">"
   ]
  },
  {
   "cell_type": "markdown",
   "metadata": {},
   "source": [
    "Протестируем переход на вторую страницу"
   ]
  },
  {
   "cell_type": "code",
   "execution_count": null,
   "metadata": {},
   "outputs": [],
   "source": [
    "from selenium import webdriver  \n",
    "\n",
    "driver = webdriver.Chrome( )  \n",
    "\n",
    "driver.get('http://zakupki.gov.ru/epz/order/extendedsearch/results.html')   \n",
    "\n",
    "elNextBtn = driver.find_elements_by_class_name('paginator-button-next')\n",
    "print(len(elNextBtn))"
   ]
  },
  {
   "cell_type": "code",
   "execution_count": null,
   "metadata": {},
   "outputs": [],
   "source": [
    "elNextBtn[0].click()"
   ]
  },
  {
   "cell_type": "markdown",
   "metadata": {},
   "source": [
    "Отлично, найдены две стрелки - это правда, стрелки расположены вверху и внизу страницы, переход прошел успешно. Можно закрывать окно браузера."
   ]
  },
  {
   "cell_type": "code",
   "execution_count": null,
   "metadata": {},
   "outputs": [],
   "source": [
    "driver.close()  # Закрываем браузер\n",
    "driver.quit()   # Выходим из selenium"
   ]
  },
  {
   "cell_type": "markdown",
   "metadata": {},
   "source": [
    "Переходим к третьему пункту алгоритма - посмотрим, что нам нужно от страницы аукциона. Только сумма обеспечения. Откроем страницу аукциона, например http://zakupki.gov.ru/epz/order/notice/za44/view/common-info.html?regNumber=0173100004519000519"
   ]
  },
  {
   "cell_type": "markdown",
   "metadata": {},
   "source": [
    "<img src=\"img/Task12_06.png\">"
   ]
  },
  {
   "cell_type": "markdown",
   "metadata": {},
   "source": [
    "Последний шаг алгоритма - куда сохраняем данные. Пойдем по самому простому пути - сохраним в массив, а потом через DataFrame сохраним в Excel.\n",
    "\n",
    "Итак, приступаем к написанию программы."
   ]
  },
  {
   "cell_type": "markdown",
   "metadata": {},
   "source": [
    "Прежде всего нам понадобится функция, очищающая суммы от мусорных символов, лишних пробелов и тп.<br/>\n",
    "Вот функция, которая родилась после скачивания информации с трех десятков сайтов.<br/>\n",
    "Она удаляет пробелы (код 32), неразрывные пробелы (код 160), переводы строки (коды 10 и 13) и заменяет десятичный разделитель (запятую на точку).<br/>\n",
    "В каких-то проектах она может потребовать корректировки, но для российский сайтов работает отлично."
   ]
  },
  {
   "cell_type": "code",
   "execution_count": 3,
   "metadata": {},
   "outputs": [],
   "source": [
    "def StringToFloat(S) :\n",
    "    S = S.strip().replace(chr(13), '').replace(chr(10), '').replace(chr(160), '').replace(chr(32), '').replace(',', '.').replace(chr(8381), '') \n",
    "    return float(S)"
   ]
  },
  {
   "cell_type": "markdown",
   "metadata": {},
   "source": [
    "Проверим работу функции StringToFloat"
   ]
  },
  {
   "cell_type": "code",
   "execution_count": 4,
   "metadata": {},
   "outputs": [
    {
     "name": "stdout",
     "output_type": "stream",
     "text": [
      "12345.01\n",
      "12345.02\n",
      "12345.03\n",
      "12345.0\n",
      "12345.0\n"
     ]
    }
   ],
   "source": [
    "print(StringToFloat('12 345.01'))\n",
    "print(StringToFloat('12345.02'))\n",
    "print(StringToFloat('12345,03'))\n",
    "print(StringToFloat('12345'))\n",
    "print(StringToFloat('12345 ₽'))"
   ]
  },
  {
   "cell_type": "markdown",
   "metadata": {},
   "source": [
    "Для очистки текстовых данных от “мусора” из них следует убрать переводы строки (коды 10 и 13), заменив их на пробелы. Чтобы избавится от лишних пробелов, применим регулярное выражение "
   ]
  },
  {
   "cell_type": "code",
   "execution_count": 5,
   "metadata": {},
   "outputs": [],
   "source": [
    "import re\n",
    "\n",
    "def ClearStr(S) :\n",
    "    S = S.strip().replace(chr(13), ' ').replace(chr(10), ' ')\n",
    "    \n",
    "    S = re.sub(r'\\s+', ' ', S) # Заменяем несколько пробелов подряд одним пробелом\n",
    "    return S\n"
   ]
  },
  {
   "cell_type": "markdown",
   "metadata": {},
   "source": [
    "Проверим работу функции ClearStr"
   ]
  },
  {
   "cell_type": "code",
   "execution_count": 6,
   "metadata": {},
   "outputs": [
    {
     "name": "stdout",
     "output_type": "stream",
     "text": [
      "Один два\n",
      "Один два\n"
     ]
    }
   ],
   "source": [
    "print(ClearStr('Один    два'))\n",
    "print(ClearStr('Один\\n\\rдва'))"
   ]
  },
  {
   "cell_type": "markdown",
   "metadata": {},
   "source": [
    "Служебные функции готовы, приспупаем к анализу страниц для определения методов поиска требуемых нам данных.<br/>\n",
    "Зайдем на страницу поиска\n",
    "http://zakupki.gov.ru/epz/order/extendedsearch/results.html?morphology=on&pageNumber=1&sortDirection=false&recordsPerPage=_10&showLotsInfoHidden=false&fz44=on&fz223=on&sortBy=UPDATE_DATE&af=on&ca=on&pc=on&pa=on&publishDateFrom=01.10.2019&publishDateTo=02.10.2019&currencyIdGeneral=-1&customerTitle=%D0%9C%D0%98%D0%9D%D0%98%D0%A1%D0%A2%D0%95%D0%A0%D0%A1%D0%A2%D0%92%D0%9E+%D0%9E%D0%91%D0%9E%D0%A0%D0%9E%D0%9D%D0%AB+%D0%A0%D0%9E%D0%A1%D0%A1%D0%98%D0%99%D0%A1%D0%9A%D0%9E%D0%99+%D0%A4%D0%95%D0%94%D0%95%D0%A0%D0%90%D0%A6%D0%98%D0%98&customerCode=01731000045&customerFz94id=727414&contractStageList_0=on&contractStageList_1=on&contractStageList_2=on&contractStageList_3=on&contractStageList=0%2C1%2C2%2C3&contractPriceCurrencyId=-1&extAttSearchEnable=false\n",
    "\n",
    "нажмем F12 и посмотрим, какие CSS Селекторы позволяют нам получить требуемые данные."
   ]
  },
  {
   "cell_type": "markdown",
   "metadata": {},
   "source": [
    "<img src=\"img/Task12_07.png\">"
   ]
  },
  {
   "cell_type": "markdown",
   "metadata": {},
   "source": [
    "Каждый блок с информацией по аукциону имеет класс search-registry-entry-block\n",
    "\n",
    "Значит будет выбирать все элементы с этим классом, а внутри каждого элемента искать данные."
   ]
  },
  {
   "cell_type": "markdown",
   "metadata": {},
   "source": [
    "Изучаем цену - это div классом price-block__value (CSS Селектор “div.price-block__value”). "
   ]
  },
  {
   "cell_type": "markdown",
   "metadata": {},
   "source": [
    "<img src=\"img/Task12_08.png\">"
   ]
  },
  {
   "cell_type": "markdown",
   "metadata": {},
   "source": [
    "Ссылка на торги и номер аукциона - ссылка (тэг a) внутри div с классом registry-entry__header-top__number (CSS Селектор “div.registry-entry__header-top__number a”)."
   ]
  },
  {
   "cell_type": "markdown",
   "metadata": {},
   "source": [
    "<img src=\"img/Task12_09.png\">"
   ]
  },
  {
   "cell_type": "markdown",
   "metadata": {},
   "source": [
    "Разберемся с наименованием объекта закупки - это div с классом registry-entry__body-value  (CSS Селектор “div.registry-entry__body-value”)."
   ]
  },
  {
   "cell_type": "markdown",
   "metadata": {},
   "source": [
    "<img src=\"img/Task12_10.png\">"
   ]
  },
  {
   "cell_type": "markdown",
   "metadata": {},
   "source": [
    "С датой обновления придется чуть сложнее. Она находится внутри блока div с классом data-block__valueв, первом по счету. CSS Селектор “div.data-block__value”."
   ]
  },
  {
   "cell_type": "markdown",
   "metadata": {},
   "source": [
    "<img src=\"img/Task12_11.png\">"
   ]
  },
  {
   "cell_type": "markdown",
   "metadata": {},
   "source": [
    "Проверяем, получится ли у нас вытянуть данные со страницы"
   ]
  },
  {
   "cell_type": "code",
   "execution_count": 7,
   "metadata": {},
   "outputs": [],
   "source": [
    "from selenium import webdriver  \n",
    "import lxml.html as html\n",
    "import re  \n",
    "\n",
    "# Служебные функции\n",
    "def StringToFloat(S) :\n",
    "    S = S.strip().replace(chr(13), '').replace(chr(10), '').replace(chr(160), '').replace(chr(32), '').replace(',', '.').replace(chr(8381), '') \n",
    "    return float(S)\n",
    "\n",
    "def ClearStr(S) :\n",
    "    S = S.strip().replace(chr(13), ' ').replace(chr(10), ' ')\n",
    "    \n",
    "    S = re.sub(r'\\s+', ' ', S) # Заменяем несколько пробелов подряд одним пробелом\n",
    "    return S\n",
    "\n",
    "\n",
    "URL = 'http://zakupki.gov.ru/epz/order/extendedsearch/results.html?morphology=on&pageNumber=1&sortDirection=false&recordsPerPage=_10&showLotsInfoHidden=false&fz44=on&fz223=on&sortBy=UPDATE_DATE&af=on&ca=on&pc=on&pa=on&publishDateFrom=01.10.2019&publishDateTo=02.10.2019&currencyIdGeneral=-1&customerTitle=%D0%9C%D0%98%D0%9D%D0%98%D0%A1%D0%A2%D0%95%D0%A0%D0%A1%D0%A2%D0%92%D0%9E+%D0%9E%D0%91%D0%9E%D0%A0%D0%9E%D0%9D%D0%AB+%D0%A0%D0%9E%D0%A1%D0%A1%D0%98%D0%99%D0%A1%D0%9A%D0%9E%D0%99+%D0%A4%D0%95%D0%94%D0%95%D0%A0%D0%90%D0%A6%D0%98%D0%98&customerCode=01731000045&customerFz94id=727414&contractStageList_0=on&contractStageList_1=on&contractStageList_2=on&contractStageList_3=on&contractStageList=0%2C1%2C2%2C3&contractPriceCurrencyId=-1&extAttSearchEnable=false'\n",
    "driver = webdriver.Chrome( )  \n",
    "driver.get(URL) \n",
    "htmlText = driver.page_source \n",
    "\n",
    "doc = html.document_fromstring(htmlText)  # Разбираем текст\n",
    "doc.make_links_absolute('http://zakupki.gov.ru') # Преобразовываем относительные ссылки в абсолютные"
   ]
  },
  {
   "cell_type": "code",
   "execution_count": 8,
   "metadata": {},
   "outputs": [
    {
     "name": "stdout",
     "output_type": "stream",
     "text": [
      "72900000.0\n",
      "№ 0173100004519001970\n",
      "http://zakupki.gov.ru/epz/order/notice/za44/view/common-info.html?regNumber=0173100004519001970\n",
      "Закупка «Комплекс работ по обеспечению закупки медицинской техники и медицинского имущества по спецификации, утверждаемой Минобороны России: тест-система для определения содержания наркотических средств и психотропных веществ в организме».\n",
      "02.10.2019\n",
      "-----------------\n",
      "46933287.22\n",
      "№ 0173100004519001969\n",
      "http://zakupki.gov.ru/epz/order/notice/za44/view/common-info.html?regNumber=0173100004519001969\n",
      "Поставка документов аэронавигационной информации согласно перечню, утверждаемому Минобороны России: документы аэронавигационной информации.\n",
      "02.10.2019\n",
      "-----------------\n",
      "26716970.0\n",
      "№ 0173100004519001968\n",
      "http://zakupki.gov.ru/epz/order/notice/za44/view/common-info.html?regNumber=0173100004519001968\n",
      "Поставка средств вычислительной техники (ноутбуки, рабочие, графические и мультимедийные станции, плоттеры и программное обеспечение) и периферийного оборудования, в том числе со спецпроверкой и специсследованиями для Главной военной прокуратуры согласно перечню, утверждаемому Минобороны России: средства вычислительной техники для органов военной прокуратуры ЮВО.\n",
      "02.10.2019\n",
      "-----------------\n",
      "23462250.0\n",
      "№ 0173100004519001967\n",
      "http://zakupki.gov.ru/epz/order/notice/za44/view/common-info.html?regNumber=0173100004519001967\n",
      "Поставка средств вычислительной техники (ноутбуки, рабочие, графические и мультимедийные станции, плоттеры и программное обеспечение) и периферийного оборудования, в том числе со спецпроверкой и специсследованиями для Главной военной прокуратуры согласно перечню, утверждаемому Минобороны России: средства вычислительной техники для органов военной прокуратуры ВВО.\n",
      "02.10.2019\n",
      "-----------------\n",
      "16757870.0\n",
      "№ 0173100004519001966\n",
      "http://zakupki.gov.ru/epz/order/notice/za44/view/common-info.html?regNumber=0173100004519001966\n",
      "Поставка средств вычислительной техники (ноутбуки, рабочие, графические и мультимедийные станции, плоттеры и программное обеспечение) и периферийного оборудования, в том числе со спецпроверкой и специсследованиями для Главной военной прокуратуры согласно перечню, утверждаемому Минобороны России: средства вычислительной техники для органов военной прокуратуры ЦВО.\n",
      "02.10.2019\n",
      "-----------------\n",
      "74417530.0\n",
      "№ 0173100004519001965\n",
      "http://zakupki.gov.ru/epz/order/notice/za44/view/common-info.html?regNumber=0173100004519001965\n",
      "Поставка средств вычислительной техники (ноутбуки, рабочие, графические и мультимедийные станции, плоттеры и программное обеспечение) и периферийного оборудования, в том числе со спецпроверкой и специсследованиями для Главной военной прокуратуры согласно перечню, утверждаемому Минобороны России: средства вычислительной техники для органов военной прокуратуры ЗВО.\n",
      "02.10.2019\n",
      "-----------------\n",
      "12258931.25\n",
      "№ 0173100004519001964\n",
      "http://zakupki.gov.ru/epz/order/notice/za44/view/common-info.html?regNumber=0173100004519001964\n",
      "Поставка медицинского оборудования для оснащения военно-медицинских организаций по спецификации, утверждаемой Минобороны России: инфузионный шприцевой насос.\n",
      "02.10.2019\n",
      "-----------------\n",
      "7700000.0\n",
      "№ 0173100004519001963\n",
      "http://zakupki.gov.ru/epz/order/notice/za44/view/common-info.html?regNumber=0173100004519001963\n",
      "Закупка работ по сервисному обслуживанию и ремонту строительно-восстановительной техники для нужд Министерства обороны Российской Федерации в 2020 году.\n",
      "02.10.2019\n",
      "-----------------\n",
      "43920000.0\n",
      "№ 0173100004519001962\n",
      "http://zakupki.gov.ru/epz/order/notice/za44/view/common-info.html?regNumber=0173100004519001962\n",
      "Поставка комбинированного пневмосооружения военного назначения КПС-25-2Т.\n",
      "02.10.2019\n",
      "-----------------\n",
      "2007505.0\n",
      "№ 0173100004519001961\n",
      "http://zakupki.gov.ru/epz/order/notice/za44/view/common-info.html?regNumber=0173100004519001961\n",
      "Поставка укрывочных материалов.\n",
      "02.10.2019\n",
      "-----------------\n"
     ]
    }
   ],
   "source": [
    "elAuc = doc.cssselect('div.search-registry-entry-block')  # Ищем аукционы\n",
    "for auc in elAuc :  # Перебираем аукционы\n",
    "    elPrice = auc.cssselect('div.price-block__value')  # Получаем цену\n",
    "    print(StringToFloat(elPrice[0].text_content()))  \n",
    " \n",
    "    elAucLink = auc.cssselect('div.registry-entry__header-top__number a')  # Получаем ссылку на страницу аукциона\n",
    "    print(elAucLink[0].text_content().strip())  # В ней номер аукциона\n",
    "    print(elAucLink[0].get('href'))             # И адрес ссылки\n",
    " \n",
    "    elObj = auc.cssselect('div.registry-entry__body-value')  \n",
    "    print(ClearStr(elObj[0].text_content() )) # Объект закупки\n",
    "    \n",
    "    elX = auc.cssselect('div.data-block__value') # Получаем дату размещения\n",
    "    d = elX[0] # Берем первый элемент\n",
    "    print(d.text_content().strip()) \n",
    "\n",
    "    print('-----------------')"
   ]
  },
  {
   "cell_type": "code",
   "execution_count": 9,
   "metadata": {},
   "outputs": [],
   "source": [
    "driver.close()  # Закрываем браузер\n",
    "driver.quit()   # Выходим из selenium"
   ]
  },
  {
   "cell_type": "markdown",
   "metadata": {},
   "source": [
    "Этот скрипт должен выводит на экран перечень данных по всем аукционам, представленным на странице."
   ]
  },
  {
   "cell_type": "markdown",
   "metadata": {},
   "source": [
    "## 12. Чтение данных со страницы аукциона"
   ]
  },
  {
   "cell_type": "markdown",
   "metadata": {},
   "source": [
    "Со страницы аукциона нам нужен только один параметр - сумма обеспечения. Зайдем на страницу http://zakupki.gov.ru/epz/order/notice/za44/view/common-info.html?regNumber=0173100004519000519"
   ]
  },
  {
   "cell_type": "markdown",
   "metadata": {},
   "source": [
    "Перед суммой стоит элемент td с классом noticeTdFirst, текст которого “Размер обеспечения заявки”. CSS Селектор “td.noticeTdFirst:contains(\"Размер\")”. Нужно взять следующий за ним элемент."
   ]
  },
  {
   "cell_type": "markdown",
   "metadata": {},
   "source": [
    "<img src=\"img/Task12_12.png\">"
   ]
  },
  {
   "cell_type": "markdown",
   "metadata": {},
   "source": [
    "Пишем тестовый скрипт"
   ]
  },
  {
   "cell_type": "code",
   "execution_count": 1,
   "metadata": {},
   "outputs": [
    {
     "name": "stdout",
     "output_type": "stream",
     "text": [
      "\n",
      "                        \n",
      "                            \n",
      "                            \n",
      "                                10 064 987,77 Российский рубль\n",
      "\n",
      "                                \n",
      "                            \n",
      "                        \n",
      "\n",
      "                        \n",
      "                    \n"
     ]
    }
   ],
   "source": [
    "from selenium import webdriver  \n",
    "import lxml.html as html\n",
    "\n",
    "URL = 'http://zakupki.gov.ru/epz/order/notice/za44/view/common-info.html?regNumber=0173100004519000519'\n",
    "driver = webdriver.Chrome( )  \n",
    "driver.get(URL) \n",
    "htmlText = driver.page_source \n",
    "\n",
    "docAuc = html.document_fromstring(htmlText)  # Разбираем текст\n",
    "\n",
    "elData = docAuc.cssselect('td.noticeTdFirst:contains(\"Размер обеспечения исполнения\")')  # Ищем предыдущий элемент\n",
    "print(elData[0].getnext().text_content())"
   ]
  },
  {
   "cell_type": "markdown",
   "metadata": {},
   "source": [
    "Скрипт выводит нам сумму обеспечения с текстом “10 608,30 Российский рубль”\n",
    "\n",
    "Вносим небольшую корректировку "
   ]
  },
  {
   "cell_type": "code",
   "execution_count": 2,
   "metadata": {},
   "outputs": [
    {
     "name": "stdout",
     "output_type": "stream",
     "text": [
      "10 064 987,77\n"
     ]
    }
   ],
   "source": [
    "print(elData[0].getnext().text_content().replace('Российский рубль', '').strip())"
   ]
  },
  {
   "cell_type": "markdown",
   "metadata": {},
   "source": [
    "Теперь у нас есть значение, пригодное для передачи в функцию StringToFloat"
   ]
  },
  {
   "cell_type": "code",
   "execution_count": null,
   "metadata": {},
   "outputs": [],
   "source": [
    "driver.close()  # Закрываем браузер\n",
    "driver.quit()   # Выходим из selenium"
   ]
  },
  {
   "cell_type": "markdown",
   "metadata": {},
   "source": [
    "## 13. Итоговая программа"
   ]
  },
  {
   "cell_type": "markdown",
   "metadata": {},
   "source": [
    "Программа будет работать следующим образом:\n",
    "1. Пройдет по всем аукционам на первой странице поиска\n",
    "2. Возьмет данные и сохранит их в массиве. Вместо суммы обеспечения будет записано None.\n",
    "3. Пока активна кнопка “Далее” будет перебирать страницы поисковой выдачи\n",
    "4. При достижении конца выдачи начнет перебирать массив с данными и получать со страницы аукциона данные о сумме обеспечения. Эту сумму будет сохранят в тот же массив.\n",
    "5. По завершении скачивания массив будет сохранен в Excel.\n",
    "\n",
    "Т.к. эта версия будет многократно обращаться к сайту, а поставил паузу 5 секунд перед обращениям на сайт, чтобы избежать блокировки.\n"
   ]
  },
  {
   "cell_type": "markdown",
   "metadata": {},
   "source": [
    "Для выгрузки в Excel установим библиотеки pandas и openpyxl"
   ]
  },
  {
   "cell_type": "code",
   "execution_count": null,
   "metadata": {},
   "outputs": [],
   "source": [
    "! pip3 install pandas\n",
    "! pip3 install openpyxl"
   ]
  },
  {
   "cell_type": "markdown",
   "metadata": {},
   "source": [
    "Ниже приведен итоговый код"
   ]
  },
  {
   "cell_type": "code",
   "execution_count": 10,
   "metadata": {},
   "outputs": [
    {
     "name": "stdout",
     "output_type": "stream",
     "text": [
      "Данные сохранены\n"
     ]
    }
   ],
   "source": [
    "import pandas as pd \n",
    "from selenium import webdriver  \n",
    "import lxml.html as html\n",
    "import time \n",
    "import re  \n",
    "\n",
    "\n",
    "dt = []  # Массив для хранения результатов\n",
    "\n",
    "# Служебные функции\n",
    "def StringToFloat(S) :\n",
    "    S = S.strip().replace(chr(13), '').replace(chr(10), '').replace(chr(160), '').replace(chr(32), '').replace(',', '.').replace(chr(8381), '') \n",
    "    return float(S)\n",
    "\n",
    "def ClearStr(S) :  # Очистка строк\n",
    "    S = S.strip().replace(chr(13), ' ').replace(chr(10), ' ')\n",
    "    \n",
    "    S = re.sub(r'\\s+', ' ', S) # Заменяем несколько пробелов подряд одним пробелом\n",
    "    return S\n",
    "\n",
    "def AppendData(AucNum, AucLink, PurchaseObj, Price, UploadDate) : # Добавление нового аукциона в массив\n",
    "    dt.append({'AucNum' : AucNum, 'AucLink' : AucLink, 'PurchaseObj' : PurchaseObj, 'Price' : Price, 'Insurance' : None, 'UploadDate' : UploadDate})\n",
    "\n",
    "def SetInsurance(AucNum, Insurance) : # Проставление Insurance  \n",
    "    for d in dt : # Перебираем все аукционы в массиве\n",
    "        if d['AucNum'] == AucNum : # Ищем нужный номер\n",
    "            d['Insurance'] = Insurance  # И проставляем сумму обеспечения\n",
    "            \n",
    "               \n",
    "def UploadOnePage() : # Обработка одной страницы поисковой выдачи\n",
    "    elAuc = doc.cssselect('div.search-registry-entry-block')  # Ищем аукционы\n",
    "    for auc in elAuc :  # Перебираем аукционы\n",
    "        elPrice = auc.cssselect('div.price-block__value')  # Получаем цену\n",
    "        Price = StringToFloat(elPrice[0].text_content()) \n",
    "\n",
    "        elAucLink = auc.cssselect('div.registry-entry__header-top__number a')  # Получаем ссылку на страницу аукциона\n",
    "        AucNum = elAucLink[0].text_content().replace('№', '').strip()  \n",
    "        AucLink = elAucLink[0].get('href') \n",
    "\n",
    "        elObj = auc.cssselect('div.registry-entry__body-value') \n",
    "        PurchaseObj = ClearStr(elObj[0].text_content() ) # Объект закупки\n",
    "\n",
    "        elX = auc.cssselect('div.data-block__value') # Получаем дату размещения\n",
    "        d = elX[0] \n",
    "        UploadDate = d.text_content().strip()\n",
    "\n",
    "        AppendData(AucNum, AucLink, PurchaseObj, Price, UploadDate)\n",
    "  \n",
    "def UploadInsurance(aURL, AucNum) :\n",
    "    time.sleep(5) # Делаем паузу 5 секунд, чтобы не забанили по IP\n",
    "    driver.get(aURL) \n",
    "    htmlText = driver.page_source \n",
    "    docAuc = html.document_fromstring(htmlText)\n",
    "    elData = docAuc.cssselect('td.noticeTdFirst:contains(\"Размер\")')  # Ищем предыдущий элемент\n",
    "    Insurance = elData[0].getnext().text_content().replace('Российский рубль', '') \n",
    "    SetInsurance(AucNum, StringToFloat(Insurance))         \n",
    "\n",
    "URL = 'http://zakupki.gov.ru/epz/order/extendedsearch/results.html?morphology=on&pageNumber=1&sortDirection=false&recordsPerPage=_10&showLotsInfoHidden=false&fz44=on&fz223=on&sortBy=UPDATE_DATE&af=on&ca=on&pc=on&pa=on&publishDateFrom=01.10.2019&publishDateTo=02.10.2019&currencyIdGeneral=-1&customerTitle=%D0%9C%D0%98%D0%9D%D0%98%D0%A1%D0%A2%D0%95%D0%A0%D0%A1%D0%A2%D0%92%D0%9E+%D0%9E%D0%91%D0%9E%D0%A0%D0%9E%D0%9D%D0%AB+%D0%A0%D0%9E%D0%A1%D0%A1%D0%98%D0%99%D0%A1%D0%9A%D0%9E%D0%99+%D0%A4%D0%95%D0%94%D0%95%D0%A0%D0%90%D0%A6%D0%98%D0%98&customerCode=01731000045&customerFz94id=727414&contractStageList_0=on&contractStageList_1=on&contractStageList_2=on&contractStageList_3=on&contractStageList=0%2C1%2C2%2C3&contractPriceCurrencyId=-1&extAttSearchEnable=false'\n",
    "driver = webdriver.Chrome( )  \n",
    "\n",
    "driver.get(URL) \n",
    "\n",
    "while True :\n",
    "    htmlText = driver.page_source \n",
    "\n",
    "    doc = html.document_fromstring(htmlText)  # Разбираем текст\n",
    "    doc.make_links_absolute('http://zakupki.gov.ru') # Преобразовываем относительные ссылки в абсолютные\n",
    "    UploadOnePage() # Обрабатываем загруженную страницу с разультатами поиска\n",
    "    \n",
    "    try :\n",
    "        elNextBtn = driver.find_elements_by_class_name('paginator-button-next') # Ищем внопку \"Далее\"\n",
    "        time.sleep(5) # Делаем паузу 5 секунд, чтобы не забанили по IP\n",
    "        elNextBtn[0].click() # Жмем кнопку \"Далее\" и обрабатываем следующую страницу\n",
    "    except Exception as Ex:\n",
    "        break # Нет кнопки \"Далее\" - это последняя страница, прерываем цикл\n",
    "\n",
    "for d in dt : # Перебираем все аукционы в массиве       \n",
    "    UploadInsurance(d['AucLink'], d['AucNum']) # Скачиваем для каждого из них данные по сумме обеспечения\n",
    "\n",
    "driver.close()  # Закрываем браузер\n",
    "driver.quit()   # Выходим из selenium\n",
    "\n",
    "# Сохраняем полученную информацию в Excel\n",
    "DF = pd.DataFrame(dt, columns=('AucNum', 'AucLink', 'PurchaseObj', 'Price', 'Insurance', 'UploadDate')) \n",
    "DF.to_excel(\"output.xlsx\")\n",
    "print('Данные сохранены')"
   ]
  },
  {
   "cell_type": "markdown",
   "metadata": {},
   "source": [
    "## 14. Маленькие хитрости"
   ]
  },
  {
   "cell_type": "markdown",
   "metadata": {},
   "source": [
    "Как можно облегчить себе задачу или ускорить парсинг?<br/>\n",
    "Если вам нужно периодически скачивать данные с одного и того же сайта, а данные на страницах меняются редко, то можно применить кэширование. Т.е. сохранять содержимое страницы в файл и при повторном обращении к странице не скачивать ее, а читать данные из файла.<br/>\n",
    "Не следует злоупотреблять этим способом, все-таки данные на страницах обновляются, а вы этого не заметите. \n",
    "\n",
    "Обязательно проанализируйте - нужно ли вам скачивать страницы с детальной информацией по аукционам/товарам/услугам или все нужные данные можно получить со страницы поиска.\n",
    "\n",
    "Возможно, некоторые данные можно узнать, не загружая страницу с детальным описанием. Например, в поисковой выдаче нет ссылок на иллюстрации, но есть ID товара, а ссылка на иллюстрацию вычисляется по правилу https://имя-сайта.ру/images/ID-товара.jpg\n",
    "\n",
    "Зная ID товара вы всегда сможете узнать ссылку на иллюстрацию.\n"
   ]
  },
  {
   "cell_type": "markdown",
   "metadata": {},
   "source": [
    "## 15. Пути доработки программы"
   ]
  },
  {
   "cell_type": "markdown",
   "metadata": {},
   "source": [
    "Как вы заметили, в нашей программе часто приходится скачивать страницы и разбирать их. Из-за этого код выглядит громоздко и объемно.\n",
    "\n",
    "Можно вынести часто повторяющиеся действия в отдельную функцию."
   ]
  },
  {
   "cell_type": "code",
   "execution_count": null,
   "metadata": {},
   "outputs": [],
   "source": [
    "# Универсальная функция загрузки страниц и их разбора\n",
    "def UnDld(aURL, SiteAdr) : # В качестве аргументов принимает ссылку на страницу и домен сайта для исправления относительных ссылок\n",
    "    time.sleep(5) # Делаем паузу 5 секунд, чтобы не забанили по IP\n",
    "    driver.get(aURL)  # Загружаем данные\n",
    "    hText = driver.page_source  # Получает текст страницы\n",
    "    UnDoc = html.document_fromstring(hText)    # Разбтрем ее\n",
    "    UnDoc.make_links_absolute(SiteAdr)  # Обновляем ссылки\n",
    "    return UnDoc # Возвращаем разобранную страницу (объект lxml.html.HtmlElement)"
   ]
  },
  {
   "cell_type": "markdown",
   "metadata": {},
   "source": [
    "##### Задание для самостоятельного выполнения: "
   ]
  },
  {
   "cell_type": "markdown",
   "metadata": {},
   "source": [
    "    - Перепишите код из п. 13 используя функцию UnDld, чтобы программа при этом осталась работоспособной."
   ]
  },
  {
   "cell_type": "code",
   "execution_count": null,
   "metadata": {},
   "outputs": [],
   "source": []
  }
 ],
 "metadata": {
  "kernelspec": {
   "display_name": "Python 3",
   "language": "python",
   "name": "python3"
  },
  "language_info": {
   "codemirror_mode": {
    "name": "ipython",
    "version": 3
   },
   "file_extension": ".py",
   "mimetype": "text/x-python",
   "name": "python",
   "nbconvert_exporter": "python",
   "pygments_lexer": "ipython3",
   "version": "3.6.6"
  }
 },
 "nbformat": 4,
 "nbformat_minor": 2
}
