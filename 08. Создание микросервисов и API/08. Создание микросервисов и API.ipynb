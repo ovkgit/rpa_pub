{
 "cells": [
  {
   "cell_type": "markdown",
   "metadata": {},
   "source": [
    "# Создание микросервисов и API"
   ]
  },
  {
   "cell_type": "markdown",
   "metadata": {},
   "source": [
    "## 1. Что такое микросервисы"
   ]
  },
  {
   "cell_type": "markdown",
   "metadata": {},
   "source": [
    "Изначально, программы писались как нечто, включающее в себя все необходимые функции. Взаимодействие с данными происходило внутри программы. <br/>\n",
    "Микросервисы - это разбиение монолитного приложения на независимые модули, которые взаимодействуют друг с другом через API.<br/>\n",
    "Каждый микросервис - делает что-то одно, может быть заменен на другой микросервис, выполняющий аналогичную задачу и имеющий такой же API. <br/>\n",
    "Этот архитектурный стиль становится все более популярным, особенно в среде веб-приложений. \n",
    "Микросервисы, используемые в одном проекте, могут быть написаны на разных языках, разными людьми, располагаться на разных серверах в разных городах.<br/>\n",
    "\n",
    "API (Application Programming Interface) — это интерфейс (набор способов - процедур, функций) взаимодействия приложений. API можно сравнить с пультом управления. Что происходит после нажатия на кнопку внутри аппарата скрыто от пользователя, но он точно знает какая кнопка для чего служит.\n"
   ]
  },
  {
   "cell_type": "markdown",
   "metadata": {},
   "source": [
    "## 2. XML и JSON"
   ]
  },
  {
   "cell_type": "markdown",
   "metadata": {},
   "source": [
    "Для обмена данными в микросервисах используются форматы XML и JSON.\n",
    "Это текстовые форматы передачи любой информации, позволяющие кодировать и декодировать передаваемую информацию. Оба формата иерархические и не зависят от национального языка текстовых данных. \n",
    "\n",
    "XML (сокращение от Extensive Markup Language) - это текстовый формат представления данных разработанный и развиваемый организацией “Консорциум Всемирной паутины”. XML - он независим от платформы, данные можно прочесть из любой операционной системы. Документ XML может прочесть (и понять) человек.\n",
    "\n",
    "Пример данных в формате XML"
   ]
  },
  {
   "cell_type": "markdown",
   "metadata": {},
   "source": [
    "``` xml\n",
    "<menu>\n",
    "    <food>\n",
    "        <name>Яичница с беконом</name>\n",
    "        <price>280</price>\n",
    "        <calories>250</calories>\n",
    "    </food>\n",
    "    <food>\n",
    "        <name>Кофе американо</name>\n",
    "        <price>160</price>\n",
    "        <calories>4</calories>\n",
    "    </food>\n",
    "</menu>\n",
    "```"
   ]
  },
  {
   "cell_type": "markdown",
   "metadata": {},
   "source": [
    "В случаях, где документ содержит много текстовых данных, а доля разметки относительно мала - XML отличное решение.<br/>\n",
    "\n",
    "Но в микросервисах часто передаются цифровые данные, так что разметка XML занимает большую часть сообщения.<br/>\n",
    "Для сокращения объемов передаваемой информации был создан JSON (сокращение от JavaScript Object Notation). Ещё один текстовый формат обмена данными. Это формат открытого стандарта, изначально основанный на JavaScript, но в настоящее время не зависящий от платформы и языка программирования.<br/>\n",
    "У JSON нет начальных и конечных тегов, и синтаксис легче XML, поскольку он ориентирован на данные с меньшей избыточностью, что делает его идеальной альтернативой для обмена данными по XML. <br/>\n",
    "\n",
    "Пример JSON (те же данные, что в примере с XML)"
   ]
  },
  {
   "cell_type": "markdown",
   "metadata": {},
   "source": [
    "``` json\n",
    "{\"menu\": {\n",
    "    \"food\" : [\n",
    "    {\n",
    "        \"name\" : \"Яичница с беконом\",\n",
    "        \"price\" : 280,\n",
    "        \"calories\" : 250\n",
    "    },\n",
    "    {\n",
    "        \"name\" : \"Кофе американо\",\n",
    "        \"price\" : 160,\n",
    "        \"calories\" : 4\n",
    "    }\n",
    "      ]\n",
    "}}\n",
    "```"
   ]
  },
  {
   "cell_type": "markdown",
   "metadata": {},
   "source": [
    "## 3. Протоколы взаимодействия"
   ]
  },
  {
   "cell_type": "markdown",
   "metadata": {},
   "source": [
    "Сегодня распространены два протокола:\n",
    "\n",
    "    - SOAP (Simple Object Access Protocol)\n",
    "    - REST (Representational State Transfer)\n",
    "\n",
    "SOAP применяется в сложных проектах, где требуется передавать сложные объекты данных и производить с ними сложные действия. \n",
    "    \n",
    "Однако, использование SOAP для передачи данных существенно увеличивает их объем и снижает скорость обработки.\n",
    "В случаях, когда достаточно сохранить/прочитать/изменить/удалить данные, вполне достаточно более простого и прозрачного протокола REST.\n",
    "\n",
    "REST может превзойти SOAP по производительности, так как не требует затрат на разбор сложных XML команд на сервере (выполняются обычные HTTP запросы — PUT, GET, POST, DELETE). <br/>\n",
    "\n",
    "Следует заметить, что ряд специалистов по безопасности считают SOAP более надежным и безопасным."
   ]
  },
  {
   "cell_type": "markdown",
   "metadata": {},
   "source": [
    "## 4. Нужные нам библиотеки"
   ]
  },
  {
   "cell_type": "markdown",
   "metadata": {},
   "source": [
    "Для получения данных по протоколу HTTP нам потребуется библиотека  requests.<br/>\n",
    "Библиотека requests позволяет отправлять HTTP-запросы HEAD, GET, POST, PUT, PATCH и DELETE. \n",
    "\n",
    "Установка\n"
   ]
  },
  {
   "cell_type": "code",
   "execution_count": null,
   "metadata": {},
   "outputs": [],
   "source": [
    "! pip3 install requests"
   ]
  },
  {
   "cell_type": "markdown",
   "metadata": {},
   "source": [
    "Простой пример использования"
   ]
  },
  {
   "cell_type": "code",
   "execution_count": null,
   "metadata": {},
   "outputs": [],
   "source": [
    "import requests\n",
    "\n",
    "r = requests.get('https://ru.wikipedia.org')   \n",
    "\n",
    "print('Адрес', r.url)\n",
    "print('Статус ответа', r.status_code) \n",
    "print('Кодировка', r.encoding)\n",
    "print('Длина текста', len(r.text))"
   ]
  },
  {
   "cell_type": "markdown",
   "metadata": {},
   "source": [
    "Передача запроса GET с параметрами"
   ]
  },
  {
   "cell_type": "code",
   "execution_count": null,
   "metadata": {},
   "outputs": [],
   "source": [
    "import requests\n",
    "\n",
    "data = {'search': 'python'}\n",
    "r = requests.get('https://ru.wikipedia.org/w/index.php', params=data)\n",
    "\n",
    "print('Адрес', r.url)\n",
    "print('Статус ответа', r.status_code) \n",
    "print('Кодировка', r.encoding)\n",
    "print('Длина текста', len(r.text))"
   ]
  },
  {
   "cell_type": "markdown",
   "metadata": {},
   "source": [
    "Для работы с JSON нам потребуется библиотека  json. Это стандартная библиотека, она не требует отдельной установки<br/>\n",
    "Попробуем преобразовать строку с уже знакомым нам JSON в объект Python (произведем Десериализацию)"
   ]
  },
  {
   "cell_type": "code",
   "execution_count": null,
   "metadata": {},
   "outputs": [],
   "source": [
    "import json\n",
    "\n",
    "json_string = \"\"\"\n",
    "{\"menu\": {\n",
    "\"food\" : [{\n",
    "\"name\" : \"Яичница с беконом\",\n",
    "\"price\" : 280,\n",
    "\"calories\" : 250\n",
    "  },\n",
    "{\n",
    "\"name\" : \"Кофе американо\",\n",
    "\"price\" : 160,\n",
    "\"calories\" : 4\n",
    "  }]\n",
    "}} \"\"\"\n",
    " \n",
    "data = json.loads(json_string)\n",
    "for f in data['menu']['food'] :\n",
    "    print('Название продукта:', f['name'])\n",
    "    print('Цена:', f['price'])\n",
    "    print('Калорийность:', f['calories'])\n",
    "    print('----------------')"
   ]
  },
  {
   "cell_type": "markdown",
   "metadata": {},
   "source": [
    "Выполним обратное преобразование - объект Python в json (произведем Сериализацию)"
   ]
  },
  {
   "cell_type": "code",
   "execution_count": null,
   "metadata": {},
   "outputs": [],
   "source": [
    "import json\n",
    "\n",
    "testObj = {\"menu\":{\"food\": [{\"name\": \"Яичница с беконом\", \"price\": \"280\", \"calories\": \"250\"}, {\"name\": \"Кофе американо\", \"price\": \"160\", \"calories\": \"4\"}]}}\n",
    "jsn = json.dumps(testObj, ensure_ascii = False)\n",
    "jsn"
   ]
  },
  {
   "cell_type": "markdown",
   "metadata": {},
   "source": [
    "Для работы с XML можно использовать библиотеку lxml<br/>\n",
    "Она устанавливается командой "
   ]
  },
  {
   "cell_type": "code",
   "execution_count": null,
   "metadata": {},
   "outputs": [],
   "source": [
    "! pip3 install lxml"
   ]
  },
  {
   "cell_type": "markdown",
   "metadata": {},
   "source": [
    "Разберем при ее помощи наш XML"
   ]
  },
  {
   "cell_type": "code",
   "execution_count": null,
   "metadata": {},
   "outputs": [],
   "source": [
    "from lxml import etree\n",
    "\n",
    "xml_string = \"\"\"\n",
    "<menu>\n",
    "<food>\n",
    "<name>Яичница с беконом</name>\n",
    "<price>280</price>\n",
    "<calories>250</calories>\n",
    "</food>\n",
    "<food>\n",
    "<name>Кофе американо</name>\n",
    "<price>160</price>\n",
    "<calories>4</calories>\n",
    "</food>\n",
    "</menu> \"\"\"\n",
    " \n",
    "data = etree.fromstring(xml_string)\n",
    "\n",
    "for f in data.findall('food'):\n",
    "    print('Название продукта:', f.find('name').text)\n",
    "    print('Цена:', f.find('price').text)\n",
    "    print('Калорийность:', f.find('calories').text)\n",
    "    print('----------------')"
   ]
  },
  {
   "cell_type": "markdown",
   "metadata": {},
   "source": [
    "Выполним преобразование объекта Python в XML"
   ]
  },
  {
   "cell_type": "code",
   "execution_count": null,
   "metadata": {},
   "outputs": [],
   "source": [
    "import xml.etree.ElementTree as ET\n",
    "from lxml import etree\n",
    "\n",
    "def create_xml_tree(root, dict_tree):\n",
    "    if type(dict_tree) == dict:\n",
    "        for k, v in dict_tree.items():\n",
    "            create_xml_tree(ET.SubElement(root, k), v)\n",
    "        return root\n",
    "    else:\n",
    "        root.text = str(dict_tree)\n",
    "        \n",
    "        \n",
    "testObj = {\"menu\":{\"food\": [{\"name\": \"Яичница с беконом\", \"price\": \"280\", \"calories\": \"250\"}, {\"name\": \"Кофе американо\", \"price\": \"160\", \"calories\": \"4\"}]}}\n",
    "\n",
    "tree_root = create_xml_tree(ET.Element(\"root\"), testObj)\n",
    "\n",
    "for f in data.findall('food'):\n",
    "    print('Название продукта:', f.find('name').text)\n",
    "    print('Цена:', f.find('price').text)\n",
    "    print('Калорийность:', f.find('calories').text)\n",
    "    print('----------------')"
   ]
  },
  {
   "cell_type": "markdown",
   "metadata": {},
   "source": [
    "## 5. Пишем сервис"
   ]
  },
  {
   "cell_type": "markdown",
   "metadata": {},
   "source": [
    "###### Внимание! Не используйте в комментариях русскую заглавную буквы “И”. При запуске сервиса Python выдаст ошибку, которую сложно понять и найти."
   ]
  },
  {
   "cell_type": "markdown",
   "metadata": {},
   "source": [
    "Сейчас мы на практике разберем создание простого сервиса.<br/>\n",
    "Этот сервис будет хранить и управлять информацией о блюдах со структурой как в приведенном выше примере JSON.<br/>\n",
    "В качестве базы данных будет использовать таблицу в базе sqlite с колонками \n",
    "- “id” - номер блюда\n",
    "- “name” - название\n",
    "- “price” - цена\n",
    "- “calories” - калорийность\n",
    "- “deleted” - признак удаления. Мы не будет по-настоящему удалять блюда, а будем просто скрывать их.\n",
    "\n",
    "Наш сервис будет использовать протокол HTTP. <br/>\n",
    "Для HTTP действие над данными задается с помощью методов: \n",
    "    - GET (получить)\n",
    "    - PUT (добавить, заменить)\n",
    "    - POST (добавить, изменить, удалить)\n",
    "    - DELETE (удалить). \n",
    "Таким образом, действия CRUD (Create-Read-Update-Delete) могут выполняться как со всеми 4-мя методами, так и только с помощью GET и POST.\n"
   ]
  },
  {
   "cell_type": "markdown",
   "metadata": {},
   "source": [
    "<table class=\"table table-striped table-bordered\" style=\"margin: 0 auto; align:left !important;\">\n",
    "<thead>\n",
    "<tr><th>Метод</th><th>Адрес</th><th>Действие</th></tr>\n",
    "</thead>\n",
    "<tr><td>GET </td><td>../food/N</td><td>Получить блюдо номер N</td></tr>\n",
    "<tr><td>PUT</td><td>../food</td><td>Добавить блюдо (данные в теле запроса)</td></tr>\n",
    "<tr><td>POST</td><td>../food/N</td><td>Изменить блюдо (данные в теле запроса) номер N</td></tr>\n",
    "<tr><td>DELETE</td><td>../food/N</td><td>Удалить блюдо номер N</td></tr>\n",
    "</table>\n"
   ]
  },
  {
   "cell_type": "markdown",
   "metadata": {},
   "source": [
    "Т.е. чтобы получить список всех блюд нужно будет скачать данные с адреса (в нашем случае) <br/>\n",
    "http://localhost:9090/food"
   ]
  },
  {
   "cell_type": "markdown",
   "metadata": {},
   "source": [
    "А чтобы получить данные по блюду номер 27 - с адреса<br/>\n",
    "http://localhost:9090/food/27\n"
   ]
  },
  {
   "cell_type": "markdown",
   "metadata": {},
   "source": [
    "Приступим к написанию кода.<br/>\n",
    "Сначала нужно описать глобальную переменную, в которую Python запишет переданные сервису параметры"
   ]
  },
  {
   "cell_type": "code",
   "execution_count": null,
   "metadata": {},
   "outputs": [],
   "source": [
    "import json\n",
    "\n",
    "REQUEST = json.dumps({ # Объявляем глобальную переменную, в которую будут записаны парадаваемые параметры PUT и GET\n",
    "'path' : {},  # Список параметров, переданных в адресной строке\n",
    "'args' : {}   # Список PUT-параметров\n",
    "})"
   ]
  },
  {
   "cell_type": "markdown",
   "metadata": {},
   "source": [
    "Затем создадим таблицу для хранения данных."
   ]
  },
  {
   "cell_type": "code",
   "execution_count": null,
   "metadata": {},
   "outputs": [],
   "source": [
    "import sqlite3 # Загружаем библиотеку\n",
    " \n",
    "conn = sqlite3.connect(\"McScv.sqlite\") # Создаем соединение с базой данных (файлом с именем McScv.sqlite)\n",
    "\n",
    "cursor = conn.cursor()  # Создаем курсор\n",
    "# Если не существует таблицы foods - создаем ее\n",
    "cursor.execute(\"create table if not exists foods (id INTEGER PRIMARY KEY, name VARCHAR(255), price INTEGER, calories INTEGER, deleted INTEGER NOT NULL DEFAULT 0)\")\n",
    "\n",
    "cursor.close() # Закрываем курсор"
   ]
  },
  {
   "cell_type": "markdown",
   "metadata": {},
   "source": [
    "Создадим функции, которые будет осуществлять все действия с нашей базой данных."
   ]
  },
  {
   "cell_type": "code",
   "execution_count": null,
   "metadata": {},
   "outputs": [],
   "source": [
    "def foodGetList():\n",
    "    conn.row_factory = sqlite3.Row # Выбираем режим, при котором можно обращаться к полям запроса по именам\n",
    "    cursor = conn.cursor()  # Создаем курсор\n",
    "    cursor.execute(\"SELECT * FROM foods WHERE deleted = 0\")\n",
    "    results = cursor.fetchall() # Помещаем результаты запроса в переменную\n",
    "    cursor.close() # Закрываем курсор\n",
    "\n",
    "    fl = [] # Переменная - массив с результатами\n",
    "    for r in results:\n",
    "       fl.append({\"id\" : r[\"id\"], \"name\" : r[\"name\"], \"price\" : r[\"price\"], \"calories\" : r[\"calories\"]}) \n",
    "    return fl\n",
    "    \n",
    "def foodInfo(id):\n",
    "    conn.row_factory = sqlite3.Row # Выбираем режим, при котором можно обращаться к полям запроса по именам\n",
    "    cursor = conn.cursor()  # Создаем курсор\n",
    "    cursor.execute(\"SELECT * FROM foods WHERE id=:id\", {\"id\" : id})\n",
    "    results = cursor.fetchall() # Помещаем результаты запроса в переменную\n",
    "    cursor.close() # Закрываем курсор\n",
    "    \n",
    "    if len(results) == 1 :\n",
    "        return {\"id\" : results[0][\"id\"], \"name\" : results[0][\"name\"], \"price\" : results[0][\"price\"], \"calories\" : results[0][\"calories\"]}\n",
    "    else:\n",
    "        return None \n",
    "    \n",
    "def foodAdd(name, price, calories):\n",
    "    cursor = conn.cursor()  # Создаем курсор\n",
    "    cursor.execute(\"INSERT INTO foods(name, price, calories) VALUES(:name, :price, :calories)\", {\"name\" : name, \"price\" : price, \"calories\" : calories})\n",
    "    conn.commit() # Сохраняем измененения в базе\n",
    "    newid = cursor.lastrowid\n",
    "    cursor.close() # Закрываем курсор\n",
    "    return newid    \n",
    "\n",
    "def foodUpdate(id, name, price, calories):\n",
    "    cursor = conn.cursor()  # Создаем курсор\n",
    "    cursor.execute(\"UPDATE foods SET name=:name, price=:price, calories=:calories WHERE id=:id\", {\"id\" : id, \"name\" : name, \"price\" : price, \"calories\" : calories})\n",
    "    conn.commit() # Сохраняем измененения в базе\n",
    "    cursor.close() # Закрываем курсор\n",
    "    \n",
    "def foodDel(id):\n",
    "    cursor = conn.cursor()  # Создаем курсор\n",
    "    cursor.execute(\"UPDATE foods SET deleted=1 WHERE id=:id\", {\"id\" : id})\n",
    "    conn.commit() # Сохраняем измененения в базе\n",
    "    cursor.close() # Закрываем курсор                                                           \n",
    "    \n",
    "def clearDB():\n",
    "    cursor = conn.cursor()  # Создаем курсор\n",
    "    cursor.execute(\"DELETE FROM foods\")\n",
    "    conn.commit() # Сохраняем измененения в базе\n",
    "    cursor.close() # Закрываем курсор"
   ]
  },
  {
   "cell_type": "markdown",
   "metadata": {},
   "source": [
    "Потом опишем страницы (адреса) микросервиса, выполняющие его функции\n",
    "Для этого в ячейке Jupyter Notebook первой же строкой нужно написать "
   ]
  },
  {
   "cell_type": "code",
   "execution_count": null,
   "metadata": {},
   "outputs": [],
   "source": [
    "# GET /food"
   ]
  },
  {
   "cell_type": "markdown",
   "metadata": {},
   "source": [
    "Где GET - название протокола (возможные варианте - GET, PUT, POST, DELETE)<br/>\n",
    "/food - адрес страницы.\n"
   ]
  },
  {
   "cell_type": "markdown",
   "metadata": {},
   "source": [
    "Если в адресе нужно передавать параметр (номер блюда), то этот адрес записывается так<br/>\n",
    "/food/:id - через двоеточие после слэша указывается название параметра."
   ]
  },
  {
   "cell_type": "markdown",
   "metadata": {},
   "source": [
    "Вот что должно получится. Каждый код - в отдельной ячейке."
   ]
  },
  {
   "cell_type": "code",
   "execution_count": null,
   "metadata": {},
   "outputs": [],
   "source": [
    "# GET /test \n",
    "# Тестовая страница сервиса, просто чтобы проверить его доступность\n",
    "# У этой страницы нет параметров\n",
    "print('Привет!')  "
   ]
  },
  {
   "cell_type": "code",
   "execution_count": null,
   "metadata": {},
   "outputs": [],
   "source": [
    "# GET /food\n",
    "# Возвращает список блюд\n",
    "# У этой страницы нет параметров\n",
    "print(json.dumps(foodGetList())) # Возвращаем данные в формате JSON"
   ]
  },
  {
   "cell_type": "code",
   "execution_count": null,
   "metadata": {},
   "outputs": [],
   "source": [
    "# GET /food/:id\n",
    "\n",
    "# Возвращает информацию по блюду\n",
    "# У этой страницы параметр передается в адресной строке\n",
    "\n",
    "request = json.loads(REQUEST) # Получаем полный список переданных микросервису параметров\n",
    "path = request['path'] # Получаем список параметров, переданных в адресной строке\n",
    "\n",
    "if path.get('id') != None:\n",
    "    id = int(path.get('id')) # Получаем id блюда\n",
    "\n",
    "    print(json.dumps(foodInfo(id)))  # Возвращаем данные в формате JSON"
   ]
  },
  {
   "cell_type": "code",
   "execution_count": null,
   "metadata": {},
   "outputs": [],
   "source": [
    "# PUT /food  \n",
    "\n",
    "# Добавляет новое блюдо\n",
    "# У этой страницы только PUT-параметры\n",
    "\n",
    "request = json.loads(REQUEST) # Получаем полный список переданных микросервису параметров\n",
    "args = request['args'] # Получаем список PUT-параметров\n",
    "\n",
    "name = None\n",
    "price = None\n",
    "calories = None\n",
    "\n",
    "# Получаем PUT-параметры\n",
    "if 'name' in args:\n",
    "    name = args['name'][0]\n",
    "if 'price' in args:\n",
    "    price = int(args['price'][0])\n",
    "if 'calories' in args:\n",
    "    calories = int(args['calories'][0])\n",
    "    \n",
    "newid = foodAdd(name, price, calories)\n",
    "print(json.dumps({'ok' : 1, 'newid' : newid})) # Возвращаем JSON со статусом \"ок\" и номером нового блюда"
   ]
  },
  {
   "cell_type": "code",
   "execution_count": null,
   "metadata": {},
   "outputs": [],
   "source": [
    "# POST /food/:id\n",
    "\n",
    "# Обновляет информацию по блюду\n",
    "# У этой страницы и PUT-параметры и параметры в адресной строке \n",
    "\n",
    "request = json.loads(REQUEST) # Получаем полный список переданных микросервису параметров\n",
    "path = request['path'] # Получаем список параметров, переданных в адресной строке\n",
    "args = request['args'] # Получаем список PUT-параметров\n",
    "\n",
    "if path.get('id') != None:\n",
    "    id = int(path.get('id')) # Получаем id блюда\n",
    "\n",
    "    name = None\n",
    "    price = None\n",
    "    calories = None\n",
    "\n",
    "    # Получаем PUT-параметры\n",
    "    if 'name' in args:\n",
    "        name = args['name'][0]\n",
    "    if 'price' in args:\n",
    "        price = int(args['price'][0])\n",
    "    if 'calories' in args:\n",
    "        calories = int(args['calories'][0])\n",
    "\n",
    "    foodUpdate(id, name, price, calories) # Редактируем блюдо\n",
    "    print(json.dumps({'ok' : 1})) # Возвращаем JSON со статусом \"ок\""
   ]
  },
  {
   "cell_type": "code",
   "execution_count": null,
   "metadata": {},
   "outputs": [],
   "source": [
    "# DELETE /food/:id\n",
    "\n",
    "# Удаляет блюдо\n",
    "# У этой страницы параметры в адресной строке \n",
    "\n",
    "request = json.loads(REQUEST) # Получаем полный список переданных микросервису параметров\n",
    "\n",
    "if path.get('id') != None:\n",
    "    id = int(request['path'].get('id')) # Получаем id удаляемого блюда\n",
    "\n",
    "    foodDel(id) # Удаляем блюдо\n",
    "    json.dumps({'ok' : 1}) # Возвращаем JSON со статусом \"ок\""
   ]
  },
  {
   "cell_type": "markdown",
   "metadata": {},
   "source": [
    "Весь этот код следует внести в отдельный ipynb-файл и разместить его в директории с коротким именем. Готовый файл можно взять из папки с этим проектом."
   ]
  },
  {
   "cell_type": "code",
   "execution_count": null,
   "metadata": {},
   "outputs": [],
   "source": []
  },
  {
   "cell_type": "markdown",
   "metadata": {},
   "source": [
    "## 6. Пишем клиента и подключаемся к сервису"
   ]
  },
  {
   "cell_type": "markdown",
   "metadata": {},
   "source": [
    "Для подключения к сервису нужно установить jupyter_kernel_gateway командой"
   ]
  },
  {
   "cell_type": "code",
   "execution_count": null,
   "metadata": {},
   "outputs": [],
   "source": [
    "! pip3 install jupyter_kernel_gateway"
   ]
  },
  {
   "cell_type": "markdown",
   "metadata": {},
   "source": [
    "И вызвать команду (поставив свой путь к файлу)<br/>\n",
    "jupyter kernelgateway --api='kernel_gateway.notebook_http' --seed_uri='d:\\service\\McScv_Service.ipynb' --port 9090"
   ]
  },
  {
   "cell_type": "markdown",
   "metadata": {},
   "source": [
    "Теперь наш сервис доступен по адресу http://localhost:9090\n",
    "\n",
    "Протестируем его"
   ]
  },
  {
   "cell_type": "code",
   "execution_count": 1,
   "metadata": {},
   "outputs": [
    {
     "name": "stdout",
     "output_type": "stream",
     "text": [
      "Hello!\n",
      "\n"
     ]
    }
   ],
   "source": [
    "import requests\n",
    "import json\n",
    "\n",
    "# Тестируем доступность сервиса\n",
    "api_url = 'http://localhost:9090/test'\n",
    "r = requests.get(api_url)\n",
    "\n",
    "print(r.text)"
   ]
  },
  {
   "cell_type": "markdown",
   "metadata": {},
   "source": [
    "Если все настройки сделаны правильно, сервис поприветствует вас.\n",
    "\n",
    "Протестируем его"
   ]
  },
  {
   "cell_type": "code",
   "execution_count": 2,
   "metadata": {},
   "outputs": [
    {
     "name": "stdout",
     "output_type": "stream",
     "text": [
      "[]\n"
     ]
    }
   ],
   "source": [
    "import requests\n",
    "import json\n",
    "\n",
    "# Полный список блюд\n",
    "api_url = 'http://localhost:9090/food'\n",
    "r = requests.get(api_url)\n",
    "\n",
    "print(json.loads(r.text))"
   ]
  },
  {
   "cell_type": "code",
   "execution_count": 3,
   "metadata": {},
   "outputs": [
    {
     "name": "stdout",
     "output_type": "stream",
     "text": [
      "{'ok': 1}\n"
     ]
    }
   ],
   "source": [
    "# Очистим список блюд\n",
    "api_url = 'http://localhost:9090/cleardb'\n",
    "r = requests.get(api_url)\n",
    "print(json.loads(r.text))"
   ]
  },
  {
   "cell_type": "code",
   "execution_count": 4,
   "metadata": {},
   "outputs": [
    {
     "name": "stdout",
     "output_type": "stream",
     "text": [
      "[]\n"
     ]
    }
   ],
   "source": [
    "# И снова прочитаем полный список блюд\n",
    "api_url = 'http://localhost:9090/food'\n",
    "r = requests.get(api_url)\n",
    "\n",
    "print(json.loads(r.text))"
   ]
  },
  {
   "cell_type": "code",
   "execution_count": 5,
   "metadata": {},
   "outputs": [
    {
     "name": "stdout",
     "output_type": "stream",
     "text": [
      "{'ok': 1, 'newid': 1}\n"
     ]
    }
   ],
   "source": [
    "# Добавление блюда\n",
    "\n",
    "api_url = 'http://localhost:9090/food'\n",
    "data = {'name' : 'Арбуз', 'price' : 235, 'calories' : 80}\n",
    "r = requests.put(api_url, params=data)\n",
    "\n",
    "print(json.loads(r.text))"
   ]
  },
  {
   "cell_type": "code",
   "execution_count": 6,
   "metadata": {},
   "outputs": [
    {
     "name": "stdout",
     "output_type": "stream",
     "text": [
      "{'ok': 1, 'newid': 2}\n"
     ]
    }
   ],
   "source": [
    "# Добавление блюда\n",
    "\n",
    "api_url = 'http://localhost:9090/food'\n",
    "data = {'name' : 'Сметана', 'price' : 120, 'calories' : 238}\n",
    "r = requests.put(api_url, params=data)\n",
    "print(json.loads(r.text))"
   ]
  },
  {
   "cell_type": "code",
   "execution_count": 7,
   "metadata": {},
   "outputs": [
    {
     "name": "stdout",
     "output_type": "stream",
     "text": [
      "[{'id': 1, 'name': 'Арбуз', 'price': 235, 'calories': 80}, {'id': 2, 'name': 'Сметана', 'price': 120, 'calories': 238}]\n"
     ]
    }
   ],
   "source": [
    "# Еще раз проверяем список блюд - при первом запуске их должно быть два\n",
    "api_url = 'http://localhost:9090/food'\n",
    "r = requests.get(api_url)\n",
    "print(json.loads(r.text))"
   ]
  },
  {
   "cell_type": "code",
   "execution_count": 8,
   "metadata": {},
   "outputs": [
    {
     "name": "stdout",
     "output_type": "stream",
     "text": [
      "{'ok': 1}\n"
     ]
    }
   ],
   "source": [
    "# Редактируем информацию по одному из них\n",
    "api_url = 'http://localhost:9090/food/2'\n",
    "data = {'name' : 'Сметана \"Домик в деревне\"', 'price' : 310, 'calories' : 125}\n",
    "r = requests.post(api_url, params=data)\n",
    "print(json.loads(r.text))"
   ]
  },
  {
   "cell_type": "code",
   "execution_count": 9,
   "metadata": {},
   "outputs": [
    {
     "name": "stdout",
     "output_type": "stream",
     "text": [
      "{'id': 2, 'name': 'Сметана \"Домик в деревне\"', 'price': 310, 'calories': 125}\n"
     ]
    }
   ],
   "source": [
    "# Читаем информацию по обновленному блюду\n",
    "api_url = 'http://localhost:9090/food/2'\n",
    "r = requests.get(api_url)\n",
    "print(json.loads(r.text))"
   ]
  },
  {
   "cell_type": "code",
   "execution_count": 10,
   "metadata": {},
   "outputs": [
    {
     "name": "stdout",
     "output_type": "stream",
     "text": [
      "{'ok': 1}\n"
     ]
    }
   ],
   "source": [
    "# Удаляем его\n",
    "api_url = 'http://localhost:9090/food/2'\n",
    "r = requests.delete(api_url)\n",
    "print(json.loads(r.text))"
   ]
  },
  {
   "cell_type": "code",
   "execution_count": 11,
   "metadata": {},
   "outputs": [
    {
     "name": "stdout",
     "output_type": "stream",
     "text": [
      "[{'id': 1, 'name': 'Арбуз', 'price': 235, 'calories': 80}]\n"
     ]
    }
   ],
   "source": [
    "# Еще раз проверяем список блюд - Сметана \"Домик в деревне\" удалена\n",
    "api_url = 'http://localhost:9090/food'\n",
    "r = requests.get(api_url)\n",
    "print(json.loads(r.text))"
   ]
  },
  {
   "cell_type": "markdown",
   "metadata": {},
   "source": [
    "## 7. Необходимая инфраструктура для развертывания микросервиса"
   ]
  },
  {
   "cell_type": "markdown",
   "metadata": {},
   "source": [
    "Если вы хотите писать REST API сервисы и выкладывать их для всеобщего пользования, то скорее всего вам понравится использовать Flask или иной фреймворк.\n",
    "\n",
    "И для развертывания сервиса вам понадобится сервер с установленным веб-сервером Apache."
   ]
  },
  {
   "cell_type": "code",
   "execution_count": null,
   "metadata": {},
   "outputs": [],
   "source": []
  }
 ],
 "metadata": {
  "kernelspec": {
   "display_name": "Python 3",
   "language": "python",
   "name": "python3"
  },
  "language_info": {
   "codemirror_mode": {
    "name": "ipython",
    "version": 3
   },
   "file_extension": ".py",
   "mimetype": "text/x-python",
   "name": "python",
   "nbconvert_exporter": "python",
   "pygments_lexer": "ipython3",
   "version": "3.6.7"
  }
 },
 "nbformat": 4,
 "nbformat_minor": 2
}
