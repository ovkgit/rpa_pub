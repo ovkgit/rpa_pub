{
 "cells": [
  {
   "cell_type": "code",
   "execution_count": null,
   "metadata": {},
   "outputs": [],
   "source": [
    "import json\n",
    "\n",
    "REQUEST = json.dumps({ \n",
    "'path' : {},\n",
    "'args' : {}\n",
    "})"
   ]
  },
  {
   "cell_type": "code",
   "execution_count": 18,
   "metadata": {},
   "outputs": [],
   "source": [
    "import sqlite3 # Загружаем библиотеку\n",
    " \n",
    "conn = sqlite3.connect(\"McScv.sqlite\") # Создаем соединение с базой данных (файлом с именем McScv.sqlite)\n",
    "\n",
    "cursor = conn.cursor()  # Создаем курсор\n",
    "# Если не существует таблицы foods - создаем ее\n",
    "cursor.execute(\"create table if not exists foods (id INTEGER PRIMARY KEY, name VARCHAR(255), price INTEGER, calories INTEGER, deleted INTEGER NOT NULL DEFAULT 0)\")\n",
    "\n",
    "cursor.close() # Закрываем курсор"
   ]
  },
  {
   "cell_type": "code",
   "execution_count": null,
   "metadata": {},
   "outputs": [],
   "source": [
    "# GET /test\n",
    "\n",
    "# Остновная страница сервиса, просто чтобы проверить его доступность\n",
    "# У этой страницы нет параметров\n",
    "\n",
    "print('Hello!') "
   ]
  },
  {
   "cell_type": "code",
   "execution_count": 26,
   "metadata": {},
   "outputs": [
    {
     "data": {
      "text/plain": [
       "[]"
      ]
     },
     "execution_count": 26,
     "metadata": {},
     "output_type": "execute_result"
    }
   ],
   "source": []
  },
  {
   "cell_type": "code",
   "execution_count": null,
   "metadata": {},
   "outputs": [],
   "source": [
    "# GET /food\n",
    "\n",
    "# Возвращает список блюд\n",
    "# У этой страницы нет параметров\n",
    "\n",
    "print(json.dumps(foodGetList())) # Возвращаем данные в формате JSON\n",
    "\n"
   ]
  },
  {
   "cell_type": "code",
   "execution_count": null,
   "metadata": {},
   "outputs": [],
   "source": [
    "# GET /food/:id\n",
    "\n",
    "# Возвращает информацию по блюду\n",
    "# У этой страницы параметр передается в адресной строке\n",
    "\n",
    "request = json.loads(REQUEST) # Получаем полный список переданных микросервису параметров\n",
    "path = request['path'] # Получаем список параметров, переданных в адресной строке\n",
    "\n",
    "if path.get('id') != None:\n",
    "    id = int(path.get('id')) # Получаем id блюда\n",
    "\n",
    "    print(json.dumps(foodInfo(id)))  # Возвращаем данные в формате JSON"
   ]
  },
  {
   "cell_type": "code",
   "execution_count": null,
   "metadata": {},
   "outputs": [],
   "source": [
    "# PUT /food  \n",
    "\n",
    "# Добавляет новое блюдо\n",
    "# У этой страницы только PUT-параметры\n",
    "\n",
    "request = json.loads(REQUEST) # Получаем полный список переданных микросервису параметров\n",
    "args = request['args'] # Получаем список PUT-параметров\n",
    "\n",
    "name = None\n",
    "price = None\n",
    "calories = None\n",
    "\n",
    "# Получаем PUT-параметры\n",
    "if 'name' in args:\n",
    "    name = args['name'][0]\n",
    "if 'price' in args:\n",
    "    price = int(args['price'][0])\n",
    "if 'calories' in args:\n",
    "    calories = int(args['calories'][0])\n",
    "    \n",
    "newid = foodAdd(name, price, calories)\n",
    "print(json.dumps({'ok' : 1, 'newid' : newid})) # Возвращаем JSON со статусом \"ок\" и номером нового блюда"
   ]
  },
  {
   "cell_type": "code",
   "execution_count": null,
   "metadata": {},
   "outputs": [],
   "source": [
    "# POST /food/:id\n",
    "\n",
    "# Обновляет информацию по блюду\n",
    "# У этой страницы и PUT-параметры и параметры в адресной строке \n",
    "\n",
    "request = json.loads(REQUEST) # Получаем полный список переданных микросервису параметров\n",
    "path = request['path'] # Получаем список параметров, переданных в адресной строке\n",
    "args = request['args'] # Получаем список PUT-параметров\n",
    "\n",
    "if path.get('id') != None:\n",
    "    id = int(path.get('id')) # Получаем id блюда\n",
    "\n",
    "    name = None\n",
    "    price = None\n",
    "    calories = None\n",
    "\n",
    "    # Получаем PUT-параметры\n",
    "    if 'name' in args:\n",
    "        name = args['name'][0]\n",
    "    if 'price' in args:\n",
    "        price = int(args['price'][0])\n",
    "    if 'calories' in args:\n",
    "        calories = int(args['calories'][0])\n",
    "\n",
    "    foodAdd(id, name, price, calories) # Редактируем блюдо\n",
    "    print(json.dumps({'ok' : 1})) # Возвращаем JSON со статусом \"ок\""
   ]
  },
  {
   "cell_type": "code",
   "execution_count": null,
   "metadata": {},
   "outputs": [],
   "source": [
    "# DELETE /food/:id\n",
    "\n",
    "# Удаляет блюдо\n",
    "# У этой страницы параметры в адресной строке \n",
    "\n",
    "request = json.loads(REQUEST) # Получаем полный список переданных микросервису параметров\n",
    "\n",
    "if path.get('id') != None:\n",
    "    id = int(request['path'].get('id')) # Получаем id удаляемого блюда\n",
    "\n",
    "    foodDel(id) # Удаляем блюдо\n",
    "    json.dumps({'ok' : 1}) # Возвращаем JSON со статусом \"ок\""
   ]
  },
  {
   "cell_type": "code",
   "execution_count": null,
   "metadata": {},
   "outputs": [],
   "source": [
    "# GET /cleardb\n",
    "\n",
    "# Полная очистка базы\n",
    "# У этой страницы нет параметров\n",
    "\n",
    "clearDB( )  \n",
    "json.dumps({'ok' : 1}) # Возвращаем JSON со статусом \"ок\""
   ]
  }
 ],
 "metadata": {
  "kernelspec": {
   "display_name": "Python 3",
   "language": "python",
   "name": "python3"
  },
  "language_info": {
   "codemirror_mode": {
    "name": "ipython",
    "version": 3
   },
   "file_extension": ".py",
   "mimetype": "text/x-python",
   "name": "python",
   "nbconvert_exporter": "python",
   "pygments_lexer": "ipython3",
   "version": "3.6.6"
  }
 },
 "nbformat": 4,
 "nbformat_minor": 2
}
