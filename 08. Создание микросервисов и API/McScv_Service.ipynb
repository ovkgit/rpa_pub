{
 "cells": [
  {
   "cell_type": "code",
   "execution_count": 1,
   "metadata": {},
   "outputs": [],
   "source": [
    "import json\n",
    "\n",
    "REQUEST = json.dumps({ # Объявляем глобальную переменную, в которую будут записаны парадаваемые параметры PUT и GET\n",
    "'path' : {},  # Список параметров, переданных в адресной строке\n",
    "'args' : {}   # Список PUT-параметров\n",
    "})"
   ]
  },
  {
   "cell_type": "code",
   "execution_count": 2,
   "metadata": {},
   "outputs": [],
   "source": [
    "import sqlite3 # Загружаем библиотеку\n",
    " \n",
    "conn = sqlite3.connect(\"McScv.sqlite\") # Создаем соединение с базой данных (файлом с именем McScv.sqlite)\n",
    "\n",
    "cursor = conn.cursor()  # Создаем курсор\n",
    "# Если не существует таблицы foods - создаем ее\n",
    "cursor.execute(\"create table if not exists foods (id INTEGER PRIMARY KEY, name VARCHAR(255), price INTEGER, calories INTEGER, deleted INTEGER NOT NULL DEFAULT 0)\")\n",
    "\n",
    "cursor.close() # Закрываем курсор"
   ]
  },
  {
   "cell_type": "code",
   "execution_count": 7,
   "metadata": {},
   "outputs": [],
   "source": [
    "def foodGetList():\n",
    "    conn.row_factory = sqlite3.Row # Выбираем режим, при котором можно обращаться к полям запроса по именам\n",
    "    cursor = conn.cursor()  # Создаем курсор\n",
    "    cursor.execute(\"SELECT * FROM foods WHERE deleted = 0\")\n",
    "    results = cursor.fetchall() # Помещаем результаты запроса в переменную\n",
    "    cursor.close() # Закрываем курсор\n",
    "\n",
    "    fl = [] # Переменная - массив с результатами\n",
    "    for r in results:\n",
    "       fl.append({\"id\" : r[\"id\"], \"name\" : r[\"name\"], \"price\" : r[\"price\"], \"calories\" : r[\"calories\"]}) \n",
    "    return fl\n",
    "    \n",
    "def foodInfo(id):\n",
    "    conn.row_factory = sqlite3.Row # Выбираем режим, при котором можно обращаться к полям запроса по именам\n",
    "    cursor = conn.cursor()  # Создаем курсор\n",
    "    cursor.execute(\"SELECT * FROM foods WHERE id=:id\", {\"id\" : id})\n",
    "    results = cursor.fetchall() # Помещаем результаты запроса в переменную\n",
    "    cursor.close() # Закрываем курсор\n",
    "    \n",
    "    if len(results) == 1 :\n",
    "        return {\"id\" : results[0][\"id\"], \"name\" : results[0][\"name\"], \"price\" : results[0][\"price\"], \"calories\" : results[0][\"calories\"]}\n",
    "    else:\n",
    "        return None \n",
    "    \n",
    "def foodAdd(name, price, calories):\n",
    "    cursor = conn.cursor()  # Создаем курсор\n",
    "    cursor.execute(\"INSERT INTO foods(name, price, calories) VALUES(:name, :price, :calories)\", {\"name\" : name, \"price\" : price, \"calories\" : calories})\n",
    "    conn.commit() # Сохраняем измененения в базе\n",
    "    newid = cursor.lastrowid\n",
    "    cursor.close() # Закрываем курсор\n",
    "    return newid    \n",
    "\n",
    "def foodUpdate(id, name, price, calories):\n",
    "    cursor = conn.cursor()  # Создаем курсор\n",
    "    cursor.execute(\"UPDATE foods SET name=:name, price=:price, calories=:calories WHERE id=:id\", {\"id\" : id, \"name\" : name, \"price\" : price, \"calories\" : calories})\n",
    "    conn.commit() # Сохраняем измененения в базе\n",
    "    cursor.close() # Закрываем курсор\n",
    "    \n",
    "def foodDel(id):\n",
    "    cursor = conn.cursor()  # Создаем курсор\n",
    "    cursor.execute(\"UPDATE foods SET deleted=1 WHERE id=:id\", {\"id\" : id})\n",
    "    conn.commit() # Сохраняем измененения в базе\n",
    "    cursor.close() # Закрываем курсор                                                           \n",
    "    \n",
    "def clearDB():\n",
    "    cursor = conn.cursor()  # Создаем курсор\n",
    "    cursor.execute(\"DELETE FROM foods\")\n",
    "    conn.commit() # Сохраняем измененения в базе\n",
    "    cursor.close() # Закрываем курсор"
   ]
  },
  {
   "cell_type": "code",
   "execution_count": null,
   "metadata": {},
   "outputs": [],
   "source": [
    "# GET /test\n",
    "\n",
    "# Остновная страница сервиса, просто чтобы проверить его доступность\n",
    "# У этой страницы нет параметров\n",
    "\n",
    "print('Hello!') "
   ]
  },
  {
   "cell_type": "code",
   "execution_count": null,
   "metadata": {},
   "outputs": [],
   "source": [
    "# GET /food\n",
    "\n",
    "# Возвращает список блюд\n",
    "# У этой страницы нет параметров\n",
    "\n",
    "print(json.dumps(foodGetList())) # Возвращаем данные в формате JSON\n",
    "\n"
   ]
  },
  {
   "cell_type": "code",
   "execution_count": null,
   "metadata": {},
   "outputs": [],
   "source": [
    "# GET /food/:id\n",
    "\n",
    "# Возвращает информацию по блюду\n",
    "# У этой страницы параметр передается в адресной строке\n",
    "\n",
    "request = json.loads(REQUEST) # Получаем полный список переданных микросервису параметров\n",
    "path = request['path'] # Получаем список параметров, переданных в адресной строке\n",
    "\n",
    "if path.get('id') != None:\n",
    "    id = int(path.get('id')) # Получаем id блюда\n",
    "\n",
    "    print(json.dumps(foodInfo(id)))  # Возвращаем данные в формате JSON"
   ]
  },
  {
   "cell_type": "code",
   "execution_count": null,
   "metadata": {},
   "outputs": [],
   "source": [
    "# PUT /food  \n",
    "\n",
    "# Добавляет новое блюдо\n",
    "# У этой страницы только PUT-параметры\n",
    "\n",
    "request = json.loads(REQUEST) # Получаем полный список переданных микросервису параметров\n",
    "args = request['args'] # Получаем список PUT-параметров\n",
    "\n",
    "name = None\n",
    "price = None\n",
    "calories = None\n",
    "\n",
    "# Получаем PUT-параметры\n",
    "if 'name' in args:\n",
    "    name = args['name'][0]\n",
    "if 'price' in args:\n",
    "    price = int(args['price'][0])\n",
    "if 'calories' in args:\n",
    "    calories = int(args['calories'][0])\n",
    "    \n",
    "newid = foodAdd(name, price, calories)\n",
    "print(json.dumps({'ok' : 1, 'newid' : newid})) # Возвращаем JSON со статусом \"ок\" и номером нового блюда"
   ]
  },
  {
   "cell_type": "code",
   "execution_count": null,
   "metadata": {},
   "outputs": [],
   "source": [
    "# POST /food/:id\n",
    "\n",
    "# Обновляет информацию по блюду\n",
    "# У этой страницы и PUT-параметры и параметры в адресной строке \n",
    "\n",
    "request = json.loads(REQUEST) # Получаем полный список переданных микросервису параметров\n",
    "path = request['path'] # Получаем список параметров, переданных в адресной строке\n",
    "args = request['args'] # Получаем список PUT-параметров\n",
    "\n",
    "if path.get('id') != None:\n",
    "    id = int(path.get('id')) # Получаем id блюда\n",
    "\n",
    "    name = None\n",
    "    price = None\n",
    "    calories = None\n",
    "\n",
    "    # Получаем PUT-параметры\n",
    "    if 'name' in args:\n",
    "        name = args['name'][0]\n",
    "    if 'price' in args:\n",
    "        price = int(args['price'][0])\n",
    "    if 'calories' in args:\n",
    "        calories = int(args['calories'][0])\n",
    "\n",
    "    foodUpdate(id, name, price, calories) # Редактируем блюдо\n",
    "    print(json.dumps({'ok' : 1})) # Возвращаем JSON со статусом \"ок\""
   ]
  },
  {
   "cell_type": "code",
   "execution_count": null,
   "metadata": {},
   "outputs": [],
   "source": [
    "# DELETE /food/:id\n",
    "\n",
    "# Удаляет блюдо\n",
    "# У этой страницы параметры в адресной строке \n",
    "\n",
    "request = json.loads(REQUEST) # Получаем полный список переданных микросервису параметров\n",
    "\n",
    "if path.get('id') != None:\n",
    "    id = int(request['path'].get('id')) # Получаем id удаляемого блюда\n",
    "\n",
    "    foodDel(id) # Удаляем блюдо\n",
    "    print(json.dumps({'ok' : 1})) # Возвращаем JSON со статусом \"ок\""
   ]
  },
  {
   "cell_type": "code",
   "execution_count": null,
   "metadata": {},
   "outputs": [],
   "source": [
    "# GET /cleardb\n",
    "\n",
    "# Полная очистка базы\n",
    "# У этой страницы нет параметров\n",
    "\n",
    "clearDB( )  \n",
    "print(json.dumps({'ok' : 1})) # Возвращаем JSON со статусом \"ок\""
   ]
  }
 ],
 "metadata": {
  "kernelspec": {
   "display_name": "Python 3",
   "language": "python",
   "name": "python3"
  },
  "language_info": {
   "codemirror_mode": {
    "name": "ipython",
    "version": 3
   },
   "file_extension": ".py",
   "mimetype": "text/x-python",
   "name": "python",
   "nbconvert_exporter": "python",
   "pygments_lexer": "ipython3",
   "version": "3.6.6"
  }
 },
 "nbformat": 4,
 "nbformat_minor": 2
}
