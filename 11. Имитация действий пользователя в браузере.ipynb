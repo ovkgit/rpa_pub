{
 "cells": [
  {
   "cell_type": "markdown",
   "metadata": {},
   "source": [
    "# 11. Имитация действий пользователя в браузере"
   ]
  },
  {
   "cell_type": "markdown",
   "metadata": {},
   "source": [
    "## Вступление"
   ]
  },
  {
   "cell_type": "markdown",
   "metadata": {},
   "source": [
    "В этом уроке используется библиотека Selenium. Для стабильной работы этой библиотеки скачайте этот файл себе на компьютер и установите Selenium локально."
   ]
  },
  {
   "cell_type": "markdown",
   "metadata": {},
   "source": [
    "## 1. Для чего это нужно"
   ]
  },
  {
   "cell_type": "markdown",
   "metadata": {},
   "source": [
    "Изначально эти технологии разрабатывались для тестирования сайтов. Робот воспроизводит последовательность действий человека, если все шло по плану - тест пройден.<br/>\n",
    "Потом их начали применять для раскрутки сайтов (имитация повышенной активности), но поисковики научились анализировать поведение пользователей и не учитывать эту активность.<br/><br/>\n",
    "Так для чего нужна имитация действий пользователя сегодня?<br/><br/>\n",
    "Для автоматизации рутинных операций по внесению данных на сайт.<br/>\n",
    "Для поиска и получения данных.<br/>\n",
    "Многие сайты сегодня написаны с использованием технологии AJAX и для управления ими требуется нажимать кнопки и ссылки, вводить данные и т.п.<br/>\n",
    "Простой (или не очень простой) робот поможет вам в этом."
   ]
  },
  {
   "cell_type": "markdown",
   "metadata": {},
   "source": [
    "## 2. Панель разработчика в Chrome"
   ]
  },
  {
   "cell_type": "markdown",
   "metadata": {},
   "source": [
    "Чтобы разобраться в структуре данных воспользуемся Панелью разработчика, встроенной в браузер Google Chrome. Она включает в себя огромный набор функционала для тестирования сайтов веб-разработчиком. Панель разработчика открывается при нажатии F12."
   ]
  },
  {
   "cell_type": "markdown",
   "metadata": {},
   "source": [
    "<img src=\"img/Task11_01.png\">"
   ]
  },
  {
   "cell_type": "markdown",
   "metadata": {},
   "source": [
    "Теперь перед нами содержимое страницы и HTML-древо этой страницы. При наведении мышкой на тэг в дереве на экране будет подсвечена область данного тэга и наоборот."
   ]
  },
  {
   "cell_type": "markdown",
   "metadata": {},
   "source": [
    "Есть два способа найти нужный тег в древе. Способ первый - перед Elements в меню находятся 2 иконки, первая из них - выбрать элемент на странице. Достаточно нажать на первую кнопку, выбрать нужный блок и кликнуть по нему левой кнопкой мыши, таким образом у нас откроется именно данный тэг. Метод второй, более быстрый - сразу правой кнопкой мыши нажать на нужный участок сайта и выбрать \"Просмотреть код\"."
   ]
  },
  {
   "cell_type": "markdown",
   "metadata": {},
   "source": [
    "## 3. Знакомство с Selenium "
   ]
  },
  {
   "cell_type": "markdown",
   "metadata": {},
   "source": [
    "Selenium WebDriver – это библиотека для управления браузером из своей программы. Существуют драйверы для различных браузеров, но все это разнообразие требуется скорее для автоматизированного тестирования дизайнов сайта, а не для наших задач.<br/>\n",
    "По сути Selenium открывает окно с браузером, в котором вполне можно выполнять действия руками, но можно посылать команды из своей программы.<br/>\n",
    "Сайт будет воспринимать эти действия как обычную активность пользователя.<br/>\n",
    "Самое подробное описание Selenium из всех виденных мной лежит тут https://selenium-python.readthedocs.io/index.html\n",
    "\n",
    "Устанавливается командой "
   ]
  },
  {
   "cell_type": "code",
   "execution_count": null,
   "metadata": {},
   "outputs": [],
   "source": [
    "!pip3 install selenium"
   ]
  },
  {
   "cell_type": "markdown",
   "metadata": {},
   "source": [
    "Кроме того, нужно скачать последнюю версию файла chromedriver.exe с http://chromedriver.chromium.org/downloads и положить ее в папку с нашими проектами. Либо прописывать полный путь к файлу."
   ]
  },
  {
   "cell_type": "markdown",
   "metadata": {},
   "source": [
    "Приведенный ниже код откроет страницу Яндекса в окне Selenium и сохранит скриншот. Скриншоты могут понадобиться при отладке, другого применения я им не нашел."
   ]
  },
  {
   "cell_type": "code",
   "execution_count": null,
   "metadata": {},
   "outputs": [],
   "source": [
    "from selenium import webdriver # Подключаем библиотеку\n",
    "\n",
    "driver = webdriver.Chrome(executable_path =\"chromedriver.exe\") # запускаем браузер\n",
    "driver.get('http://yandex.ru')  # Загружаем страницу\n",
    "driver.save_screenshot('screenshot.png') # Делаем скриншот\n",
    "\n",
    "driver.close()  # Закрываем браузер\n",
    "driver.quit()   # Выходим из selenium"
   ]
  },
  {
   "cell_type": "markdown",
   "metadata": {},
   "source": [
    "## 4. Поиск HTML-элементов"
   ]
  },
  {
   "cell_type": "markdown",
   "metadata": {},
   "source": [
    "Как вы уже поняли, чтобы управлять элементами страницы, нам нужно сначала найти их. Selenium использует так называемые локаторы, чтобы находить элементы на веб-странице.\n",
    "\n",
    "Поиск элементов. Если элементов удовлетворяющих запросу несколько, будет возвращен только первый из них"
   ]
  },
  {
   "cell_type": "markdown",
   "metadata": {},
   "source": [
    "<table class=\"table table-striped table-bordered\">\n",
    "<thead>\n",
    "<tr><th>Что ищем</th><th>Метод</th><th>Как выглядит HTML</th></tr>\n",
    "</thead>\n",
    "<tr><td>Поиск по ID</td><td>find_element_by_id(\"main\")</td><td>Выбирает элемент с идентификатором main (id=&quot;main&quot;).</td></tr>\n",
    "<tr><td>Поиск по имени</td><td>find_element_by_name(\"MyName1\")</td><td>Выбирает элемент с именем MyName1 (class=&quot;MyName1&quot;).</td></tr>\n",
    "\"<tr><td>Поиск по тексту ссылки</td><td>find_element_by_link_text(\"\"Войти\"\")</td><td>Выбирает ссылку с текстом, значение которого в точности совпадает с указанным параметром\n",
    "    \n",
    "&lt;a href=&quot;/login&quot;&gt;Войти&lt;/a&gt;</td></tr>\"\n",
    "\"<tr><td>Поиск по части текста ссылки</td><td>find_element_by_partial_link_text(\"\"Восстанов\"\")</td><td>Выбирает ссылку с текстом, значение которого включает в себя указанный параметр\n",
    "    \n",
    "&lt;a href=&quot;/next&quot;&gt;Восстановить пароль&lt;/a&gt;</td></tr>\"\n",
    "<tr><td>Поиск используя XPath</td><td>find_element_by_xpath(‘//div[@id=\"login\"]/input’)</td><td>Вернет первый элемент, соответствующий xpath</td></tr>\n",
    "<tr><td>Поиск по тэгу</td><td>find_element_by_tag_name(\"a\")</td><td>Вернет первую встреченную ссылку</td></tr>\n",
    "<tr><td>Поиск по классу</td><td>find_element_by_class_name(\"MyClass1\")</td><td>Вернет первый элемент с классом MyClass1 (class=&quot;MyClass1&quot;).</td></tr>\n",
    "<tr><td>Поиск по CSS селектору</td><td>find_element_by_css_selector(‘#login > input[type=\"text\"]’)</td><td>Вернет первый элемент, соответствующий CSS-селектору</td></tr>\n",
    "</table>"
   ]
  },
  {
   "cell_type": "markdown",
   "metadata": {},
   "source": [
    "Чтобы найти все элементы, удовлетворяющие условию поиска, используйте следующие методы (возвращается список)"
   ]
  },
  {
   "cell_type": "markdown",
   "metadata": {},
   "source": [
    "<table class=\"table table-striped table-bordered\">\n",
    "<thead>\n",
    "<tr><th>Что ищем</th><th>Метод</th><th>Как выглядит HTML</th></tr>\n",
    "</thead>\n",
    "\"<tr><td>Поиск по тексту ссылки</td><td>find_elements_by_link_text(\"\"Войти\"\")</td><td>Вернет все ссылки с текстом, значение которого в точности совпадает с указанным параметром\n",
    "    \n",
    "&lt;a href=&quot;/login&quot;&gt;Войти&lt;/a&gt;</td></tr>\"\n",
    "\"<tr><td>Поиск по части текста ссылки</td><td>find_elements_by_partial_link_text(\"\"Восстанов\"\")</td><td>Вернет все ссылки с текстом, значение которого включает в себя указанный параметр \n",
    "    \n",
    "&lt;a href=&quot;/next&quot;&gt;Восстановить пароль&lt;/a&gt;</td></tr>\"\n",
    "<tr><td>Поиск используя XPath</td><td>find_elements_by_xpath(‘//div[@id=\"login\"]/input’)</td><td>Вернет все элементы, соответствующие xpath</td></tr>\n",
    "<tr><td>Поиск по тэгу</td><td>find_elements_by_tag_name(\"a\")</td><td>Вернет все ссылки</td></tr>\n",
    "<tr><td>Поиск по классу</td><td>find_elements_by_class_name(\"MyClass1\")</td><td>Вернет все элементы с классом MyClass1 (class=&quot;MyClass1&quot;).</td></tr>\n",
    "<tr><td>Поиск по CSS селектору</td><td>find_elements_by_css_selector(‘#login > input[type=\"text\"]’)</td><td>Вернет все элементы, соответствующие CSS-селектору</td></tr>\n",
    "</table>\n"
   ]
  },
  {
   "cell_type": "markdown",
   "metadata": {},
   "source": [
    "Указанные функции можно применять как к driver (поиск будет пройдет по всему документу), так и к определенному элементу (тогда будет проведен поиск только среди его дочерних элементов).\n",
    "\n",
    "Если функция, ищущая единственный элемент - find_element_…) ничего не найдет - вызывается ошибка NoSuchElementException.\n",
    "При использовании функций, ищущих массив элементов (find_elements_…) если ничего не нашлось вернется пустой массив, ошибки не произойдет."
   ]
  },
  {
   "cell_type": "markdown",
   "metadata": {},
   "source": [
    "## 5. Внесение текстовых данных"
   ]
  },
  {
   "cell_type": "markdown",
   "metadata": {},
   "source": [
    "Начнем эксперименты со страницей https://ya.ru\n",
    "\n",
    "Изучим ее в отладочной консоли Chrome.\n",
    "\n",
    "Видим, что поле для ввода поискового запроса имеет id = ‘text’, а кнопка поиска - это HTML-кнопка (тэг button) и у нее свойство type=\"submit\" "
   ]
  },
  {
   "cell_type": "code",
   "execution_count": null,
   "metadata": {},
   "outputs": [],
   "source": [
    "from selenium import webdriver # Подключаем библиотеку\n",
    "\n",
    "driver = webdriver.Chrome(executable_path =\"chromedriver.exe\") # запускаем браузер\n",
    "\n",
    "driver.get('https://ya.ru/')  # Загружаем страницу\n",
    "\n",
    "searchInput = driver.find_element_by_id(\"text\") # Ищем текстовое поле\n",
    "searchInput.send_keys(\"Язык Python\") # Ввод символов"
   ]
  },
  {
   "cell_type": "markdown",
   "metadata": {},
   "source": [
    "И получаем открытую страницу Яндекса с введенным запросом.<br/>\n",
    "Теперь нужно начать поиск. Очень часто это можно сделать находясь в текстовом поле и нажав клавишу Enter"
   ]
  },
  {
   "cell_type": "code",
   "execution_count": null,
   "metadata": {},
   "outputs": [],
   "source": [
    "from selenium.webdriver.common.keys import Keys # Подключаем библиотеку с кодами служебных клавиш\n",
    "searchInput.send_keys(Keys.RETURN) # Нажимает Enter"
   ]
  },
  {
   "cell_type": "markdown",
   "metadata": {},
   "source": [
    "Результат работы - страница с результатами поиска."
   ]
  },
  {
   "cell_type": "markdown",
   "metadata": {},
   "source": [
    "<img src=\"img/Task11_02.png\">"
   ]
  },
  {
   "cell_type": "markdown",
   "metadata": {},
   "source": [
    "## 6. Нажатие кнопок"
   ]
  },
  {
   "cell_type": "markdown",
   "metadata": {},
   "source": [
    "Пойдем другим путем - все-таки нажмем кнопку поиска."
   ]
  },
  {
   "cell_type": "code",
   "execution_count": null,
   "metadata": {},
   "outputs": [],
   "source": [
    "from selenium import webdriver # Подключаем библиотеку\n",
    "\n",
    "driver = webdriver.Chrome(executable_path =\"chromedriver.exe\") # запускаем браузер\n",
    "\n",
    "driver.get('https://ya.ru/')  # Загружаем страницу\n",
    "\n",
    "searchInput = driver.find_element_by_id(\"text\") # Ищем текстовое поле\n",
    "searchInput.send_keys(\"Язык Python Selenium примеры\") # Вводим поисковый запрос\n",
    "\n",
    "btn = driver.find_element_by_css_selector('button[type=\"submit\"]') # Ищем кнопку с типом submit\n",
    "btn.click() # Нажимаем кнопку"
   ]
  },
  {
   "cell_type": "markdown",
   "metadata": {},
   "source": [
    "Результат работы - страница с результатами поиска по нашему новому запросу."
   ]
  },
  {
   "cell_type": "markdown",
   "metadata": {},
   "source": [
    "## 7. Выбор из выпадающих списков"
   ]
  },
  {
   "cell_type": "markdown",
   "metadata": {},
   "source": [
    "В этом вопросе будем тренироваться на странице http://htmlbook.ru/html/select\n",
    "\n",
    "На этой странице два селектора с именами select и select2.\n",
    "\n",
    "Начнем работать с левым селектором, позволяющим делать множественный выбор"
   ]
  },
  {
   "cell_type": "markdown",
   "metadata": {},
   "source": [
    "<img src=\"img/Task11_03.png\">"
   ]
  },
  {
   "cell_type": "code",
   "execution_count": null,
   "metadata": {},
   "outputs": [],
   "source": [
    "from selenium import webdriver # Подключаем библиотеку\n",
    "\n",
    "driver = webdriver.Chrome(executable_path =\"chromedriver.exe\") # запускаем браузер\n",
    "driver.get('http://htmlbook.ru/html/select')  # Загружаем страницу\n",
    "\n",
    "aControl = driver.find_element_by_name(\"select\") # Ищем нужный селектор по имени\n",
    "all_options = aControl.find_elements_by_tag_name(\"option\") # Получаем список его значений\n",
    "for option in all_options: # Выводим их на экран\n",
    "    print(\"Value:\", option.get_attribute(\"value\"))\n",
    "    print(\"Text:\", option.text)"
   ]
  },
  {
   "cell_type": "markdown",
   "metadata": {},
   "source": [
    "Text - это те надписи, что мы видим.\n",
    "\n",
    "\n",
    "Value - цифровые или буквенные коды, которые им сопоставлены (это не обязательно). Если они заданы - то именно они отправляются на сервер при передачи данных. Если не заданы - отправляется Text.\n",
    "\n",
    "Если Value и Text совпадают, значит на самом деле Value не задано, задан только видимый текст.\n",
    "\n",
    "Для установки значение селектора в Selenium предназначен класс Select и его функции\n",
    "    - select_by_index(index) - Выбор по номеру\n",
    "    - select_by_visible_text(\"text\") - Выбор по тексту\n",
    "    - select_by_value(value) - выбор по Value. В нашем случае Value не задано, так что эта функция недоступна.\n",
    "\n",
    "Выберем в левом селекторе Чебурашку и Шапокляк\n"
   ]
  },
  {
   "cell_type": "code",
   "execution_count": null,
   "metadata": {},
   "outputs": [],
   "source": [
    "from selenium.webdriver.support.ui import Select # Импортируем библиотеку с классом Select\n",
    "\n",
    "aControl = Select(driver.find_element_by_name(\"select\")) # Ищем нужный селектор по имени и приводим найденный контрол к класса Select\n",
    "aControl.select_by_visible_text('Шапокляк')\n",
    "aControl.select_by_visible_text('Чебурашка')"
   ]
  },
  {
   "cell_type": "markdown",
   "metadata": {},
   "source": [
    "А во втором селекторе выберем Крокодила Гену"
   ]
  },
  {
   "cell_type": "code",
   "execution_count": null,
   "metadata": {},
   "outputs": [],
   "source": [
    "aControl = Select(driver.find_element_by_name(\"select2\")) # Ищем нужный селектор по имени и приводим найденный контрол к класса Select\n",
    "aControl.select_by_visible_text('Крокодил Гена')"
   ]
  },
  {
   "cell_type": "markdown",
   "metadata": {},
   "source": [
    "## 8. Проставление “галочек”"
   ]
  },
  {
   "cell_type": "markdown",
   "metadata": {},
   "source": [
    "Галочки устанавливаются так же, как нажимаются кнопки - функцией click().\n",
    "\n",
    "Проверить установлена ли галочка можно функцией is_selected( )  \n",
    "\n",
    "Будем работать со страницей http://shpargalkablog.ru/2013/08/checked.html"
   ]
  },
  {
   "cell_type": "markdown",
   "metadata": {},
   "source": [
    "<img src=\"img/Task11_04.png\">"
   ]
  },
  {
   "cell_type": "code",
   "execution_count": null,
   "metadata": {},
   "outputs": [],
   "source": [
    "from selenium import webdriver # Подключаем библиотеку\n",
    "\n",
    "driver = webdriver.Chrome(executable_path =\"chromedriver.exe\") # запускаем браузер\n",
    "driver.get('http://shpargalkablog.ru/2013/08/checked.html')  # Загружаем страницу"
   ]
  },
  {
   "cell_type": "code",
   "execution_count": null,
   "metadata": {},
   "outputs": [],
   "source": [
    "aControl = driver.find_elements_by_css_selector(\"input[type='checkbox']\") # Ищем нужную галочку по тэгу и типу\n",
    "print('Всего галочек на странице', len(aControl))\n",
    "print('Состояние галочки с номером 2', aControl[2].is_selected( ))  # Проверяем состояние галочки\n",
    "aControl[2].click() # Меняем его\n",
    "print('Состояние галочки с номером 2', aControl[2].is_selected( ))  # Проверяем повторно"
   ]
  },
  {
   "cell_type": "markdown",
   "metadata": {},
   "source": [
    "## 9. Проматывание страницы вниз"
   ]
  },
  {
   "cell_type": "markdown",
   "metadata": {},
   "source": [
    "Чтобы промотать страницу до самого конца воспользуйтесь командой "
   ]
  },
  {
   "cell_type": "code",
   "execution_count": null,
   "metadata": {},
   "outputs": [],
   "source": [
    "driver.execute_script(\"window.scrollTo(0, document.body.scrollHeight);\")"
   ]
  },
  {
   "cell_type": "markdown",
   "metadata": {},
   "source": [
    "Вместо document.body.scrollHeight можно указать (в пикселях) на сколько нужно промотать."
   ]
  },
  {
   "cell_type": "markdown",
   "metadata": {},
   "source": [
    "## 10. Ожидание загрузки страницы"
   ]
  },
  {
   "cell_type": "markdown",
   "metadata": {},
   "source": [
    "Сегодня многие сайта используют AJAX технологии. После того как страница загружается в браузере, отдельнее ее элементы могут подгружаться в разное время. Это делает невозможные поиск элементов сразу же после загруски страницы. Ведь если функции не находят элемент то возникает ошибка. Эту проблему можно решить в лоб, используя ожидание. Ожидание даст нам время на загрузку интерактивных элементов. Самый простой вариант ожидания - поставить паузу time.sleep(N), где N - время в секундах.\n",
    "Но этого времени может не хватить на загрузку. Либо наоборот, оно окажется избыточным и мы зря потеряем время на каждом ожидании.\n",
    "\n",
    "Selenium поддерживает два типа ожиданий - явное и неявное. Явное ожидание означает, что Selenium будет ждать возникновение определенного условия. Неявное ожидание  - Selenium будет опрашивать страницу определенное время, пытаясь найти элемент.\n",
    "\n",
    "Явное ожидание  - это прописанные условия и срок ожидания, по истечение которого произойдет исключение, если условие так и не выполнилось."
   ]
  },
  {
   "cell_type": "code",
   "execution_count": 1,
   "metadata": {},
   "outputs": [
    {
     "name": "stdout",
     "output_type": "stream",
     "text": [
      "16:37:41\n",
      "16:37:46\n",
      "Ошибка при поиске элемента\n"
     ]
    }
   ],
   "source": [
    "from selenium import webdriver\n",
    "from selenium.webdriver.common.by import By\n",
    "from selenium.webdriver.support.ui import WebDriverWait\n",
    "from selenium.webdriver.support import expected_conditions as EC\n",
    "from datetime import datetime\n",
    "\n",
    "driver = webdriver.Chrome(executable_path =\"chromedriver.exe\")\n",
    "driver.get(\"http://yandex.ru\")\n",
    "print(datetime.now().strftime('%H:%M:%S'))\n",
    "try:\n",
    "    element = WebDriverWait(driver, 5).until( # Ждем загрузки элемента с ID myDynamicElement 5 секунд\n",
    "        EC.presence_of_element_located((By.ID, \"myDynamicElement\"))\n",
    "    )\n",
    "    print('Элемент найден')\n",
    "except Exception:    \n",
    "    print(datetime.now().strftime('%H:%M:%S'))\n",
    "    print('Ошибка при поиске элемента')\n",
    "finally:\n",
    "    driver.quit()"
   ]
  },
  {
   "cell_type": "markdown",
   "metadata": {},
   "source": [
    "Данный пример будет 5 секунд ждать, пока на странице Яндекса прогрузится элемент с ID myDynamicElement. Этого не произойдет, так что через 5 секунд программа напишет \"Ошибка при поиске элемента\""
   ]
  },
  {
   "cell_type": "markdown",
   "metadata": {},
   "source": [
    "Ожидаемые условия"
   ]
  },
  {
   "cell_type": "markdown",
   "metadata": {},
   "source": [
    "<table class=\"table table-striped table-bordered\">\n",
    "<thead>\n",
    "<tr><th>Условие</th><th>Описание</th></tr>\n",
    "</thead>\n",
    "<tr><td>element_to_be_clickable </td><td>Элемент виден и активен (не в режиме ReadOnly и не заблокирован)</td></tr>\n",
    "<tr><td>element_to_be_selected</td><td>Проверяет присутствует ли элемент и выбран ли он</td></tr>\n",
    "<tr><td>invisibility_of_element</td><td>Элемент невидим или отсутствует</td></tr>\n",
    "<tr><td>presence_of_all_elements_located</td><td>Хотя бы один элемент найден на странице</td></tr>\n",
    "<tr><td>presence_of_element_located</td><td>Элемент найден на странице</td></tr>\n",
    "<tr><td>staleness_of</td><td>Ожидание удаления элемента. Если элемент удален за указанное время - вернет True.</td></tr>\n",
    "<tr><td>text_to_be_present_in_element</td><td>В элементе найден искомый текст</td></tr>\n",
    "<tr><td>text_to_be_present_in_element_value</td><td>В элементе найден искомый текст</td></tr>\n",
    "<tr><td>title_contains</td><td>Заголовок страницы включает в себя текст. Возвращает результат проверки True/False</td></tr>\n",
    "<tr><td>title_is</td><td>Заголовок страницы равен тексту. Возвращает результат проверки True/False</td></tr>\n",
    "<tr><td>visibility_of</td><td>Элемент найден на странице и он видим, т.е. не скрыт и имеет размеры больше нуля. Возвращает результат проверки True/False</td></tr>\n",
    "<tr><td>visibility_of_element_located</td><td>Элемент найден на странице и он видим, т.е. не скрыт и имеет размеры больше нуля. При этом возвращается сам элемент.</td></tr>\n",
    "</table>"
   ]
  },
  {
   "cell_type": "markdown",
   "metadata": {},
   "source": [
    "Неявное ожидание - Selenium опрашивает страницу заданное количество времени, пытаясь найти элементы, которые недоступны в тот момент. При запуске это значение равно 0 секунд. Если его задать, то оно действует только на протяжении данного запуска скрипта."
   ]
  },
  {
   "cell_type": "code",
   "execution_count": 2,
   "metadata": {},
   "outputs": [
    {
     "name": "stdout",
     "output_type": "stream",
     "text": [
      "16:38:58\n",
      "16:39:03\n",
      "Ошибка при поиске элемента\n"
     ]
    }
   ],
   "source": [
    "from selenium import webdriver\n",
    "from datetime import datetime\n",
    "\n",
    "driver = webdriver.Chrome(executable_path =\"chromedriver.exe\")\n",
    "driver.implicitly_wait(5) # Задаем время ожидания 5 секунд\n",
    "driver.get(\"http://yandex.ru\")\n",
    "print(datetime.now().strftime('%H:%M:%S'))\n",
    "try:\n",
    "    myDynamicElement = driver.find_element_by_id(\"myDynamicElement\")\n",
    "except Exception:    \n",
    "    print(datetime.now().strftime('%H:%M:%S'))\n",
    "    print('Ошибка при поиске элемента')\n",
    "finally:\n",
    "    driver.quit()"
   ]
  },
  {
   "cell_type": "markdown",
   "metadata": {},
   "source": [
    "## 11. Задание"
   ]
  },
  {
   "cell_type": "markdown",
   "metadata": {},
   "source": [
    "Решим с помощью робота практическую задачу притворяясь обычным пользователем.\n",
    "\n",
    "Найдем в Яндексе публикации по запросу “<a href=\"https://yandex.ru/search/?text=Python%20Selenium\">Python Selenium</a>” за последний месяц и откроем вторую ссылку со второй страницы."
   ]
  },
  {
   "cell_type": "markdown",
   "metadata": {},
   "source": [
    "<img src=\"img/Task11_05.png\">"
   ]
  },
  {
   "cell_type": "markdown",
   "metadata": {},
   "source": [
    "Как запустить поисковый запрос мы уже знаем, потом надо будет нажать на кнопку 1 (см. рисунок) и выбрать фильтр “За месяц”.\n",
    "\n",
    "Изучим с помощью Консоли страницу поисковой выдачи. Оказывается, кнопка 1 это вовсе не кнопка, а span с классом input__settings, которая только выглядит как кнопка."
   ]
  },
  {
   "cell_type": "markdown",
   "metadata": {},
   "source": [
    "<img src=\"img/Task11_06.png\">"
   ]
  },
  {
   "cell_type": "markdown",
   "metadata": {},
   "source": [
    "Но это ничего не меняет, главное, чтобы на нее можно было кликнуть, использовав функцию click().<br/>\n",
    "Найдем его функцией <br/>\n",
    "driver.find_element_by_class_name(\"input__settings\")"
   ]
  },
  {
   "cell_type": "markdown",
   "metadata": {},
   "source": [
    "Кнопка “За месяц” тоже оказалась не кнопкой, а нагромождением элементов, внутри которого заключен input с атрибутом value=\"2\"."
   ]
  },
  {
   "cell_type": "markdown",
   "metadata": {},
   "source": [
    "<img src=\"img/Task11_07.png\">"
   ]
  },
  {
   "cell_type": "markdown",
   "metadata": {},
   "source": [
    "Найдем его функцией <br/>\n",
    "driver.find_element_by_css_selector(\"input[value='2']\")\n",
    "\n",
    "Ссылку “далее” мы найдем функцией по тексту ссылки функцией <br/>\n",
    "driver.find_element_by_link_text(\"дальше\")\n",
    "\n",
    "Ссылки на найденные страницы имеют тэг “a” и находятся внутри заголовка с тэгом “h2”"
   ]
  },
  {
   "cell_type": "markdown",
   "metadata": {},
   "source": [
    "<img src=\"img/Task11_08.png\">"
   ]
  },
  {
   "cell_type": "markdown",
   "metadata": {},
   "source": [
    "Найдем его функцией <br/>\n",
    "driver.find_elements_by_css_selector(\"h2 a\") "
   ]
  },
  {
   "cell_type": "markdown",
   "metadata": {},
   "source": [
    "При подготовке этого задания была выявлена одна особенность. Если поисковая выдача Яндекса открыта в небольшом окошке, то кнопка настроек параметров поиска не видна на экране. Она находится, но ее нельзя кликнуть. Selenium выводит ошибку “element not interactable”. \n",
    "Нужно развернуть браузер на весь экран, чтобы кнопка стала видна, только тогда ее можно нажимать.\n",
    "\n",
    "Для этого запуск браузера нужно оформить следующим образом:<br/><hr/>\n",
    "chrome_options = webdriver.ChromeOptions() # В этот раз будем запускать браузер с опциями<br/>\n",
    "chrome_options.add_argument(\"--start-maximized\"); # Развернем его на весь экран<br/>\n",
    "\n",
    "driver = webdriver.Chrome(executable_path =\"chromedriver.exe\", options = chrome_options) # запускаем браузер\n",
    "<hr/>\n",
    "\n",
    "\n",
    "Чтобы избежать ошибок связанных со скоростью загрузки, будем использовать неявное ожидание, поставим 5 секунд. Для наших целей эта задержка несущественна, так что выберем простой путь, не заставляющий нас усложнять код.\n",
    "<br/>driver.implicitly_wait(5)\n"
   ]
  },
  {
   "cell_type": "markdown",
   "metadata": {},
   "source": [
    "Вот готовый скрипт"
   ]
  },
  {
   "cell_type": "code",
   "execution_count": 3,
   "metadata": {},
   "outputs": [],
   "source": [
    "from selenium import webdriver # Подключаем библиотеку\n",
    "from selenium.webdriver.common.keys import Keys # Подключаем библиотеку с кодами служебных клавиш\n",
    "\n",
    "chrome_options = webdriver.ChromeOptions() # В этот раз будем запускать браузер с опциями\n",
    "chrome_options.add_argument(\"--start-maximized\"); # Развернем его не весь экран\n",
    "# Если этого не сделать, то кнопка настроек поиска будет скрыта за пределами экрана и ее нельзя будет нажать\n",
    "driver = webdriver.Chrome(executable_path =\"chromedriver.exe\", options = chrome_options) # запускаем браузер\n",
    "\n",
    "driver.implicitly_wait(5) # Задаем время ожидания загрузки \n",
    "driver.get(\"https://yandex.ru\")  # Загружаем страницу\n",
    "\n",
    "\n",
    "aSearch = driver.find_element_by_name(\"text\") # Ищем поле для ввода запроса\n",
    "aSearch.send_keys(\"Python Selenium\") # Вводим запрос\n",
    "aSearch.send_keys(Keys.RETURN) # Нажимает Enter\n",
    "\n",
    "# Ради этой кнопки мы и разворачивали браузер во весь экран\n",
    "aBtn = driver.find_element_by_class_name(\"input__settings\") # Ищем \"кнопку\" настройки параметров запроса\n",
    "aBtn.click() # Нажимаем ее\n",
    "\n",
    "aSett = driver.find_element_by_css_selector(\"input[value='2']\") # Ищем \"кнопку-флажок\" за месяц\n",
    "aSett.click() # Устанавливаем\n",
    "\n",
    "aSearch = driver.find_element_by_name(\"text\") # Находим поле для ввода запроса\n",
    "aSearch.send_keys(Keys.RETURN) # Нажимает в нем Enter\n",
    "\n",
    "aNextBtn = driver.find_element_by_link_text(\"дальше\") # Ищем ссылку с текстом \"далее\"\n",
    "aNextBtn.click()  # Нажимаем ее\n",
    "\n",
    "aLinks = driver.find_elements_by_css_selector(\"h2 a\") # Получаем список ссылок на найденные статьи\n",
    "aLinks[1].click() # нажимаем вторую из них"
   ]
  },
  {
   "cell_type": "markdown",
   "metadata": {},
   "source": [
    "##### Задания для самостоятельного выполнения:"
   ]
  },
  {
   "cell_type": "markdown",
   "metadata": {},
   "source": [
    "    -Замените поисковую фразу \"Python Selenium\" на бессмысленный набор букв “grqrvwFCAEWDEF23ACDXVWFCFDCWDX” - Яндекс ничего не найдет и при попытке перехода на вторую страницу возникнет ошибка. Исправьте код, чтобы не было ошибки, а выводилось сообщение “Второй страницы поиска для запроса … не существует”"
   ]
  },
  {
   "cell_type": "code",
   "execution_count": null,
   "metadata": {},
   "outputs": [],
   "source": []
  }
 ],
 "metadata": {
  "kernelspec": {
   "display_name": "Python 3",
   "language": "python",
   "name": "python3"
  },
  "language_info": {
   "codemirror_mode": {
    "name": "ipython",
    "version": 3
   },
   "file_extension": ".py",
   "mimetype": "text/x-python",
   "name": "python",
   "nbconvert_exporter": "python",
   "pygments_lexer": "ipython3",
   "version": "3.6.6"
  }
 },
 "nbformat": 4,
 "nbformat_minor": 2
}
