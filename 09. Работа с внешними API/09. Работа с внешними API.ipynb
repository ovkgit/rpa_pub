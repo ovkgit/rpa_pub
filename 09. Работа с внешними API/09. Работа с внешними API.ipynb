{
 "cells": [
  {
   "cell_type": "markdown",
   "metadata": {},
   "source": [
    "# 09. Работа с внешними API"
   ]
  },
  {
   "cell_type": "markdown",
   "metadata": {},
   "source": [
    "## Вступление"
   ]
  },
  {
   "cell_type": "markdown",
   "metadata": {},
   "source": [
    "В этом уроке используются библиотеки apiclient и oauth2client. Вы можете скачайте этот файл себе на компьютер, зарегистрироваться в Google и установить библиотеки локально, а можете воспользоваться серверной версией и поработать под уже созданным аккаунтом."
   ]
  },
  {
   "cell_type": "markdown",
   "metadata": {},
   "source": [
    "## 1. Авторизация"
   ]
  },
  {
   "cell_type": "markdown",
   "metadata": {},
   "source": [
    "Сегодня много информации в интернете можно получить бесплатно и в удобном для дальнейшего использования виде (JSON или XML). \n",
    "Курсы валюты, прогноз погоды, информацию о пробках или географических объектах.\n",
    "\n",
    "Все взаимодействие с информационным сервисами происходит через их API - открытые для сторонних пользователей функции, с доступной документацией и даже примерами кода на разных языках.\n",
    "\n",
    "Иногда бесплатно доступны только базовые функции или стоит ограничение на количество запросов. \n",
    "\n",
    "Чтобы отслеживать это количество запросов (а еще для сбора маркетинговой статистики и рассылки рекламы) даже бесплатные сервисы требуют регистрацию и выдают информацию только после авторизации."
   ]
  },
  {
   "cell_type": "markdown",
   "metadata": {},
   "source": [
    "На сегодняшний день можно выделить три основных способа авторизации.\n",
    "1. Сервис при регистрации выдает ключ (ApiKey, APPID, Application Key), который нужно передавать в каждом запросе. Это удобно, достаточно одного служебного параметра чтобы получить данные.\n",
    "2. Устаревший способ - сервис выдает логин и пароль. При первом обращении к сервису нужно авторизоваться при помощи специальной функции, предоставляемой сервисом, в ответ получить уникальный идентификатор сессии и передавать его в каждом запросе (как ключ из предыдущего пункта). У этого идентификатора есть время жизни и через определенный срок он перестанет действовать. Тогда нужно снова авторизоваться. Я не смог найти ни одного бесплатного сервиса, который бы использовал этот способ. Но нужно знать, что такое возможно.\n",
    "3. Наиболее продвинутые сервисы предоставляют специально разработанные Python-библиотеки для доступа к своим сервисам. В них при первом обращении нужно авторизоваться, используя выданный ключ, а ответ библиотека вернет Python-объект, с помощью которого можно осуществлять все дальнейшие действия. \n",
    "Ниже мы разберем примеры работы по способам 1 и 3.\n"
   ]
  },
  {
   "cell_type": "markdown",
   "metadata": {},
   "source": [
    "## 2. Получаем прогноз погоды"
   ]
  },
  {
   "cell_type": "markdown",
   "metadata": {},
   "source": [
    "Сайт https://openweathermap.org/ предоставляет множество погодных сервисов. Чтобы пользоваться ими нужно пройти регистрацию на сайте и получить ключ (ApiKey). Я уже прошел регистрацию и получил ключ, именно им мы и будет пользоваться.\n",
    "\n",
    "Если вы захотите использовать этот сайт для вашей работы, вам следует зарегистрироваться на сайте и получить свой ключ.\n",
    "\n",
    "Авторизация проходит по способу 1.\n",
    "\n",
    "Прогноз погоды можно получить по коду города или географическим координатам. А код города можно получить выполнив запрос."
   ]
  },
  {
   "cell_type": "markdown",
   "metadata": {},
   "source": [
    "Адрес запросе http://api.openweathermap.org/data/2.5/find\n",
    "\n",
    "Параметры:\n",
    "\n",
    "- q - Название города на английском\n",
    "- type - тип сопоставления. Будем использовать like - название города должно включать в себя текст, указанный в запросе.\n",
    "- units - в каких градусах указывать температуру. В данном случае это не имеет значение, но в запросах погоды будет использовать metric - градусы Цельция.\n",
    "- APPID - код для авторизации. В нашем примере используется код c6dfe45cf458e6208c3a8c3d63269451\n",
    "\n",
    "Наиболее простой вариант получения ответа - просто просто отправить запрос при помощи библиотеки requests, соединив все параметры в одну адресную строку, и получить ответ\n"
   ]
  },
  {
   "cell_type": "code",
   "execution_count": null,
   "metadata": {},
   "outputs": [],
   "source": [
    "import requests\n",
    "r = requests.get(\"http://api.openweathermap.org/data/2.5/find?q=Moscow&type=like&APPID=c6dfe45cf458e6208c3a8c3d63269451\")\n",
    "r.json()"
   ]
  },
  {
   "cell_type": "markdown",
   "metadata": {},
   "source": [
    "Это не самый наглядный вариант. Параметры замешаны в строке и их трудно воспринимать. Перепишем запрос"
   ]
  },
  {
   "cell_type": "code",
   "execution_count": null,
   "metadata": {},
   "outputs": [],
   "source": [
    "import requests\n",
    "s_city = \"Moscow\"\n",
    "appid = 'c6dfe45cf458e6208c3a8c3d63269451'\n",
    "r = requests.get(\"http://api.openweathermap.org/data/2.5/find\",\n",
    "                 params={\"q\": s_city, \"type\": \"like\", \"units\": \"metric\", \"APPID\": appid})\n",
    "r.json()"
   ]
  },
  {
   "cell_type": "markdown",
   "metadata": {},
   "source": [
    "Так гораздо нагляднее и понятнее.\n",
    "\n",
    "Проанализировав json-ответ пишем код, который будет выводить список найденных городов."
   ]
  },
  {
   "cell_type": "code",
   "execution_count": null,
   "metadata": {},
   "outputs": [],
   "source": [
    "import requests\n",
    "s_city = \"Moscow\"\n",
    "appid = 'c6dfe45cf458e6208c3a8c3d63269451'\n",
    "r = requests.get(\"http://api.openweathermap.org/data/2.5/find\",\n",
    "                 params={\"q\": s_city, \"type\": \"like\", \"units\": \"metric\", \"APPID\": appid})\n",
    "for s in r.json()['list'] :\n",
    "    print(s['id'], s['name'], s['sys']['country'])"
   ]
  },
  {
   "cell_type": "markdown",
   "metadata": {},
   "source": [
    "Этот скрипт выводит ID города, название и страну.\n",
    "\n",
    "Возьмет код Москвы (той что в России) - 524901. \n",
    "\n",
    "Запросим погоду в Москве"
   ]
  },
  {
   "cell_type": "code",
   "execution_count": 1,
   "metadata": {},
   "outputs": [
    {
     "data": {
      "text/plain": [
       "{'coord': {'lon': 37.62, 'lat': 55.75},\n",
       " 'weather': [{'id': 800,\n",
       "   'main': 'Clear',\n",
       "   'description': 'ясно',\n",
       "   'icon': '01n'}],\n",
       " 'base': 'stations',\n",
       " 'main': {'temp': 15.36,\n",
       "  'pressure': 1006,\n",
       "  'humidity': 77,\n",
       "  'temp_min': 15,\n",
       "  'temp_max': 16.11},\n",
       " 'visibility': 10000,\n",
       " 'wind': {'speed': 3, 'deg': 210, 'gust': 8},\n",
       " 'clouds': {'all': 0},\n",
       " 'dt': 1570042623,\n",
       " 'sys': {'type': 1,\n",
       "  'id': 9027,\n",
       "  'message': 0.0145,\n",
       "  'country': 'RU',\n",
       "  'sunrise': 1569987190,\n",
       "  'sunset': 1570028683},\n",
       " 'timezone': 10800,\n",
       " 'id': 524901,\n",
       " 'name': 'Moscow',\n",
       " 'cod': 200}"
      ]
     },
     "execution_count": 1,
     "metadata": {},
     "output_type": "execute_result"
    }
   ],
   "source": [
    "import requests\n",
    "appid = 'c6dfe45cf458e6208c3a8c3d63269451'\n",
    "city_id = 524901 # Код Москвы\n",
    "res = requests.get(\"http://api.openweathermap.org/data/2.5/weather\", # Формируем запрос\n",
    "                 params={'id': city_id, 'units': 'metric', 'lang': 'ru', 'APPID': appid})\n",
    "res.json()"
   ]
  },
  {
   "cell_type": "markdown",
   "metadata": {},
   "source": [
    "Проанализировав json выберем из него самые важные параметры и допишем код, чтобы вывод данных был более наглядным"
   ]
  },
  {
   "cell_type": "code",
   "execution_count": 2,
   "metadata": {},
   "outputs": [
    {
     "name": "stdout",
     "output_type": "stream",
     "text": [
      "Погода: ясно\n",
      "Температура в данное время: 15.36\n",
      "Минимальная температура сегодня: 15\n",
      "Максимальная температура сегодня: 16.11\n"
     ]
    },
    {
     "data": {
      "text/html": [
       "<img src=\"http://openweathermap.org/img/wn/01n.png\"/>"
      ],
      "text/plain": [
       "<IPython.core.display.Image object>"
      ]
     },
     "metadata": {},
     "output_type": "display_data"
    }
   ],
   "source": [
    "import requests\n",
    "from IPython.display import Image # Библиотека для отображения картинок\n",
    "from IPython.core.display import HTML # Библиотека для отображения HTML\n",
    "appid = 'c6dfe45cf458e6208c3a8c3d63269451'\n",
    "city_id = 524901 # Код Москвы\n",
    "res = requests.get(\"http://api.openweathermap.org/data/2.5/weather\", # Формируем запрос\n",
    "                 params={'id': city_id, 'units': 'metric', 'lang': 'ru', 'APPID': appid})\n",
    "data = res.json() # Получает ответ в JSON\n",
    "print(\"Погода:\", data['weather'][0]['description'])\n",
    "print(\"Температура в данное время:\", data['main']['temp'])\n",
    "print(\"Минимальная температура сегодня:\", data['main']['temp_min'])\n",
    "print(\"Максимальная температура сегодня:\", data['main']['temp_max'])\n",
    "# Выводим иконку текущей погоды. \n",
    "display(Image(url= 'http://openweathermap.org/img/wn/' + data['weather'][0]['icon'] + '.png'))"
   ]
  },
  {
   "cell_type": "markdown",
   "metadata": {},
   "source": [
    "В этом сервисе есть еще одна функция - прогноз погоды на 5 дней с шагом в 3 часа.\n",
    "Нужно изменить только адрес запроса - http://api.openweathermap.org/data/2.5/forecast - остальные параметры остаются прежними."
   ]
  },
  {
   "cell_type": "code",
   "execution_count": 3,
   "metadata": {},
   "outputs": [
    {
     "data": {
      "text/plain": [
       "{'cod': '200',\n",
       " 'message': 0.0091,\n",
       " 'cnt': 40,\n",
       " 'list': [{'dt': 1570050000,\n",
       "   'main': {'temp': 13.86,\n",
       "    'temp_min': 11.87,\n",
       "    'temp_max': 13.86,\n",
       "    'pressure': 1007.76,\n",
       "    'sea_level': 1007.76,\n",
       "    'grnd_level': 985.71,\n",
       "    'humidity': 91,\n",
       "    'temp_kf': 1.99},\n",
       "   'weather': [{'id': 500,\n",
       "     'main': 'Rain',\n",
       "     'description': 'легкий дождь',\n",
       "     'icon': '10n'}],\n",
       "   'clouds': {'all': 99},\n",
       "   'wind': {'speed': 3.19, 'deg': 247.675},\n",
       "   'rain': {'3h': 0.812},\n",
       "   'sys': {'pod': 'n'},\n",
       "   'dt_txt': '2019-10-02 21:00:00'},\n",
       "  {'dt': 1570060800,\n",
       "   'main': {'temp': 12.79,\n",
       "    'temp_min': 11.3,\n",
       "    'temp_max': 12.79,\n",
       "    'pressure': 1009.29,\n",
       "    'sea_level': 1009.29,\n",
       "    'grnd_level': 986.97,\n",
       "    'humidity': 95,\n",
       "    'temp_kf': 1.49},\n",
       "   'weather': [{'id': 500,\n",
       "     'main': 'Rain',\n",
       "     'description': 'легкий дождь',\n",
       "     'icon': '10n'}],\n",
       "   'clouds': {'all': 100},\n",
       "   'wind': {'speed': 1.67, 'deg': 192.38},\n",
       "   'rain': {'3h': 1.376},\n",
       "   'sys': {'pod': 'n'},\n",
       "   'dt_txt': '2019-10-03 00:00:00'},\n",
       "  {'dt': 1570071600,\n",
       "   'main': {'temp': 11.19,\n",
       "    'temp_min': 10.19,\n",
       "    'temp_max': 11.19,\n",
       "    'pressure': 1008.03,\n",
       "    'sea_level': 1008.03,\n",
       "    'grnd_level': 985.5,\n",
       "    'humidity': 90,\n",
       "    'temp_kf': 1},\n",
       "   'weather': [{'id': 804,\n",
       "     'main': 'Clouds',\n",
       "     'description': 'пасмурно',\n",
       "     'icon': '04n'}],\n",
       "   'clouds': {'all': 100},\n",
       "   'wind': {'speed': 2.81, 'deg': 164.979},\n",
       "   'sys': {'pod': 'n'},\n",
       "   'dt_txt': '2019-10-03 03:00:00'},\n",
       "  {'dt': 1570082400,\n",
       "   'main': {'temp': 12.22,\n",
       "    'temp_min': 11.72,\n",
       "    'temp_max': 12.22,\n",
       "    'pressure': 1008.25,\n",
       "    'sea_level': 1008.25,\n",
       "    'grnd_level': 985.85,\n",
       "    'humidity': 78,\n",
       "    'temp_kf': 0.5},\n",
       "   'weather': [{'id': 804,\n",
       "     'main': 'Clouds',\n",
       "     'description': 'пасмурно',\n",
       "     'icon': '04d'}],\n",
       "   'clouds': {'all': 100},\n",
       "   'wind': {'speed': 4.34, 'deg': 180.462},\n",
       "   'sys': {'pod': 'd'},\n",
       "   'dt_txt': '2019-10-03 06:00:00'},\n",
       "  {'dt': 1570093200,\n",
       "   'main': {'temp': 14.94,\n",
       "    'temp_min': 14.94,\n",
       "    'temp_max': 14.94,\n",
       "    'pressure': 1007.47,\n",
       "    'sea_level': 1007.47,\n",
       "    'grnd_level': 985.43,\n",
       "    'humidity': 63,\n",
       "    'temp_kf': 0},\n",
       "   'weather': [{'id': 804,\n",
       "     'main': 'Clouds',\n",
       "     'description': 'пасмурно',\n",
       "     'icon': '04d'}],\n",
       "   'clouds': {'all': 100},\n",
       "   'wind': {'speed': 5.12, 'deg': 183.772},\n",
       "   'sys': {'pod': 'd'},\n",
       "   'dt_txt': '2019-10-03 09:00:00'},\n",
       "  {'dt': 1570104000,\n",
       "   'main': {'temp': 17.43,\n",
       "    'temp_min': 17.43,\n",
       "    'temp_max': 17.43,\n",
       "    'pressure': 1006.74,\n",
       "    'sea_level': 1006.74,\n",
       "    'grnd_level': 984.69,\n",
       "    'humidity': 53,\n",
       "    'temp_kf': 0},\n",
       "   'weather': [{'id': 804,\n",
       "     'main': 'Clouds',\n",
       "     'description': 'пасмурно',\n",
       "     'icon': '04d'}],\n",
       "   'clouds': {'all': 100},\n",
       "   'wind': {'speed': 5.16, 'deg': 185.644},\n",
       "   'sys': {'pod': 'd'},\n",
       "   'dt_txt': '2019-10-03 12:00:00'},\n",
       "  {'dt': 1570114800,\n",
       "   'main': {'temp': 14.85,\n",
       "    'temp_min': 14.85,\n",
       "    'temp_max': 14.85,\n",
       "    'pressure': 1006.18,\n",
       "    'sea_level': 1006.18,\n",
       "    'grnd_level': 984.14,\n",
       "    'humidity': 63,\n",
       "    'temp_kf': 0},\n",
       "   'weather': [{'id': 804,\n",
       "     'main': 'Clouds',\n",
       "     'description': 'пасмурно',\n",
       "     'icon': '04d'}],\n",
       "   'clouds': {'all': 100},\n",
       "   'wind': {'speed': 4.54, 'deg': 187.319},\n",
       "   'sys': {'pod': 'd'},\n",
       "   'dt_txt': '2019-10-03 15:00:00'},\n",
       "  {'dt': 1570125600,\n",
       "   'main': {'temp': 14.07,\n",
       "    'temp_min': 14.07,\n",
       "    'temp_max': 14.07,\n",
       "    'pressure': 1005.61,\n",
       "    'sea_level': 1005.61,\n",
       "    'grnd_level': 983.44,\n",
       "    'humidity': 69,\n",
       "    'temp_kf': 0},\n",
       "   'weather': [{'id': 804,\n",
       "     'main': 'Clouds',\n",
       "     'description': 'пасмурно',\n",
       "     'icon': '04n'}],\n",
       "   'clouds': {'all': 100},\n",
       "   'wind': {'speed': 4.97, 'deg': 187.095},\n",
       "   'sys': {'pod': 'n'},\n",
       "   'dt_txt': '2019-10-03 18:00:00'},\n",
       "  {'dt': 1570136400,\n",
       "   'main': {'temp': 13.02,\n",
       "    'temp_min': 13.02,\n",
       "    'temp_max': 13.02,\n",
       "    'pressure': 1004.3,\n",
       "    'sea_level': 1004.3,\n",
       "    'grnd_level': 982.18,\n",
       "    'humidity': 72,\n",
       "    'temp_kf': 0},\n",
       "   'weather': [{'id': 804,\n",
       "     'main': 'Clouds',\n",
       "     'description': 'пасмурно',\n",
       "     'icon': '04n'}],\n",
       "   'clouds': {'all': 98},\n",
       "   'wind': {'speed': 4.65, 'deg': 185.836},\n",
       "   'sys': {'pod': 'n'},\n",
       "   'dt_txt': '2019-10-03 21:00:00'},\n",
       "  {'dt': 1570147200,\n",
       "   'main': {'temp': 12.45,\n",
       "    'temp_min': 12.45,\n",
       "    'temp_max': 12.45,\n",
       "    'pressure': 1002.98,\n",
       "    'sea_level': 1002.98,\n",
       "    'grnd_level': 981.01,\n",
       "    'humidity': 76,\n",
       "    'temp_kf': 0},\n",
       "   'weather': [{'id': 804,\n",
       "     'main': 'Clouds',\n",
       "     'description': 'пасмурно',\n",
       "     'icon': '04n'}],\n",
       "   'clouds': {'all': 97},\n",
       "   'wind': {'speed': 4.71, 'deg': 177.067},\n",
       "   'sys': {'pod': 'n'},\n",
       "   'dt_txt': '2019-10-04 00:00:00'},\n",
       "  {'dt': 1570158000,\n",
       "   'main': {'temp': 11.89,\n",
       "    'temp_min': 11.89,\n",
       "    'temp_max': 11.89,\n",
       "    'pressure': 1001.32,\n",
       "    'sea_level': 1001.32,\n",
       "    'grnd_level': 979.14,\n",
       "    'humidity': 82,\n",
       "    'temp_kf': 0},\n",
       "   'weather': [{'id': 500,\n",
       "     'main': 'Rain',\n",
       "     'description': 'легкий дождь',\n",
       "     'icon': '10n'}],\n",
       "   'clouds': {'all': 100},\n",
       "   'wind': {'speed': 4.54, 'deg': 176.044},\n",
       "   'rain': {'3h': 0.188},\n",
       "   'sys': {'pod': 'n'},\n",
       "   'dt_txt': '2019-10-04 03:00:00'},\n",
       "  {'dt': 1570168800,\n",
       "   'main': {'temp': 12.24,\n",
       "    'temp_min': 12.24,\n",
       "    'temp_max': 12.24,\n",
       "    'pressure': 1001.39,\n",
       "    'sea_level': 1001.39,\n",
       "    'grnd_level': 978.53,\n",
       "    'humidity': 88,\n",
       "    'temp_kf': 0},\n",
       "   'weather': [{'id': 500,\n",
       "     'main': 'Rain',\n",
       "     'description': 'легкий дождь',\n",
       "     'icon': '10d'}],\n",
       "   'clouds': {'all': 100},\n",
       "   'wind': {'speed': 4.78, 'deg': 202.178},\n",
       "   'rain': {'3h': 1.062},\n",
       "   'sys': {'pod': 'd'},\n",
       "   'dt_txt': '2019-10-04 06:00:00'},\n",
       "  {'dt': 1570179600,\n",
       "   'main': {'temp': 10.34,\n",
       "    'temp_min': 10.34,\n",
       "    'temp_max': 10.34,\n",
       "    'pressure': 1002.88,\n",
       "    'sea_level': 1002.88,\n",
       "    'grnd_level': 980.67,\n",
       "    'humidity': 88,\n",
       "    'temp_kf': 0},\n",
       "   'weather': [{'id': 500,\n",
       "     'main': 'Rain',\n",
       "     'description': 'легкий дождь',\n",
       "     'icon': '10d'}],\n",
       "   'clouds': {'all': 100},\n",
       "   'wind': {'speed': 4.65, 'deg': 268.99},\n",
       "   'rain': {'3h': 2.5},\n",
       "   'sys': {'pod': 'd'},\n",
       "   'dt_txt': '2019-10-04 09:00:00'},\n",
       "  {'dt': 1570190400,\n",
       "   'main': {'temp': 11.05,\n",
       "    'temp_min': 11.05,\n",
       "    'temp_max': 11.05,\n",
       "    'pressure': 1005.06,\n",
       "    'sea_level': 1005.06,\n",
       "    'grnd_level': 982.65,\n",
       "    'humidity': 72,\n",
       "    'temp_kf': 0},\n",
       "   'weather': [{'id': 500,\n",
       "     'main': 'Rain',\n",
       "     'description': 'легкий дождь',\n",
       "     'icon': '10d'}],\n",
       "   'clouds': {'all': 100},\n",
       "   'wind': {'speed': 4.76, 'deg': 265.051},\n",
       "   'rain': {'3h': 0.812},\n",
       "   'sys': {'pod': 'd'},\n",
       "   'dt_txt': '2019-10-04 12:00:00'},\n",
       "  {'dt': 1570201200,\n",
       "   'main': {'temp': 8.6,\n",
       "    'temp_min': 8.6,\n",
       "    'temp_max': 8.6,\n",
       "    'pressure': 1006.66,\n",
       "    'sea_level': 1006.66,\n",
       "    'grnd_level': 983.98,\n",
       "    'humidity': 80,\n",
       "    'temp_kf': 0},\n",
       "   'weather': [{'id': 500,\n",
       "     'main': 'Rain',\n",
       "     'description': 'легкий дождь',\n",
       "     'icon': '10n'}],\n",
       "   'clouds': {'all': 83},\n",
       "   'wind': {'speed': 3.93, 'deg': 297.836},\n",
       "   'rain': {'3h': 0.062},\n",
       "   'sys': {'pod': 'n'},\n",
       "   'dt_txt': '2019-10-04 15:00:00'},\n",
       "  {'dt': 1570212000,\n",
       "   'main': {'temp': 6.92,\n",
       "    'temp_min': 6.92,\n",
       "    'temp_max': 6.92,\n",
       "    'pressure': 1007.47,\n",
       "    'sea_level': 1007.47,\n",
       "    'grnd_level': 984.78,\n",
       "    'humidity': 79,\n",
       "    'temp_kf': 0},\n",
       "   'weather': [{'id': 804,\n",
       "     'main': 'Clouds',\n",
       "     'description': 'пасмурно',\n",
       "     'icon': '04n'}],\n",
       "   'clouds': {'all': 91},\n",
       "   'wind': {'speed': 2.14, 'deg': 300.652},\n",
       "   'sys': {'pod': 'n'},\n",
       "   'dt_txt': '2019-10-04 18:00:00'},\n",
       "  {'dt': 1570222800,\n",
       "   'main': {'temp': 6.58,\n",
       "    'temp_min': 6.58,\n",
       "    'temp_max': 6.58,\n",
       "    'pressure': 1007.16,\n",
       "    'sea_level': 1007.16,\n",
       "    'grnd_level': 984.36,\n",
       "    'humidity': 78,\n",
       "    'temp_kf': 0},\n",
       "   'weather': [{'id': 804,\n",
       "     'main': 'Clouds',\n",
       "     'description': 'пасмурно',\n",
       "     'icon': '04n'}],\n",
       "   'clouds': {'all': 100},\n",
       "   'wind': {'speed': 1.86, 'deg': 270.525},\n",
       "   'sys': {'pod': 'n'},\n",
       "   'dt_txt': '2019-10-04 21:00:00'},\n",
       "  {'dt': 1570233600,\n",
       "   'main': {'temp': 5.93,\n",
       "    'temp_min': 5.93,\n",
       "    'temp_max': 5.93,\n",
       "    'pressure': 1007.47,\n",
       "    'sea_level': 1007.47,\n",
       "    'grnd_level': 984.45,\n",
       "    'humidity': 85,\n",
       "    'temp_kf': 0},\n",
       "   'weather': [{'id': 804,\n",
       "     'main': 'Clouds',\n",
       "     'description': 'пасмурно',\n",
       "     'icon': '04n'}],\n",
       "   'clouds': {'all': 100},\n",
       "   'wind': {'speed': 1.26, 'deg': 307.951},\n",
       "   'sys': {'pod': 'n'},\n",
       "   'dt_txt': '2019-10-05 00:00:00'},\n",
       "  {'dt': 1570244400,\n",
       "   'main': {'temp': 4.54,\n",
       "    'temp_min': 4.54,\n",
       "    'temp_max': 4.54,\n",
       "    'pressure': 1007.67,\n",
       "    'sea_level': 1007.67,\n",
       "    'grnd_level': 984.4,\n",
       "    'humidity': 91,\n",
       "    'temp_kf': 0},\n",
       "   'weather': [{'id': 803,\n",
       "     'main': 'Clouds',\n",
       "     'description': 'пасмурно',\n",
       "     'icon': '04n'}],\n",
       "   'clouds': {'all': 83},\n",
       "   'wind': {'speed': 2.24, 'deg': 320.136},\n",
       "   'sys': {'pod': 'n'},\n",
       "   'dt_txt': '2019-10-05 03:00:00'},\n",
       "  {'dt': 1570255200,\n",
       "   'main': {'temp': 5.9,\n",
       "    'temp_min': 5.9,\n",
       "    'temp_max': 5.9,\n",
       "    'pressure': 1008.18,\n",
       "    'sea_level': 1008.18,\n",
       "    'grnd_level': 985.23,\n",
       "    'humidity': 83,\n",
       "    'temp_kf': 0},\n",
       "   'weather': [{'id': 802,\n",
       "     'main': 'Clouds',\n",
       "     'description': 'слегка облачно',\n",
       "     'icon': '03d'}],\n",
       "   'clouds': {'all': 43},\n",
       "   'wind': {'speed': 2.4, 'deg': 314.325},\n",
       "   'sys': {'pod': 'd'},\n",
       "   'dt_txt': '2019-10-05 06:00:00'},\n",
       "  {'dt': 1570266000,\n",
       "   'main': {'temp': 8.55,\n",
       "    'temp_min': 8.55,\n",
       "    'temp_max': 8.55,\n",
       "    'pressure': 1009.04,\n",
       "    'sea_level': 1009.04,\n",
       "    'grnd_level': 986.36,\n",
       "    'humidity': 67,\n",
       "    'temp_kf': 0},\n",
       "   'weather': [{'id': 801,\n",
       "     'main': 'Clouds',\n",
       "     'description': 'облачно',\n",
       "     'icon': '02d'}],\n",
       "   'clouds': {'all': 12},\n",
       "   'wind': {'speed': 3.05, 'deg': 290.468},\n",
       "   'sys': {'pod': 'd'},\n",
       "   'dt_txt': '2019-10-05 09:00:00'},\n",
       "  {'dt': 1570276800,\n",
       "   'main': {'temp': 8.79,\n",
       "    'temp_min': 8.79,\n",
       "    'temp_max': 8.79,\n",
       "    'pressure': 1009.89,\n",
       "    'sea_level': 1009.89,\n",
       "    'grnd_level': 987.36,\n",
       "    'humidity': 61,\n",
       "    'temp_kf': 0},\n",
       "   'weather': [{'id': 802,\n",
       "     'main': 'Clouds',\n",
       "     'description': 'слегка облачно',\n",
       "     'icon': '03d'}],\n",
       "   'clouds': {'all': 41},\n",
       "   'wind': {'speed': 3.5, 'deg': 292.357},\n",
       "   'sys': {'pod': 'd'},\n",
       "   'dt_txt': '2019-10-05 12:00:00'},\n",
       "  {'dt': 1570287600,\n",
       "   'main': {'temp': 7.15,\n",
       "    'temp_min': 7.15,\n",
       "    'temp_max': 7.15,\n",
       "    'pressure': 1011.24,\n",
       "    'sea_level': 1011.24,\n",
       "    'grnd_level': 988.17,\n",
       "    'humidity': 68,\n",
       "    'temp_kf': 0},\n",
       "   'weather': [{'id': 804,\n",
       "     'main': 'Clouds',\n",
       "     'description': 'пасмурно',\n",
       "     'icon': '04n'}],\n",
       "   'clouds': {'all': 89},\n",
       "   'wind': {'speed': 2.49, 'deg': 304.315},\n",
       "   'sys': {'pod': 'n'},\n",
       "   'dt_txt': '2019-10-05 15:00:00'},\n",
       "  {'dt': 1570298400,\n",
       "   'main': {'temp': 6.04,\n",
       "    'temp_min': 6.04,\n",
       "    'temp_max': 6.04,\n",
       "    'pressure': 1013.11,\n",
       "    'sea_level': 1013.11,\n",
       "    'grnd_level': 990.05,\n",
       "    'humidity': 74,\n",
       "    'temp_kf': 0},\n",
       "   'weather': [{'id': 804,\n",
       "     'main': 'Clouds',\n",
       "     'description': 'пасмурно',\n",
       "     'icon': '04n'}],\n",
       "   'clouds': {'all': 94},\n",
       "   'wind': {'speed': 1.97, 'deg': 324.472},\n",
       "   'sys': {'pod': 'n'},\n",
       "   'dt_txt': '2019-10-05 18:00:00'},\n",
       "  {'dt': 1570309200,\n",
       "   'main': {'temp': 4.78,\n",
       "    'temp_min': 4.78,\n",
       "    'temp_max': 4.78,\n",
       "    'pressure': 1014.08,\n",
       "    'sea_level': 1014.08,\n",
       "    'grnd_level': 990.94,\n",
       "    'humidity': 79,\n",
       "    'temp_kf': 0},\n",
       "   'weather': [{'id': 804,\n",
       "     'main': 'Clouds',\n",
       "     'description': 'пасмурно',\n",
       "     'icon': '04n'}],\n",
       "   'clouds': {'all': 98},\n",
       "   'wind': {'speed': 1.41, 'deg': 24.752},\n",
       "   'sys': {'pod': 'n'},\n",
       "   'dt_txt': '2019-10-05 21:00:00'},\n",
       "  {'dt': 1570320000,\n",
       "   'main': {'temp': 4.16,\n",
       "    'temp_min': 4.16,\n",
       "    'temp_max': 4.16,\n",
       "    'pressure': 1014.69,\n",
       "    'sea_level': 1014.69,\n",
       "    'grnd_level': 991.48,\n",
       "    'humidity': 79,\n",
       "    'temp_kf': 0},\n",
       "   'weather': [{'id': 804,\n",
       "     'main': 'Clouds',\n",
       "     'description': 'пасмурно',\n",
       "     'icon': '04n'}],\n",
       "   'clouds': {'all': 99},\n",
       "   'wind': {'speed': 2.43, 'deg': 24.241},\n",
       "   'sys': {'pod': 'n'},\n",
       "   'dt_txt': '2019-10-06 00:00:00'},\n",
       "  {'dt': 1570330800,\n",
       "   'main': {'temp': 2.78,\n",
       "    'temp_min': 2.78,\n",
       "    'temp_max': 2.78,\n",
       "    'pressure': 1015.05,\n",
       "    'sea_level': 1015.05,\n",
       "    'grnd_level': 991.73,\n",
       "    'humidity': 83,\n",
       "    'temp_kf': 0},\n",
       "   'weather': [{'id': 804,\n",
       "     'main': 'Clouds',\n",
       "     'description': 'пасмурно',\n",
       "     'icon': '04n'}],\n",
       "   'clouds': {'all': 100},\n",
       "   'wind': {'speed': 2.79, 'deg': 23.38},\n",
       "   'sys': {'pod': 'n'},\n",
       "   'dt_txt': '2019-10-06 03:00:00'},\n",
       "  {'dt': 1570341600,\n",
       "   'main': {'temp': 3.13,\n",
       "    'temp_min': 3.13,\n",
       "    'temp_max': 3.13,\n",
       "    'pressure': 1015.45,\n",
       "    'sea_level': 1015.45,\n",
       "    'grnd_level': 992.45,\n",
       "    'humidity': 77,\n",
       "    'temp_kf': 0},\n",
       "   'weather': [{'id': 804,\n",
       "     'main': 'Clouds',\n",
       "     'description': 'пасмурно',\n",
       "     'icon': '04d'}],\n",
       "   'clouds': {'all': 99},\n",
       "   'wind': {'speed': 2.86, 'deg': 21.645},\n",
       "   'sys': {'pod': 'd'},\n",
       "   'dt_txt': '2019-10-06 06:00:00'},\n",
       "  {'dt': 1570352400,\n",
       "   'main': {'temp': 5.8,\n",
       "    'temp_min': 5.8,\n",
       "    'temp_max': 5.8,\n",
       "    'pressure': 1015.74,\n",
       "    'sea_level': 1015.74,\n",
       "    'grnd_level': 992.72,\n",
       "    'humidity': 64,\n",
       "    'temp_kf': 0},\n",
       "   'weather': [{'id': 804,\n",
       "     'main': 'Clouds',\n",
       "     'description': 'пасмурно',\n",
       "     'icon': '04d'}],\n",
       "   'clouds': {'all': 95},\n",
       "   'wind': {'speed': 2.76, 'deg': 42.932},\n",
       "   'sys': {'pod': 'd'},\n",
       "   'dt_txt': '2019-10-06 09:00:00'},\n",
       "  {'dt': 1570363200,\n",
       "   'main': {'temp': 6.48,\n",
       "    'temp_min': 6.48,\n",
       "    'temp_max': 6.48,\n",
       "    'pressure': 1015.15,\n",
       "    'sea_level': 1015.15,\n",
       "    'grnd_level': 992.09,\n",
       "    'humidity': 62,\n",
       "    'temp_kf': 0},\n",
       "   'weather': [{'id': 804,\n",
       "     'main': 'Clouds',\n",
       "     'description': 'пасмурно',\n",
       "     'icon': '04d'}],\n",
       "   'clouds': {'all': 96},\n",
       "   'wind': {'speed': 2.81, 'deg': 35.158},\n",
       "   'sys': {'pod': 'd'},\n",
       "   'dt_txt': '2019-10-06 12:00:00'},\n",
       "  {'dt': 1570374000,\n",
       "   'main': {'temp': 5.65,\n",
       "    'temp_min': 5.65,\n",
       "    'temp_max': 5.65,\n",
       "    'pressure': 1014.97,\n",
       "    'sea_level': 1014.97,\n",
       "    'grnd_level': 991.77,\n",
       "    'humidity': 68,\n",
       "    'temp_kf': 0},\n",
       "   'weather': [{'id': 804,\n",
       "     'main': 'Clouds',\n",
       "     'description': 'пасмурно',\n",
       "     'icon': '04n'}],\n",
       "   'clouds': {'all': 100},\n",
       "   'wind': {'speed': 2.72, 'deg': 40.835},\n",
       "   'sys': {'pod': 'n'},\n",
       "   'dt_txt': '2019-10-06 15:00:00'},\n",
       "  {'dt': 1570384800,\n",
       "   'main': {'temp': 3.65,\n",
       "    'temp_min': 3.65,\n",
       "    'temp_max': 3.65,\n",
       "    'pressure': 1015.27,\n",
       "    'sea_level': 1015.27,\n",
       "    'grnd_level': 992.15,\n",
       "    'humidity': 75,\n",
       "    'temp_kf': 0},\n",
       "   'weather': [{'id': 804,\n",
       "     'main': 'Clouds',\n",
       "     'description': 'пасмурно',\n",
       "     'icon': '04n'}],\n",
       "   'clouds': {'all': 100},\n",
       "   'wind': {'speed': 3.27, 'deg': 43.338},\n",
       "   'sys': {'pod': 'n'},\n",
       "   'dt_txt': '2019-10-06 18:00:00'},\n",
       "  {'dt': 1570395600,\n",
       "   'main': {'temp': 2.86,\n",
       "    'temp_min': 2.86,\n",
       "    'temp_max': 2.86,\n",
       "    'pressure': 1014.18,\n",
       "    'sea_level': 1014.18,\n",
       "    'grnd_level': 990.9,\n",
       "    'humidity': 70,\n",
       "    'temp_kf': 0},\n",
       "   'weather': [{'id': 804,\n",
       "     'main': 'Clouds',\n",
       "     'description': 'пасмурно',\n",
       "     'icon': '04n'}],\n",
       "   'clouds': {'all': 100},\n",
       "   'wind': {'speed': 4.27, 'deg': 22.389},\n",
       "   'sys': {'pod': 'n'},\n",
       "   'dt_txt': '2019-10-06 21:00:00'},\n",
       "  {'dt': 1570406400,\n",
       "   'main': {'temp': 2.45,\n",
       "    'temp_min': 2.45,\n",
       "    'temp_max': 2.45,\n",
       "    'pressure': 1013.36,\n",
       "    'sea_level': 1013.36,\n",
       "    'grnd_level': 989.69,\n",
       "    'humidity': 72,\n",
       "    'temp_kf': 0},\n",
       "   'weather': [{'id': 804,\n",
       "     'main': 'Clouds',\n",
       "     'description': 'пасмурно',\n",
       "     'icon': '04n'}],\n",
       "   'clouds': {'all': 100},\n",
       "   'wind': {'speed': 5.23, 'deg': 22.633},\n",
       "   'sys': {'pod': 'n'},\n",
       "   'dt_txt': '2019-10-07 00:00:00'},\n",
       "  {'dt': 1570417200,\n",
       "   'main': {'temp': 0.49,\n",
       "    'temp_min': 0.49,\n",
       "    'temp_max': 0.49,\n",
       "    'pressure': 1012.32,\n",
       "    'sea_level': 1012.32,\n",
       "    'grnd_level': 988.84,\n",
       "    'humidity': 94,\n",
       "    'temp_kf': 0},\n",
       "   'weather': [{'id': 600,\n",
       "     'main': 'Snow',\n",
       "     'description': 'небольшой снегопад',\n",
       "     'icon': '13n'}],\n",
       "   'clouds': {'all': 100},\n",
       "   'wind': {'speed': 5.98, 'deg': 14.608},\n",
       "   'snow': {'3h': 0.812},\n",
       "   'sys': {'pod': 'n'},\n",
       "   'dt_txt': '2019-10-07 03:00:00'},\n",
       "  {'dt': 1570428000,\n",
       "   'main': {'temp': 0.7,\n",
       "    'temp_min': 0.7,\n",
       "    'temp_max': 0.7,\n",
       "    'pressure': 1011.19,\n",
       "    'sea_level': 1011.19,\n",
       "    'grnd_level': 987.75,\n",
       "    'humidity': 93,\n",
       "    'temp_kf': 0},\n",
       "   'weather': [{'id': 600,\n",
       "     'main': 'Snow',\n",
       "     'description': 'небольшой снегопад',\n",
       "     'icon': '13d'}],\n",
       "   'clouds': {'all': 100},\n",
       "   'wind': {'speed': 6.47, 'deg': 4.806},\n",
       "   'snow': {'3h': 1.25},\n",
       "   'sys': {'pod': 'd'},\n",
       "   'dt_txt': '2019-10-07 06:00:00'},\n",
       "  {'dt': 1570438800,\n",
       "   'main': {'temp': 1.53,\n",
       "    'temp_min': 1.53,\n",
       "    'temp_max': 1.53,\n",
       "    'pressure': 1010.81,\n",
       "    'sea_level': 1010.81,\n",
       "    'grnd_level': 987.47,\n",
       "    'humidity': 84,\n",
       "    'temp_kf': 0},\n",
       "   'weather': [{'id': 600,\n",
       "     'main': 'Snow',\n",
       "     'description': 'небольшой снегопад',\n",
       "     'icon': '13d'}],\n",
       "   'clouds': {'all': 100},\n",
       "   'wind': {'speed': 6.99, 'deg': 354.006},\n",
       "   'snow': {'3h': 0.688},\n",
       "   'sys': {'pod': 'd'},\n",
       "   'dt_txt': '2019-10-07 09:00:00'},\n",
       "  {'dt': 1570449600,\n",
       "   'main': {'temp': 2.84,\n",
       "    'temp_min': 2.84,\n",
       "    'temp_max': 2.84,\n",
       "    'pressure': 1010.51,\n",
       "    'sea_level': 1010.51,\n",
       "    'grnd_level': 986.98,\n",
       "    'humidity': 69,\n",
       "    'temp_kf': 0},\n",
       "   'weather': [{'id': 600,\n",
       "     'main': 'Snow',\n",
       "     'description': 'небольшой снегопад',\n",
       "     'icon': '13d'}],\n",
       "   'clouds': {'all': 100},\n",
       "   'wind': {'speed': 6.47, 'deg': 345.116},\n",
       "   'snow': {'3h': 0.124},\n",
       "   'sys': {'pod': 'd'},\n",
       "   'dt_txt': '2019-10-07 12:00:00'},\n",
       "  {'dt': 1570460400,\n",
       "   'main': {'temp': 2.07,\n",
       "    'temp_min': 2.07,\n",
       "    'temp_max': 2.07,\n",
       "    'pressure': 1011.25,\n",
       "    'sea_level': 1011.25,\n",
       "    'grnd_level': 987.53,\n",
       "    'humidity': 73,\n",
       "    'temp_kf': 0},\n",
       "   'weather': [{'id': 804,\n",
       "     'main': 'Clouds',\n",
       "     'description': 'пасмурно',\n",
       "     'icon': '04n'}],\n",
       "   'clouds': {'all': 100},\n",
       "   'wind': {'speed': 4.83, 'deg': 330.36},\n",
       "   'sys': {'pod': 'n'},\n",
       "   'dt_txt': '2019-10-07 15:00:00'},\n",
       "  {'dt': 1570471200,\n",
       "   'main': {'temp': 0.83,\n",
       "    'temp_min': 0.83,\n",
       "    'temp_max': 0.83,\n",
       "    'pressure': 1012.13,\n",
       "    'sea_level': 1012.13,\n",
       "    'grnd_level': 988.48,\n",
       "    'humidity': 77,\n",
       "    'temp_kf': 0},\n",
       "   'weather': [{'id': 804,\n",
       "     'main': 'Clouds',\n",
       "     'description': 'пасмурно',\n",
       "     'icon': '04n'}],\n",
       "   'clouds': {'all': 92},\n",
       "   'wind': {'speed': 4.95, 'deg': 312.123},\n",
       "   'sys': {'pod': 'n'},\n",
       "   'dt_txt': '2019-10-07 18:00:00'}],\n",
       " 'city': {'id': 524901,\n",
       "  'name': 'Moscow',\n",
       "  'coord': {'lat': 55.7522, 'lon': 37.6156},\n",
       "  'country': 'RU',\n",
       "  'timezone': 10800,\n",
       "  'sunrise': 1569987191,\n",
       "  'sunset': 1570028684}}"
      ]
     },
     "execution_count": 3,
     "metadata": {},
     "output_type": "execute_result"
    }
   ],
   "source": [
    "import requests\n",
    "from IPython.display import Image # Библиотека для отображения картинок\n",
    "from IPython.core.display import HTML # Библиотека для отображения HTML\n",
    "appid = 'c6dfe45cf458e6208c3a8c3d63269451'\n",
    "\n",
    "city_id = 524901 # Код Москвы\n",
    "\n",
    "\n",
    "res = requests.get(\"http://api.openweathermap.org/data/2.5/forecast\",\n",
    "                           params={'id': city_id, 'units': 'metric', 'lang': 'ru', 'APPID': appid})\n",
    "data = res.json()\n",
    "data "
   ]
  },
  {
   "cell_type": "markdown",
   "metadata": {},
   "source": [
    "##### Задание для самостоятельного выполнения:"
   ]
  },
  {
   "cell_type": "markdown",
   "metadata": {},
   "source": [
    "- На примере предыдущего скрипта доработайте этот код, чтобы он выводит прогноз в человекочитаемом виде (дата-время, температура, скорость ветра и русскоязычное описание погоды)"
   ]
  },
  {
   "cell_type": "markdown",
   "metadata": {},
   "source": [
    "## 3. Работа с Google Sheets"
   ]
  },
  {
   "cell_type": "markdown",
   "metadata": {},
   "source": [
    "Поработаем над более сложной задачей. Научимся создавать Google-таблицы, вставлять в них данные, красить ячейки, выделять заголовки, и читать данные из уже созданных таблиц.\n",
    "\n",
    "Для этого придется зарегистрироваться на Google, настроить проект и локально, на ваш компьютер, установить необходимые библиотеки.\n",
    "\n",
    "Вся работа будет вестись только через эти библиотеки, никаких запросов напрямую, как в предыдущем примере.\n",
    "\n",
    "Официальная документация на английском языке находится по адресу https://developers.google.com/sheets/"
   ]
  },
  {
   "cell_type": "markdown",
   "metadata": {},
   "source": [
    "## 4. Регистрация в сервисах Google и установка библиотек"
   ]
  },
  {
   "cell_type": "markdown",
   "metadata": {},
   "source": [
    "Сначала нужно зарегистрироваться на gmail.com (это вы можете сделать самостоятельно).\n",
    "Потом нужно создать проект (так Google предоставляет доступ к своим сервисам).\n",
    "\n",
    "Это долгий и нудный процесс, который позволяет понять, почему интерфейсы разработчиков Google называют самыми неудобными в мире (некоторые считают, что социальная сеть Google+ не взлетела именно по этой причине).\n",
    "\n",
    "Для этого зайдите на страницу\n",
    "https://console.developers.google.com/cloud-resource-manager и нажать “Создать проект”\n"
   ]
  },
  {
   "cell_type": "markdown",
   "metadata": {},
   "source": [
    "<img src=\"img/Task09_01.jpg\">"
   ]
  },
  {
   "cell_type": "markdown",
   "metadata": {},
   "source": [
    "Введите имя проекта и нажмите “Создать”"
   ]
  },
  {
   "cell_type": "markdown",
   "metadata": {},
   "source": [
    "<img src=\"img/Task09_02.jpg\">"
   ]
  },
  {
   "cell_type": "markdown",
   "metadata": {},
   "source": [
    "В обновленном списке проектов зайдите в меню “Права доступа”"
   ]
  },
  {
   "cell_type": "markdown",
   "metadata": {},
   "source": [
    "<img src=\"img/Task09_03.jpg\">"
   ]
  },
  {
   "cell_type": "markdown",
   "metadata": {},
   "source": [
    "В открывшемся окне нажмите “Добавить”, внесите свой email с домена gmail.com и выберите группу “Проект” - “Владелец”"
   ]
  },
  {
   "cell_type": "markdown",
   "metadata": {},
   "source": [
    "<img src=\"img/Task09_04.jpg\">"
   ]
  },
  {
   "cell_type": "markdown",
   "metadata": {},
   "source": [
    "Сохраните изменения.\n",
    "\n",
    "Может показаться странным, что вы создали проект, но вынуждены сами себе выдавать права. И это на самом деле странно, но именно такой путь пришлось пройти на момент написания этого курса, чтобы все начало работать как надо.\n",
    "\n",
    "\n",
    "Снова зайдите на страницу https://console.developers.google.com/cloud-resource-manager\n",
    "\n",
    "Выберите на своем проекте меню “Настройки” \n"
   ]
  },
  {
   "cell_type": "markdown",
   "metadata": {},
   "source": [
    "<img src=\"img/Task09_05.jpg\">"
   ]
  },
  {
   "cell_type": "markdown",
   "metadata": {},
   "source": [
    "В открывшемся окне выберите “Сервисные аккаунты”, а затем “Создать сервисный аккаунт”"
   ]
  },
  {
   "cell_type": "markdown",
   "metadata": {},
   "source": [
    "<img src=\"img/Task09_06.jpg\">"
   ]
  },
  {
   "cell_type": "markdown",
   "metadata": {},
   "source": [
    "Введите название аккаунта и нажмите “Создать”"
   ]
  },
  {
   "cell_type": "markdown",
   "metadata": {},
   "source": [
    "<img src=\"img/Task09_07.jpg\">"
   ]
  },
  {
   "cell_type": "markdown",
   "metadata": {},
   "source": [
    "Выберите роль “Владелец” и нажмите “Продолжить” "
   ]
  },
  {
   "cell_type": "markdown",
   "metadata": {},
   "source": [
    "<img src=\"img/Task09_08.jpg\">"
   ]
  },
  {
   "cell_type": "markdown",
   "metadata": {},
   "source": [
    "В появившемся окне нажмите \"Создать ключ\""
   ]
  },
  {
   "cell_type": "markdown",
   "metadata": {},
   "source": [
    "<img src=\"img/Task09_09.jpg\">"
   ]
  },
  {
   "cell_type": "markdown",
   "metadata": {},
   "source": [
    "Выберите тип ключа “json” и нажмите “Создать”"
   ]
  },
  {
   "cell_type": "markdown",
   "metadata": {},
   "source": [
    "<img src=\"img/Task09_10.jpg\">"
   ]
  },
  {
   "cell_type": "markdown",
   "metadata": {},
   "source": [
    "Будет создан и сразу же скачан файл с ключами. Сохраните его, именно благодаря ему мы сможем получать доступ к сервисам Гугл.\n",
    "\n",
    "Нажмите на кнопку с тремя горизонтальными штрихами, слева от надписи “Google APIs”, выберите пункт “API и сервисы”, а в нем подпункт “Панель управления”."
   ]
  },
  {
   "cell_type": "markdown",
   "metadata": {},
   "source": [
    "<img src=\"img/Task09_11.jpg\">"
   ]
  },
  {
   "cell_type": "markdown",
   "metadata": {},
   "source": [
    "В открывшемся окне нажмите “Включить API и сервисы”"
   ]
  },
  {
   "cell_type": "markdown",
   "metadata": {},
   "source": [
    "<img src=\"img/Task09_12.jpg\">"
   ]
  },
  {
   "cell_type": "markdown",
   "metadata": {},
   "source": [
    "Введите в строку поиска “google drive” и кликните на сервисе “Google Drive API”"
   ]
  },
  {
   "cell_type": "markdown",
   "metadata": {},
   "source": [
    "<img src=\"img/Task09_13.jpg\">"
   ]
  },
  {
   "cell_type": "markdown",
   "metadata": {},
   "source": [
    "Нажмите “Включить”"
   ]
  },
  {
   "cell_type": "markdown",
   "metadata": {},
   "source": [
    "<img src=\"img/Task09_14.jpg\">"
   ]
  },
  {
   "cell_type": "markdown",
   "metadata": {},
   "source": [
    "Сайт уведомит вас, что API включено и предупредит, что нужно создать учетные данные. Игнорируйте это предупреждение (мы уже создали сервисный аккаунт, но по непонятной причине Гугл забыл об этом)."
   ]
  },
  {
   "cell_type": "markdown",
   "metadata": {},
   "source": [
    "<img src=\"img/Task09_15.jpg\">"
   ]
  },
  {
   "cell_type": "markdown",
   "metadata": {},
   "source": [
    "Снова заходите в панель управления"
   ]
  },
  {
   "cell_type": "markdown",
   "metadata": {},
   "source": [
    "<img src=\"img/Task09_16.jpg\">"
   ]
  },
  {
   "cell_type": "markdown",
   "metadata": {},
   "source": [
    "В открывшемся окне нажмите “Включить API и сервисы”"
   ]
  },
  {
   "cell_type": "markdown",
   "metadata": {},
   "source": [
    "<img src=\"img/Task09_12.jpg\">"
   ]
  },
  {
   "cell_type": "markdown",
   "metadata": {},
   "source": [
    "Введите в строку поиска “sheet” и кликните на сервисе “Google Sheets API”"
   ]
  },
  {
   "cell_type": "markdown",
   "metadata": {},
   "source": [
    "<img src=\"img/Task09_17.jpg\">"
   ]
  },
  {
   "cell_type": "markdown",
   "metadata": {},
   "source": [
    "Убедитесь, что это API подключено. Оно должно включиться автоматически, при подключении Google Drive API. Если оно подключено, вы увидите кнопку “Управление API”, если нет - кнопку “Включить”. Включите его, при необходимости."
   ]
  },
  {
   "cell_type": "markdown",
   "metadata": {},
   "source": [
    "<img src=\"img/Task09_17-1.jpg\">"
   ]
  },
  {
   "cell_type": "markdown",
   "metadata": {},
   "source": [
    "В последний раз зайдите на страницу https://console.developers.google.com/cloud-resource-manager\n",
    "\n",
    "Выберите на своем проекте меню “Настройки” "
   ]
  },
  {
   "cell_type": "markdown",
   "metadata": {},
   "source": [
    "<img src=\"img/Task09_17-2.jpg\">"
   ]
  },
  {
   "cell_type": "markdown",
   "metadata": {},
   "source": [
    "В открывшемся окне выберите “Сервисные аккаунты”, а затем скопируйте и сохраните email сервисного аккаунта. Он пригодится вам, чтобы выдавать доступ к таблицам."
   ]
  },
  {
   "cell_type": "markdown",
   "metadata": {},
   "source": [
    "<img src=\"img/Task09_17-3.jpg\">"
   ]
  },
  {
   "cell_type": "markdown",
   "metadata": {},
   "source": [
    "Теперь переходим к установке библиотек. Выполните команду "
   ]
  },
  {
   "cell_type": "code",
   "execution_count": 1,
   "metadata": {},
   "outputs": [
    {
     "name": "stdout",
     "output_type": "stream",
     "text": [
      "Collecting google-api-python-client\n",
      "  Downloading https://files.pythonhosted.org/packages/5e/19/9fd511734c0dee8fa3d49f4109c75e7f95d3c31ed76c0e4a93fbba147807/google-api-python-client-1.7.11.tar.gz (142kB)\n",
      "Requirement already satisfied, skipping upgrade: httplib2<1dev,>=0.9.2 in c:\\program files\\python36\\lib\\site-packages (from google-api-python-client) (0.13.1)\n",
      "Requirement already satisfied, skipping upgrade: google-auth>=1.4.1 in c:\\program files\\python36\\lib\\site-packages (from google-api-python-client) (1.6.3)\n",
      "Requirement already satisfied, skipping upgrade: google-auth-httplib2>=0.0.3 in c:\\program files\\python36\\lib\\site-packages (from google-api-python-client) (0.0.3)\n",
      "Requirement already satisfied, skipping upgrade: six<2dev,>=1.6.1 in c:\\program files\\python36\\lib\\site-packages (from google-api-python-client) (1.12.0)\n",
      "Requirement already satisfied, skipping upgrade: uritemplate<4dev,>=3.0.0 in c:\\program files\\python36\\lib\\site-packages (from google-api-python-client) (3.0.0)\n",
      "Requirement already satisfied, skipping upgrade: cachetools>=2.0.0 in c:\\program files\\python36\\lib\\site-packages (from google-auth>=1.4.1->google-api-python-client) (3.1.1)\n",
      "Requirement already satisfied, skipping upgrade: pyasn1-modules>=0.2.1 in c:\\program files\\python36\\lib\\site-packages (from google-auth>=1.4.1->google-api-python-client) (0.2.2)\n",
      "Requirement already satisfied, skipping upgrade: rsa>=3.1.4 in c:\\program files\\python36\\lib\\site-packages (from google-auth>=1.4.1->google-api-python-client) (4.0)\n",
      "Requirement already satisfied, skipping upgrade: pyasn1<0.5.0,>=0.4.1 in c:\\program files\\python36\\lib\\site-packages (from pyasn1-modules>=0.2.1->google-auth>=1.4.1->google-api-python-client) (0.4.4)\n",
      "Building wheels for collected packages: google-api-python-client\n",
      "  Building wheel for google-api-python-client (setup.py): started\n",
      "  Building wheel for google-api-python-client (setup.py): finished with status 'done'\n",
      "  Created wheel for google-api-python-client: filename=google_api_python_client-1.7.11-cp36-none-any.whl size=56535 sha256=0b618f9cb220f60f894c9496aaf97f9fa5f04c9f3886fc10cdf6c7a6e32ff3d0\n",
      "  Stored in directory: C:\\Users\\ovk\\AppData\\Local\\pip\\Cache\\wheels\\b8\\f6\\f5\\b7bef1a5bc0e07ca4aa54c596b0b574c5afc07a9fddccf08f8\n",
      "Successfully built google-api-python-client\n",
      "Installing collected packages: google-api-python-client\n",
      "  Found existing installation: google-api-python-client 1.7.10\n",
      "    Uninstalling google-api-python-client-1.7.10:\n"
     ]
    },
    {
     "name": "stderr",
     "output_type": "stream",
     "text": [
      "ERROR: Could not install packages due to an EnvironmentError: [WinError 5] Отказано в доступе: 'c:\\\\program files\\\\python36\\\\lib\\\\site-packages\\\\apiclient\\\\__init__.py'\n",
      "Consider using the `--user` option or check the permissions.\n",
      "\n"
     ]
    }
   ],
   "source": [
    "! pip3 install --upgrade google-api-python-client"
   ]
  },
  {
   "cell_type": "markdown",
   "metadata": {},
   "source": [
    "а затем "
   ]
  },
  {
   "cell_type": "code",
   "execution_count": null,
   "metadata": {},
   "outputs": [],
   "source": [
    "! pip3 install oauth2client "
   ]
  },
  {
   "cell_type": "markdown",
   "metadata": {},
   "source": [
    "Возможно, что при запуске второй команды вы получите сообщение, что библиотека oauth2client уже установлена.   \n",
    "\n",
    "Зайдите на страницу \n",
    "https://raw.githubusercontent.com/gsuitedevs/python-samples/master/sheets/quickstart/quickstart.py\n",
    "\n",
    "Нажмите правую кнопку мышки и выберите “Сохранить как”"
   ]
  },
  {
   "cell_type": "markdown",
   "metadata": {},
   "source": [
    "<img src=\"img/Task09_18.jpg\">"
   ]
  },
  {
   "cell_type": "markdown",
   "metadata": {},
   "source": [
    "Сохраните файл под именем quickstart.py\n",
    "\n",
    "и запустите его командой \n",
    "\n",
    "python quickstart.py"
   ]
  },
  {
   "cell_type": "markdown",
   "metadata": {},
   "source": [
    "Откроется новая страница в браузере (возможно, он скажет, что страница небезопасная, но смело идите вперед) и вам надо будет принять условия. \n",
    "\n",
    "На этом наш путь завершен."
   ]
  },
  {
   "cell_type": "markdown",
   "metadata": {},
   "source": [
    "## 5. Заполнение и форматирование таблицы"
   ]
  },
  {
   "cell_type": "markdown",
   "metadata": {},
   "source": [
    "Создадим первую таблицу"
   ]
  },
  {
   "cell_type": "code",
   "execution_count": 2,
   "metadata": {},
   "outputs": [
    {
     "name": "stdout",
     "output_type": "stream",
     "text": [
      "https://docs.google.com/spreadsheets/d/1TP9cyW0juX1r5iaT9xnLUMNKCynGkT5YDRuypd3CYRU\n"
     ]
    }
   ],
   "source": [
    "# Подключаем библиотеки\n",
    "import httplib2 \n",
    "import apiclient.discovery\n",
    "from oauth2client.service_account import ServiceAccountCredentials\n",
    "\n",
    "CREDENTIALS_FILE = 'seraphic-effect-248407-7ac2c44ec709.json'  # Имя файла с закрытым ключом, вы должны подставить свое\n",
    "\n",
    "# Читаем ключи из файла\n",
    "credentials = ServiceAccountCredentials.from_json_keyfile_name(CREDENTIALS_FILE, ['https://www.googleapis.com/auth/spreadsheets',\n",
    "                                                                                  'https://www.googleapis.com/auth/drive'])\n",
    "\n",
    "httpAuth = credentials.authorize(httplib2.Http()) # Авторизуемся в системе\n",
    "service = apiclient.discovery.build('sheets', 'v4', http = httpAuth) # Выбираем работу с таблицами и 4 версию API \n",
    "\n",
    "spreadsheet = service.spreadsheets().create(body = {\n",
    "    'properties': {'title': 'Первый тестовый документ', 'locale': 'ru_RU'},\n",
    "    'sheets': [{'properties': {'sheetType': 'GRID',\n",
    "                               'sheetId': 0,\n",
    "                               'title': 'Лист номер один',\n",
    "                               'gridProperties': {'rowCount': 100, 'columnCount': 15}}}]\n",
    "}).execute()\n",
    "spreadsheetId = spreadsheet['spreadsheetId']\n",
    "print('https://docs.google.com/spreadsheets/d/' + spreadsheetId)"
   ]
  },
  {
   "cell_type": "markdown",
   "metadata": {},
   "source": [
    "Если все прошло без ошибок - на экран будет выведена ссылка на таблицу. \n",
    "\n",
    "В этой ссылки использован идентификатор файла, мы сохраняем его в переменной spreadsheetId и будем использовать в дальнейшем. \n",
    "\n",
    "Переходите по ней. Гугл сообщит вам, что у вас нет доступа\n"
   ]
  },
  {
   "cell_type": "markdown",
   "metadata": {},
   "source": [
    "<img src=\"img/Task09_19.jpg\">"
   ]
  },
  {
   "cell_type": "markdown",
   "metadata": {},
   "source": [
    "Не запрашивайте разрешение! Вам придет уведомление, что невозможно доставить письмо с запросом на адрес, который сам Гугл назначил системному аккаунту. А изменить этот адрес нельзя. Возможно, это не работает только в бесплатном режиме.\n",
    "\n",
    "Но мы можем выдать себе доступ через Google Drive. Вам нужно заменить адрес my_test_address@gmail.com на свой."
   ]
  },
  {
   "cell_type": "code",
   "execution_count": 3,
   "metadata": {},
   "outputs": [],
   "source": [
    "driveService = apiclient.discovery.build('drive', 'v3', http = httpAuth) # Выбираем работу с Google Drive и 3 версию API\n",
    "access = driveService.permissions().create(\n",
    "    fileId = spreadsheetId,\n",
    "    body = {'type': 'user', 'role': 'writer', 'emailAddress': 'my_test_address@gmail.com'},  # Открываем доступ на редактирование\n",
    "    fields = 'id'\n",
    ").execute()\n"
   ]
  },
  {
   "cell_type": "markdown",
   "metadata": {},
   "source": [
    "Теперь у вас есть доступ, не закрывайте таблицу, мы будем управлять ею и сразу же смотреть на изменения.\n",
    "\n",
    "У каждого документа есть свой код - spreadsheetId - именно от отображается в адресной строке, когда мы открываем таблицу в браузере (в URL-е страницы с открытой таблицей он находится между \"https://docs.google.com/spreadsheets/d/\" и \"/edit#gid=0\").\n",
    "\n",
    "Мы сохранили его в переменной spreadsheetId и дальше будем с ним работать."
   ]
  },
  {
   "cell_type": "markdown",
   "metadata": {},
   "source": [
    "<img src=\"img/Task09_20.jpg\">"
   ]
  },
  {
   "cell_type": "markdown",
   "metadata": {},
   "source": [
    "Сначала немного теории. \n",
    "\n",
    "В каждом файле (spreadsheet) находятся листы-вкладки (sheet). \n",
    "\n",
    "Каждый sheet имеет свой числовой код (sheetId). У первого созданного в документе листа этот код равен 0. Остальные листы имеют сильно отличные от нуля id (т.е. они не нумеруются подряд).\n",
    "\n",
    "Убедимся в этом"
   ]
  },
  {
   "cell_type": "code",
   "execution_count": 3,
   "metadata": {},
   "outputs": [],
   "source": [
    "# Добавление листа\n",
    "results = service.spreadsheets().batchUpdate(\n",
    "    spreadsheetId = spreadsheetId,\n",
    "    body = \n",
    "{\n",
    "  \"requests\": [\n",
    "    {\n",
    "      \"addSheet\": {\n",
    "        \"properties\": {\n",
    "          \"title\": \"Еще один лист\",\n",
    "          \"gridProperties\": {\n",
    "            \"rowCount\": 20,\n",
    "            \"columnCount\": 12\n",
    "          }\n",
    "        }\n",
    "      }\n",
    "    }\n",
    "  ]\n",
    "}).execute()"
   ]
  },
  {
   "cell_type": "code",
   "execution_count": 4,
   "metadata": {},
   "outputs": [
    {
     "name": "stdout",
     "output_type": "stream",
     "text": [
      "Title =  Лист номер один ID =  0\n",
      "Мы будем использовать лист с ID =  0\n"
     ]
    }
   ],
   "source": [
    "# Получаем список листов, их ID и название\n",
    "spreadsheet = service.spreadsheets().get(spreadsheetId = spreadsheetId).execute()\n",
    "sheetList = spreadsheet.get('sheets')\n",
    "for sheet in sheetList:\n",
    "    print('Title = ', sheet['properties']['title'], 'ID = ', sheet['properties']['sheetId'])\n",
    "    \n",
    "sheetId = sheetList[0]['properties']['sheetId']\n",
    "\n",
    "print('Мы будем использовать лист с ID = ', sheetId)"
   ]
  },
  {
   "cell_type": "markdown",
   "metadata": {},
   "source": [
    "В самом деле, первый лист имеет id равный нулю, а второй пронумерован иначе.\n",
    "\n",
    "Еще один вопрос: как указывать диапазоны ячеек.\n",
    "Видимо, таблицы Гугл разрабатывали разные команды, под руководством разных менеджеров и при помощи разных архитекторов.\n",
    "Потому, что координаты ячеек задаются двумя разными способами.\n",
    "\n",
    "Вариант 1: в формате текста \"Лист номер один!B2:D5\", т.е. имя листа, после него восклицательный знак, после - левая верхняя ячейка в формате “буква (колонка) + цифра (строка)” + правая нижняя ячейка в таком же формате.\n",
    "\n",
    "Вариант 2: в json-формате, с указанием ID листа и координат левой верхней и правой нижней ячеек в числовом виде (номер строки и номер столбца)\n",
    "\n",
    "    'range':\n",
    "    {\n",
    "    'sheetId': sheetId, # ID листа\n",
    "    'startRowIndex': 1, # Со строки номер startRowIndex \n",
    "    'endRowIndex': 5,# по endRowIndex - 1 (endRowIndex не входит!)\n",
    "    'startColumnIndex': 0, # Со столбца номер startColumnIndex \n",
    "    'endColumnIndex': 1 # по endColumnIndex - 1\n",
    "    },"
   ]
  },
  {
   "cell_type": "markdown",
   "metadata": {},
   "source": [
    "Разные функции используют разные форматы.\n",
    "\n",
    "Теперь можно заполнить ячейки данными, нарисовать рамку и выделить заголовки."
   ]
  },
  {
   "cell_type": "code",
   "execution_count": 5,
   "metadata": {},
   "outputs": [],
   "source": [
    "results = service.spreadsheets().values().batchUpdate(spreadsheetId = spreadsheetId, body = {\n",
    "    \"valueInputOption\": \"USER_ENTERED\", # Данные воспринимаются, как вводимые пользователем (считается значение формул)\n",
    "    \"data\": [\n",
    "        {\"range\": \"Лист номер один!B2:D5\",\n",
    "         \"majorDimension\": \"ROWS\",     # Сначала заполнять строки, затем столбцы\n",
    "         \"values\": [[\"Ячейка B2\", \"Ячейка C2\", \"Ячейка D2\"], # Заполняем первую строку\n",
    "                    ['25', \"=6*6\", \"=sin(3,14/2)\"]  # Заполняем вторую строку\n",
    "                   ]}\n",
    "    ]\n",
    "}).execute()"
   ]
  },
  {
   "cell_type": "markdown",
   "metadata": {},
   "source": [
    "Заполняем несколько ячеек данными. Т.к. указан параметр USER_ENTERED, таблица воспринимает эти данные так, как восприняла бы ввод руками пользователя - преобразует числовые значения в числа, а значения, начинающиеся со знака “равно” в формулы. \n",
    "\n",
    "Посмотрите в вашу таблицу, она заполнилась данными"
   ]
  },
  {
   "cell_type": "markdown",
   "metadata": {},
   "source": [
    "<img src=\"img/Task09_21.jpg\">"
   ]
  },
  {
   "cell_type": "markdown",
   "metadata": {},
   "source": [
    "Зададим ширину колонок. Функция batchUpdate может принимать несколько команд сразу, так что мы одним запросом установим ширину трех групп колонок, а одной из групп две колонки, а двух других по одной."
   ]
  },
  {
   "cell_type": "code",
   "execution_count": 6,
   "metadata": {},
   "outputs": [],
   "source": [
    "results = service.spreadsheets().batchUpdate(spreadsheetId = spreadsheetId, body = {\n",
    "  \"requests\": [\n",
    "\n",
    "    # Задать ширину столбца A: 20 пикселей\n",
    "    {\n",
    "      \"updateDimensionProperties\": {\n",
    "        \"range\": {\n",
    "          \"sheetId\": sheetId,\n",
    "          \"dimension\": \"COLUMNS\",  # Задаем ширину колонки\n",
    "          \"startIndex\": 0,         # Нумерация начинается с нуля\n",
    "          \"endIndex\": 1            # Со столбца номер startIndex по endIndex - 1 (endIndex не входит!)\n",
    "        },\n",
    "        \"properties\": {\n",
    "          \"pixelSize\": 20     # Ширина в пикселях\n",
    "        },\n",
    "        \"fields\": \"pixelSize\"  # Указываем, что нужно использовать параметр pixelSize  \n",
    "      }\n",
    "    },\n",
    "\n",
    "    # Задать ширину столбцов B и C: 150 пикселей\n",
    "    {\n",
    "      \"updateDimensionProperties\": {\n",
    "        \"range\": {\n",
    "          \"sheetId\": sheetId,\n",
    "          \"dimension\": \"COLUMNS\",\n",
    "          \"startIndex\": 1,\n",
    "          \"endIndex\": 3\n",
    "        },\n",
    "        \"properties\": {\n",
    "          \"pixelSize\": 150\n",
    "        },\n",
    "        \"fields\": \"pixelSize\"\n",
    "      }\n",
    "    },\n",
    "\n",
    "    # Задать ширину столбца D: 200 пикселей\n",
    "    {\n",
    "      \"updateDimensionProperties\": {\n",
    "        \"range\": {\n",
    "          \"sheetId\": sheetId,\n",
    "          \"dimension\": \"COLUMNS\",\n",
    "          \"startIndex\": 3,\n",
    "          \"endIndex\": 4\n",
    "        },\n",
    "        \"properties\": {\n",
    "          \"pixelSize\": 200\n",
    "        },\n",
    "        \"fields\": \"pixelSize\"\n",
    "      }\n",
    "    }\n",
    "  ]\n",
    "}).execute()"
   ]
  },
  {
   "cell_type": "markdown",
   "metadata": {},
   "source": [
    "Посмотрите на таблицу, ширины колонок изменились."
   ]
  },
  {
   "cell_type": "markdown",
   "metadata": {},
   "source": [
    "<img src=\"img/Task09_22.jpg\">"
   ]
  },
  {
   "cell_type": "markdown",
   "metadata": {},
   "source": [
    "Нарисуем рамку вокруг таблицы"
   ]
  },
  {
   "cell_type": "code",
   "execution_count": 7,
   "metadata": {},
   "outputs": [],
   "source": [
    "# Рисуем рамку\n",
    "results = service.spreadsheets().batchUpdate(\n",
    "    spreadsheetId = spreadsheetId,\n",
    "    body = {\n",
    "        \"requests\": [\n",
    "            {'updateBorders': {'range': {'sheetId': sheetId,\n",
    "                             'startRowIndex': 1,\n",
    "                             'endRowIndex': 3,\n",
    "                             'startColumnIndex': 1,\n",
    "                             'endColumnIndex': 4},\n",
    "                   'bottom': {  # Задаем стиль для верхней границы\n",
    "                              'style': 'SOLID', # Сплошная линия\n",
    "                              'width': 1,       # Шириной 1 пиксель\n",
    "                              'color': {'red': 0, 'green': 0, 'blue': 0, 'alpha': 1}}, # Черный цвет\n",
    "                   'top': {     # Задаем стиль для нижней границы\n",
    "                              'style': 'SOLID',\n",
    "                              'width': 1,\n",
    "                              'color': {'red': 0, 'green': 0, 'blue': 0, 'alpha': 1}},\n",
    "                   'left': {    # Задаем стиль для левой границы\n",
    "                              'style': 'SOLID',\n",
    "                              'width': 1,\n",
    "                              'color': {'red': 0, 'green': 0, 'blue': 0, 'alpha': 1}},\n",
    "                   'right': {    # Задаем стиль для правой границы\n",
    "                              'style': 'SOLID',\n",
    "                              'width': 1,\n",
    "                              'color': {'red': 0, 'green': 0, 'blue': 0, 'alpha': 1}},\n",
    "                   'innerHorizontal': {   # Задаем стиль для внутренних горизонтальных линий\n",
    "                              'style': 'SOLID',\n",
    "                              'width': 1,\n",
    "                              'color': {'red': 0, 'green': 0, 'blue': 0, 'alpha': 1}},\n",
    "                   'innerVertical': {     # Задаем стиль для внутренних вертикальных линий\n",
    "                              'style': 'SOLID',\n",
    "                              'width': 1,\n",
    "                              'color': {'red': 0, 'green': 0, 'blue': 0, 'alpha': 1}}\n",
    "                              \n",
    "                              }}\n",
    "        ]\n",
    "    }).execute()"
   ]
  },
  {
   "cell_type": "markdown",
   "metadata": {},
   "source": [
    "<img src=\"img/Task09_23.jpg\">"
   ]
  },
  {
   "cell_type": "markdown",
   "metadata": {},
   "source": [
    "Объединим ячейки над таблицей и впишем в них заголовок"
   ]
  },
  {
   "cell_type": "code",
   "execution_count": 8,
   "metadata": {},
   "outputs": [],
   "source": [
    "# Объединяем ячейки A2:D1\n",
    "results = service.spreadsheets().batchUpdate(\n",
    "    spreadsheetId = spreadsheetId,\n",
    "    body = {\n",
    "        \"requests\": [\n",
    "            {'mergeCells': {'range': {'sheetId': sheetId,\n",
    "                          'startRowIndex': 0,\n",
    "                          'endRowIndex': 1,\n",
    "                          'startColumnIndex': 1,\n",
    "                          'endColumnIndex': 4},\n",
    "                'mergeType': 'MERGE_ALL'}}\n",
    "        ]\n",
    "    }).execute()\n",
    "# Добавляем заголовок таблицы\n",
    "results = service.spreadsheets().values().batchUpdate(spreadsheetId = spreadsheetId, body = {\n",
    "    \"valueInputOption\": \"USER_ENTERED\", # Данные воспринимаются, как вводимые пользователем (считается значение формул)\n",
    "    \"data\": [\n",
    "        {\"range\": \"Лист номер один!B1\",\n",
    "         \"majorDimension\": \"ROWS\",     # Сначала заполнять строки, затем столбцы\n",
    "         \"values\": [[\"Заголовок таблицы\" ] \n",
    "                   ]}\n",
    "    ]\n",
    "}).execute()"
   ]
  },
  {
   "cell_type": "markdown",
   "metadata": {},
   "source": [
    "<img src=\"img/Task09_25.jpg\">"
   ]
  },
  {
   "cell_type": "markdown",
   "metadata": {},
   "source": [
    "Установим формат у ячеек заголовка таблицы"
   ]
  },
  {
   "cell_type": "code",
   "execution_count": 9,
   "metadata": {},
   "outputs": [],
   "source": [
    "# Установка формата ячеек\n",
    "results = service.spreadsheets().batchUpdate(\n",
    "    spreadsheetId = spreadsheetId,\n",
    "    body = \n",
    "{\n",
    "  \"requests\": \n",
    "  [\n",
    "    {\n",
    "      \"repeatCell\": \n",
    "      {\n",
    "        \"cell\": \n",
    "        {\n",
    "          \"userEnteredFormat\": \n",
    "          {\n",
    "            \"horizontalAlignment\": 'CENTER',\n",
    "            \"backgroundColor\": {\n",
    "                \"red\": 0.8,\n",
    "                \"green\": 0.8,\n",
    "                \"blue\": 0.8,\n",
    "                \"alpha\": 1\n",
    "            },\n",
    "            \"textFormat\":\n",
    "             {\n",
    "               \"bold\": True,\n",
    "               \"fontSize\": 14\n",
    "             }\n",
    "          }\n",
    "        },\n",
    "        \"range\": \n",
    "        {\n",
    "          \"sheetId\": sheetId,\n",
    "          \"startRowIndex\": 1,\n",
    "          \"endRowIndex\": 2,\n",
    "          \"startColumnIndex\": 1,\n",
    "          \"endColumnIndex\": 4\n",
    "        },\n",
    "        \"fields\": \"userEnteredFormat\"\n",
    "      }\n",
    "    }\n",
    "  ]\n",
    "}).execute()"
   ]
  },
  {
   "cell_type": "markdown",
   "metadata": {},
   "source": [
    "<img src=\"img/Task09_26.jpg\">"
   ]
  },
  {
   "cell_type": "markdown",
   "metadata": {},
   "source": [
    "Есть простой способ узнать, какую ширину или цвет нужно задать ячейке.\n",
    "Для этого достаточно вручную отформатировать одну из ячеек и прочитать ее свойства."
   ]
  },
  {
   "cell_type": "code",
   "execution_count": 10,
   "metadata": {},
   "outputs": [
    {
     "name": "stdout",
     "output_type": "stream",
     "text": [
      "Основные данные\n",
      "{'title': 'Первый тестовый документ', 'locale': 'ru_RU', 'autoRecalc': 'ON_CHANGE', 'timeZone': 'Etc/GMT', 'defaultFormat': {'backgroundColor': {'red': 1, 'green': 1, 'blue': 1}, 'padding': {'top': 2, 'right': 3, 'bottom': 2, 'left': 3}, 'verticalAlignment': 'BOTTOM', 'wrapStrategy': 'OVERFLOW_CELL', 'textFormat': {'foregroundColor': {}, 'fontFamily': 'arial,sans,sans-serif', 'fontSize': 10, 'bold': False, 'italic': False, 'strikethrough': False, 'underline': False}}}\n",
      "\n",
      "Значения и раскраска\n",
      "[{'values': [{'userEnteredValue': {'stringValue': 'Ячейка C2'}, 'effectiveValue': {'stringValue': 'Ячейка C2'}, 'formattedValue': 'Ячейка C2', 'userEnteredFormat': {'backgroundColor': {'red': 0.06666667, 'green': 0.33333334, 'blue': 0.8}, 'horizontalAlignment': 'CENTER', 'textFormat': {'foregroundColor': {'green': 1}, 'fontSize': 14, 'bold': True}}, 'effectiveFormat': {'backgroundColor': {'red': 0.06666667, 'green': 0.33333334, 'blue': 0.8}, 'padding': {'top': 2, 'right': 3, 'bottom': 2, 'left': 3}, 'horizontalAlignment': 'CENTER', 'verticalAlignment': 'BOTTOM', 'wrapStrategy': 'OVERFLOW_CELL', 'textFormat': {'foregroundColor': {'green': 1}, 'fontFamily': 'Arial', 'fontSize': 14, 'bold': True, 'italic': False, 'strikethrough': False, 'underline': False}, 'hyperlinkDisplayType': 'PLAIN_TEXT'}}]}]\n",
      "\n",
      "Высота ячейки\n",
      "[{'pixelSize': 21}]\n",
      "\n",
      "Ширина ячейки\n",
      "[{'pixelSize': 150}]\n"
     ]
    }
   ],
   "source": [
    "ranges = [\"Лист номер один!C2:C2\"] # \n",
    "          \n",
    "results = service.spreadsheets().get(spreadsheetId = spreadsheetId, \n",
    "                                     ranges = ranges, includeGridData = True).execute()\n",
    "print('Основные данные')\n",
    "print(results['properties'])\n",
    "print('\\nЗначения и раскраска')\n",
    "print(results['sheets'][0]['data'][0]['rowData'] )\n",
    "print('\\nВысота ячейки')\n",
    "print(results['sheets'][0]['data'][0]['rowMetadata'])\n",
    "print('\\nШирина ячейки')\n",
    "print(results['sheets'][0]['data'][0]['columnMetadata'])\n"
   ]
  },
  {
   "cell_type": "markdown",
   "metadata": {},
   "source": [
    "Этот код выведет свойства ячейки C2. Можно выбрать шрифт и цвет заливки вручную (в таблице), в потом увидеть, как они отражаются в json."
   ]
  },
  {
   "cell_type": "markdown",
   "metadata": {},
   "source": [
    "##### Задание для самостоятельного выполнения:"
   ]
  },
  {
   "cell_type": "markdown",
   "metadata": {},
   "source": [
    "- Сделайте заголовок таблицы цветным, курсивным и крупным. На ваш вкус."
   ]
  },
  {
   "cell_type": "markdown",
   "metadata": {},
   "source": [
    "## 6. Чтение данных из таблицы"
   ]
  },
  {
   "cell_type": "markdown",
   "metadata": {},
   "source": [
    "Чтобы особенности чтения данных проявились в полной мере, я заполнил ячейки B4, C7 и D5 как показано на рисунке."
   ]
  },
  {
   "cell_type": "markdown",
   "metadata": {},
   "source": [
    "<img src=\"img/Task09_27.jpg\">"
   ]
  },
  {
   "cell_type": "markdown",
   "metadata": {},
   "source": [
    "Код для чтения данных"
   ]
  },
  {
   "cell_type": "code",
   "execution_count": 16,
   "metadata": {},
   "outputs": [
    {
     "data": {
      "text/plain": [
       "[['', 'Ячейка B2', 'Ячейка C2', 'Ячейка D2'],\n",
       " ['', 25, '=6*6', '=sin(3,14/2)'],\n",
       " [],\n",
       " ['', '', 'ййй', 1],\n",
       " ['', '', 'рррллол', 2],\n",
       " ['', '', '', 3]]"
      ]
     },
     "execution_count": 16,
     "metadata": {},
     "output_type": "execute_result"
    }
   ],
   "source": [
    "ranges = [\"Лист номер один!A2:F8\"] # \n",
    "          \n",
    "results = service.spreadsheets().values().batchGet(spreadsheetId = spreadsheetId, \n",
    "                                     ranges = ranges, \n",
    "                                     valueRenderOption = 'FORMULA',  \n",
    "                                     dateTimeRenderOption = 'FORMATTED_STRING').execute() \n",
    "sheet_values = results['valueRanges'][0]['values']\n",
    "sheet_values\n"
   ]
  },
  {
   "cell_type": "markdown",
   "metadata": {},
   "source": [
    "Некоторые параметры функции:\n",
    "valueRenderOption - формат чтения числовых данных.\n",
    "- FORMATTED_VALUE  - чтение с учетом формата отображения. Т.е. что было видно в таблице, то и прочитается. Например, в ячейке D3 число 0,9999999, но выбран формат “два знака после запятой”, поэтому отображается “1,00”, именно в таком формате оно и прочитается.\n",
    "- UNFORMATTED_VALUE - читается содержимое ячейки, без учета настроек форматирование (т.е. прочиталось бы 0,9999999)\n",
    "- FORMULA - отображается формула (в этом случае “=sin(3,14/2)”. Если в ячейке введено число, то в этом режиме оно и прочитается."
   ]
  },
  {
   "cell_type": "markdown",
   "metadata": {},
   "source": [
    "Этот код читает данные и построчно выводит их на экран.\n",
    "Читаемый диапазон A2:F8.\n",
    "\n",
    "Как видно на экране:\n",
    "1. Если ни одна ячейка в читаемой строке не заполнена - данные по строке не выводятся.\n",
    "2. Данные после последней заполненной ячейки не выводятся.\n"
   ]
  },
  {
   "cell_type": "markdown",
   "metadata": {},
   "source": [
    "##### Задание для самостоятельного выполнения:"
   ]
  },
  {
   "cell_type": "markdown",
   "metadata": {},
   "source": [
    "- Создайте и заполните данными новый файл.\n",
    "- Выдайте доступ своему сервисному аккаунту\n",
    "- Скопируйте идентификатор файле (в URL-е страницы с открытой таблицей он находится между “https://docs.google.com/spreadsheets/d/” и “/edit#gid=0”).\n",
    "- Используя этот spreadsheetId прочитайте данные из своего файла и выведите их на экран.\n"
   ]
  },
  {
   "cell_type": "code",
   "execution_count": null,
   "metadata": {},
   "outputs": [],
   "source": []
  }
 ],
 "metadata": {
  "kernelspec": {
   "display_name": "Python 3",
   "language": "python",
   "name": "python3"
  },
  "language_info": {
   "codemirror_mode": {
    "name": "ipython",
    "version": 3
   },
   "file_extension": ".py",
   "mimetype": "text/x-python",
   "name": "python",
   "nbconvert_exporter": "python",
   "pygments_lexer": "ipython3",
   "version": "3.6.6"
  }
 },
 "nbformat": 4,
 "nbformat_minor": 2
}
